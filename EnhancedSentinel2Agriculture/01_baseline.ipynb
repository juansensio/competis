{
 "cells": [
  {
   "cell_type": "code",
   "execution_count": 14,
   "source": [
    "import os \n",
    "\n",
    "path = 'data/eopatches/test'\n",
    "patches = os.listdir(path)\n",
    "len(patches)"
   ],
   "outputs": [
    {
     "output_type": "execute_result",
     "data": {
      "text/plain": [
       "25"
      ]
     },
     "metadata": {},
     "execution_count": 14
    }
   ],
   "metadata": {}
  },
  {
   "cell_type": "code",
   "execution_count": 15,
   "source": [
    "from tqdm import tqdm \n",
    "import rasterio \n",
    "from rasterio.profiles import DefaultGTiffProfile\n",
    "from eolearn.core import EOPatch\n",
    "from src.utils import generate_mask_with_mean_ndvi\n",
    "\n",
    "submission_path = 'submission'\n",
    "thresholds = (0.4, 0.6)\n",
    "def generate_mask(patch):\n",
    "\n",
    "    big_target = generate_mask_with_mean_ndvi(path, patch, thresholds)\n",
    "\n",
    "    if big_target.sum() == 0:\n",
    "        big_target[0,0] = 1\n",
    "\n",
    "    # save\n",
    "    file_path = f'{path}/{patch}'\n",
    "    eopatch = EOPatch.load(file_path)\n",
    "    # Gracias a @cayala\n",
    "    tfm = rasterio.transform.from_bounds(*eopatch.bbox, eopatch.meta_info['size_x'], eopatch.meta_info['size_y'])\n",
    "    tfm = rasterio.Affine(tfm.a/4, tfm.b, tfm.c, tfm.d, tfm.e/4, tfm.f)\n",
    "    profile = DefaultGTiffProfile(count=1)\n",
    "    profile.update(\n",
    "        transform=tfm,\n",
    "        width=2000,\n",
    "        height=2000,\n",
    "        crs='epsg:32633'\n",
    "    )\n",
    "    with rasterio.open(f'{submission_path}/{patch}.tif', 'w', **profile) as dst_dataset:\n",
    "        dst_dataset.write(big_target, 1)\n",
    "    "
   ],
   "outputs": [],
   "metadata": {}
  },
  {
   "cell_type": "code",
   "execution_count": 16,
   "source": [
    "import multiprocessing\n",
    "from concurrent.futures import ProcessPoolExecutor\n",
    "import warnings\n",
    "\n",
    "warnings.simplefilter(\"ignore\")\n",
    "\n",
    "num_cores = multiprocessing.cpu_count()\n",
    "with ProcessPoolExecutor(max_workers=num_cores) as pool:\n",
    "    with tqdm(total=len(patches)) as progress:\n",
    "        futures = []\n",
    "\n",
    "        for patch in patches:\n",
    "            future = pool.submit(generate_mask, patch)\n",
    "            future.add_done_callback(lambda p: progress.update())\n",
    "            futures.append(future)\n",
    "\n",
    "        scores = []\n",
    "        for future in futures:\n",
    "            result = future.result()\n",
    "            scores.append(result)"
   ],
   "outputs": [
    {
     "output_type": "stream",
     "name": "stderr",
     "text": [
      "100%|██████████| 25/25 [00:06<00:00,  3.82it/s]\n"
     ]
    }
   ],
   "metadata": {}
  },
  {
   "cell_type": "code",
   "execution_count": 17,
   "source": [
    "!tar -C {submission_path} -zcvf submission.tar.gz ."
   ],
   "outputs": [
    {
     "output_type": "stream",
     "name": "stdout",
     "text": [
      "./\n",
      "./eopatch-23.tif\n",
      "./eopatch-17.tif\n",
      "./eopatch-21.tif\n",
      "./eopatch-11.tif\n",
      "./eopatch-18.tif\n",
      "./eopatch-12.tif\n",
      "./eopatch-25.tif\n",
      "./eopatch-13.tif\n",
      "./eopatch-08.tif\n",
      "./eopatch-10.tif\n",
      "./eopatch-22.tif\n",
      "./eopatch-09.tif\n",
      "./eopatch-20.tif\n",
      "./eopatch-19.tif\n",
      "./eopatch-02.tif\n",
      "./eopatch-06.tif\n",
      "./eopatch-14.tif\n",
      "./eopatch-03.tif\n",
      "./eopatch-05.tif\n",
      "./eopatch-16.tif\n",
      "./eopatch-04.tif\n",
      "./eopatch-15.tif\n",
      "./eopatch-01.tif\n",
      "./eopatch-07.tif\n",
      "./eopatch-24.tif\n"
     ]
    }
   ],
   "metadata": {}
  },
  {
   "cell_type": "code",
   "execution_count": 18,
   "source": [
    "sample = 'eopatch-22'\n",
    "mask_ds = rasterio.open(f'submission/{sample}.tif')\n",
    "mask_ds.crs, mask_ds.bounds, mask_ds.name"
   ],
   "outputs": [
    {
     "output_type": "execute_result",
     "data": {
      "text/plain": [
       "(CRS.from_epsg(32633),\n",
       " BoundingBox(left=569800.0, bottom=5940600.0, right=574800.0, top=5945600.0),\n",
       " 'submission/eopatch-22.tif')"
      ]
     },
     "metadata": {},
     "execution_count": 18
    }
   ],
   "metadata": {}
  },
  {
   "cell_type": "code",
   "execution_count": 19,
   "source": [
    "eopatch = EOPatch.load(f'{path}/{sample}')\n",
    "print(eopatch.bbox)"
   ],
   "outputs": [
    {
     "output_type": "stream",
     "name": "stdout",
     "text": [
      "569800.0,5940600.0,574800.0,5945600.0\n"
     ]
    }
   ],
   "metadata": {}
  },
  {
   "cell_type": "code",
   "execution_count": 20,
   "source": [
    "mask = mask_ds.read(1)\n",
    "mask.dtype, mask.shape, mask.min(), mask.max()"
   ],
   "outputs": [
    {
     "output_type": "execute_result",
     "data": {
      "text/plain": [
       "(dtype('uint8'), (2000, 2000), 0, 1)"
      ]
     },
     "metadata": {},
     "execution_count": 20
    }
   ],
   "metadata": {}
  },
  {
   "cell_type": "code",
   "execution_count": 21,
   "source": [
    "import matplotlib.pyplot as plt \n",
    "\n",
    "plt.imshow(mask)\n",
    "plt.axis('off')\n",
    "plt.show()"
   ],
   "outputs": [
    {
     "output_type": "display_data",
     "data": {
      "text/plain": [
       "<Figure size 432x288 with 1 Axes>"
      ],
      "image/png": "",
      "image/svg+xml": "<?xml version=\"1.0\" encoding=\"utf-8\" standalone=\"no\"?>\n<!DOCTYPE svg PUBLIC \"-//W3C//DTD SVG 1.1//EN\"\n  \"http://www.w3.org/Graphics/SVG/1.1/DTD/svg11.dtd\">\n<svg height=\"231.84pt\" version=\"1.1\" viewBox=\"0 0 231.84 231.84\" width=\"231.84pt\" xmlns=\"http://www.w3.org/2000/svg\" xmlns:xlink=\"http://www.w3.org/1999/xlink\">\n <metadata>\n  <rdf:RDF xmlns:cc=\"http://creativecommons.org/ns#\" xmlns:dc=\"http://purl.org/dc/elements/1.1/\" xmlns:rdf=\"http://www.w3.org/1999/02/22-rdf-syntax-ns#\">\n   <cc:Work>\n    <dc:type rdf:resource=\"http://purl.org/dc/dcmitype/StillImage\"/>\n    <dc:date>2021-07-23T19:07:03.725298</dc:date>\n    <dc:format>image/svg+xml</dc:format>\n    <dc:creator>\n     <cc:Agent>\n      <dc:title>Matplotlib v3.4.2, https://matplotlib.org/</dc:title>\n     </cc:Agent>\n    </dc:creator>\n   </cc:Work>\n  </rdf:RDF>\n </metadata>\n <defs>\n  <style type=\"text/css\">*{stroke-linecap:butt;stroke-linejoin:round;}</style>\n </defs>\n <g id=\"figure_1\">\n  <g id=\"patch_1\">\n   <path d=\"M 0 231.84 \nL 231.84 231.84 \nL 231.84 0 \nL 0 0 \nz\n\" style=\"fill:none;\"/>\n  </g>\n  <g id=\"axes_1\">\n   <g clip-path=\"url(#p4eb9f8b1da)\">\n    <image height=\"218\" id=\"image6f44f39951\" transform=\"scale(1 -1)translate(0 -218)\" width=\"218\" x=\"7.2\" xlink:href=\"data:image/png;base64,\niVBORw0KGgoAAAANSUhEUgAAANoAAADaCAYAAADAHVzbAAACf0lEQVR4nO3TQQ2AMADAQLZMGhLwbwVU0CVwp6CfjnNc9wG8au4OgD8wGgSMBgGjQcBoEDAaBIwGAaNBwGgQMBoEjAYBo0HAaBAwGgSMBgGjQcBoEDAaBIwGAaNBwGgQMBoEjAYBo0HAaBAwGgSMBgGjQcBoEDAaBIwGAaNBwGgQMBoEjAYBo0HAaBAwGgSMBgGjQcBoEDAaBIwGAaNBwGgQMBoEjAYBo0HAaBAwGgSMBgGjQcBoEDAaBIwGAaNBwGgQMBoEjAYBo0HAaBAwGgSMBgGjQcBoEDAaBIwGAaNBwGgQMBoEjAYBo0HAaBAwGgSMBgGjQcBoEDAaBIwGAaNBwGgQMBoEjAYBo0HAaBAwGgSMBgGjQcBoEDAaBIwGAaNBwGgQMBoEjAYBo0HAaBAwGgSMBgGjQcBoEDAaBIwGAaNBwGgQMBoEjAYBo0HAaBAwGgSMBgGjQcBoEDAaBIwGAaNBwGgQMBoEjAYBo0HAaBAwGgSMBgGjQcBoEDAaBIwGAaNBwGgQMBoEjAYBo0HAaBAwGgSMBgGjQcBoEDAaBIwGAaNBwGgQMBoEjAYBo0HAaBAwGgSMBgGjQcBoEDAaBIwGAaNBwGgQMBoEjAYBo0HAaBAwGgSMBgGjQcBoEDAaBIwGAaNBwGgQMBoEjAYBo0HAaBAwGgSMBgGjQcBoEDAaBIwGAaNBwGgQMBoEjAYBo0HAaBAwGgSMBgGjQcBoEDAaBIwGAaNBwGgQMBoEjAYBo0HAaBAwGgSMBgGjQcBoEDAaBIwGAaNBwGgQMBoEjAYBo0HAaBAwGgSMBgGjQcBoEDAaBIwGAaNBwGgQMBoEjAYBo0FgjrV2N8DnPUyvA1WnlDlhAAAAAElFTkSuQmCC\" y=\"-6.64\"/>\n   </g>\n  </g>\n </g>\n <defs>\n  <clipPath id=\"p4eb9f8b1da\">\n   <rect height=\"217.44\" width=\"217.44\" x=\"7.2\" y=\"7.2\"/>\n  </clipPath>\n </defs>\n</svg>\n"
     },
     "metadata": {
      "needs_background": "light"
     }
    }
   ],
   "metadata": {}
  }
 ],
 "metadata": {
  "orig_nbformat": 4,
  "language_info": {
   "name": "python",
   "version": "3.8.10",
   "mimetype": "text/x-python",
   "codemirror_mode": {
    "name": "ipython",
    "version": 3
   },
   "pygments_lexer": "ipython3",
   "nbconvert_exporter": "python",
   "file_extension": ".py"
  },
  "kernelspec": {
   "name": "python3",
   "display_name": "Python 3.8.10 64-bit ('ai4eo': conda)"
  },
  "interpreter": {
   "hash": "240ae5ca72939000dd9d192cf0451aabd57bdc81bc3e3774d47fea89562552d0"
  }
 },
 "nbformat": 4,
 "nbformat_minor": 2
}