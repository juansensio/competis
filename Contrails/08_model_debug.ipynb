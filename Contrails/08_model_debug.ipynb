{
 "cells": [
  {
   "cell_type": "code",
   "execution_count": 1,
   "metadata": {},
   "outputs": [],
   "source": [
    "%load_ext autoreload\n",
    "%autoreload 2"
   ]
  },
  {
   "cell_type": "code",
   "execution_count": 2,
   "metadata": {},
   "outputs": [
    {
     "name": "stderr",
     "output_type": "stream",
     "text": [
      "/usr/lib/python3/dist-packages/pkg_resources/__init__.py:116: PkgResourcesDeprecationWarning: 0.1.43ubuntu1 is an invalid version and will not be supported in a future release\n",
      "  warnings.warn(\n",
      "/usr/lib/python3/dist-packages/pkg_resources/__init__.py:116: PkgResourcesDeprecationWarning: 1.1build1 is an invalid version and will not be supported in a future release\n",
      "  warnings.warn(\n",
      "/usr/lib/python3/dist-packages/pkg_resources/__init__.py:116: PkgResourcesDeprecationWarning: 0.1.43ubuntu1 is an invalid version and will not be supported in a future release\n",
      "  warnings.warn(\n",
      "/usr/lib/python3/dist-packages/pkg_resources/__init__.py:116: PkgResourcesDeprecationWarning: 1.1build1 is an invalid version and will not be supported in a future release\n",
      "  warnings.warn(\n",
      "Global seed set to 42\n"
     ]
    },
    {
     "data": {
      "text/plain": [
       "42"
      ]
     },
     "execution_count": 2,
     "metadata": {},
     "output_type": "execute_result"
    }
   ],
   "source": [
    "import lightning as L\n",
    "\n",
    "L.seed_everything(42, workers=True)"
   ]
  },
  {
   "cell_type": "code",
   "execution_count": 36,
   "metadata": {},
   "outputs": [],
   "source": [
    "from src.dm import DataModule\n",
    "\n",
    "# dm = DataModule(false_color=True, t=[3, 4, 5])\n",
    "dm = DataModule(false_color=True, t=[4])\n",
    "dm.setup()"
   ]
  },
  {
   "cell_type": "code",
   "execution_count": 37,
   "metadata": {},
   "outputs": [
    {
     "data": {
      "text/plain": [
       "(torch.Size([16, 256, 256, 1, 3]), tensor(1315813.3750))"
      ]
     },
     "execution_count": 37,
     "metadata": {},
     "output_type": "execute_result"
    }
   ],
   "source": [
    "batch = next(iter(dm.train_dataloader(shuffle=False)))\n",
    "x, y, y0 = batch\n",
    "\n",
    "x.shape, x.sum()"
   ]
  },
  {
   "cell_type": "code",
   "execution_count": 38,
   "metadata": {},
   "outputs": [
    {
     "name": "stdout",
     "output_type": "stream",
     "text": [
      "torch.Size([16, 3, 256, 256])\n",
      "torch.Size([16, 64, 128, 128])\n",
      "torch.Size([16, 64, 64, 64])\n",
      "torch.Size([16, 128, 32, 32])\n",
      "torch.Size([16, 256, 16, 16])\n",
      "torch.Size([16, 512, 8, 8])\n",
      "torch.Size([16, 512, 8, 8]) torch.Size([16, 256, 16, 16])\n",
      "eo torch.Size([16, 512, 16, 16])\n",
      "ei torch.Size([16, 768, 16, 16])\n",
      "io torch.Size([16, 256, 16, 16])\n",
      "torch.Size([16, 256, 16, 16]) torch.Size([16, 128, 32, 32])\n",
      "eo torch.Size([16, 256, 32, 32])\n",
      "ei torch.Size([16, 384, 32, 32])\n",
      "io torch.Size([16, 128, 32, 32])\n",
      "torch.Size([16, 128, 32, 32]) torch.Size([16, 64, 64, 64])\n",
      "eo torch.Size([16, 128, 64, 64])\n",
      "ei torch.Size([16, 192, 64, 64])\n",
      "io torch.Size([16, 64, 64, 64])\n",
      "torch.Size([16, 64, 64, 64]) torch.Size([16, 64, 128, 128])\n",
      "eo torch.Size([16, 64, 128, 128])\n",
      "ei torch.Size([16, 128, 128, 128])\n",
      "io torch.Size([16, 32, 128, 128])\n",
      "torch.Size([16, 32, 128, 128]) None\n",
      "eo torch.Size([16, 32, 256, 256])\n",
      "io torch.Size([16, 16, 256, 256])\n"
     ]
    },
    {
     "data": {
      "text/plain": [
       "torch.Size([16, 1, 256, 256])"
      ]
     },
     "execution_count": 38,
     "metadata": {},
     "output_type": "execute_result"
    }
   ],
   "source": [
    "import segmentation_models_pytorch as smp\n",
    "from einops import rearrange\n",
    "\n",
    "model = smp.Unet()\n",
    "outputs = model(rearrange(x, 'b h w t c -> b (t c) h w'))\n",
    "\n",
    "outputs.shape"
   ]
  },
  {
   "cell_type": "code",
   "execution_count": 43,
   "metadata": {},
   "outputs": [
    {
     "data": {
      "text/plain": [
       "torch.Size([16, 1, 256, 256])"
      ]
     },
     "execution_count": 43,
     "metadata": {},
     "output_type": "execute_result"
    }
   ],
   "source": [
    "from src.module import Module\n",
    "\n",
    "module = Module()\n",
    "output2 = module(x)\n",
    "\n",
    "output2.shape"
   ]
  },
  {
   "cell_type": "markdown",
   "metadata": {},
   "source": [
    "Diferencias:\n",
    "- convt vs interpolate\n",
    "- ultimo upsample con decoder block pero sin skip connection\n",
    "- mantener canales en upsample"
   ]
  },
  {
   "cell_type": "markdown",
   "metadata": {},
   "source": []
  },
  {
   "cell_type": "markdown",
   "metadata": {},
   "source": []
  }
 ],
 "metadata": {
  "kernelspec": {
   "display_name": "Python 3",
   "language": "python",
   "name": "python3"
  },
  "language_info": {
   "codemirror_mode": {
    "name": "ipython",
    "version": 3
   },
   "file_extension": ".py",
   "mimetype": "text/x-python",
   "name": "python",
   "nbconvert_exporter": "python",
   "pygments_lexer": "ipython3",
   "version": "3.10.6"
  },
  "orig_nbformat": 4
 },
 "nbformat": 4,
 "nbformat_minor": 2
}
