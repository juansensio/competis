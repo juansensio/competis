{
 "cells": [
  {
   "cell_type": "code",
   "execution_count": 1,
   "metadata": {},
   "outputs": [],
   "source": [
    "%load_ext autoreload\n",
    "%autoreload 2"
   ]
  },
  {
   "cell_type": "code",
   "execution_count": 2,
   "metadata": {},
   "outputs": [
    {
     "name": "stderr",
     "output_type": "stream",
     "text": [
      "/usr/lib/python3/dist-packages/pkg_resources/__init__.py:116: PkgResourcesDeprecationWarning: 0.1.43ubuntu1 is an invalid version and will not be supported in a future release\n",
      "  warnings.warn(\n",
      "/usr/lib/python3/dist-packages/pkg_resources/__init__.py:116: PkgResourcesDeprecationWarning: 1.1build1 is an invalid version and will not be supported in a future release\n",
      "  warnings.warn(\n"
     ]
    }
   ],
   "source": [
    "import os\n",
    "from pathlib import Path\n",
    "import pandas as pd\n",
    "from src.module import Module\n",
    "import torch \n",
    "from src.dm import DataModule\n",
    "import torchmetrics\n",
    "from tqdm import tqdm\n",
    "import numpy as np"
   ]
  },
  {
   "cell_type": "code",
   "execution_count": 3,
   "metadata": {},
   "outputs": [
    {
     "data": {
      "text/plain": [
       "['fc_t456_resnest26d-val_metric=0.61026-epoch=56.ckpt',\n",
       " 'fc_post_r34-val_metric=0.53231-epoch=8.ckpt',\n",
       " 'fc_temp-epoch=99.ckpt',\n",
       " 'all_r34-val_metric=0.54984-epoch=10.ckpt',\n",
       " 'fc_t158_r34-epoch=42.ckpt',\n",
       " 'fc_temp_resnest26d-epoch=22.ckpt',\n",
       " 'all_r34-epoch=13.ckpt',\n",
       " 'fc_temp_resnet34-val_metric=0.59515-epoch=91.ckpt',\n",
       " 'fc_temp_lrsch-epoch=199.ckpt',\n",
       " 'fc_pre_r34-epoch=23.ckpt',\n",
       " 'fc_temp_resnest26d-val_metric=0.60265-epoch=23.ckpt',\n",
       " 'fc_post_r34-epoch=13.ckpt',\n",
       " 'fc_t456_resnest26d-epoch=99.ckpt',\n",
       " 'fc_temp-val_metric=0.58363-epoch=89.ckpt',\n",
       " 'fc_temp_resnest26d-epoch=32.ckpt',\n",
       " 'fc_t158_r34-val_metric=0.57650-epoch=41.ckpt',\n",
       " 'fc_pre_r34-val_metric=0.56219-epoch=21.ckpt',\n",
       " 'fc_temp_resnet34-epoch=99.ckpt',\n",
       " 'fc_temp_lrsch-val_metric=0.58386-epoch=67.ckpt']"
      ]
     },
     "execution_count": 3,
     "metadata": {},
     "output_type": "execute_result"
    }
   ],
   "source": [
    "checkpoints = os.listdir('./checkpoints')\n",
    "checkpoints"
   ]
  },
  {
   "cell_type": "code",
   "execution_count": 4,
   "metadata": {},
   "outputs": [],
   "source": [
    "name = \"fc_t456_resnest26d-val_metric=0.61026-epoch=56.ckpt\"\n",
    "# name = \"fc_temp_resnet34-val_metric=0.59515-epoch=91.ckpt\"\n",
    "checkpoint = f'./checkpoints/{name}'"
   ]
  },
  {
   "cell_type": "code",
   "execution_count": 5,
   "metadata": {},
   "outputs": [],
   "source": [
    "module = Module.load_from_checkpoint(checkpoint, map_location='cpu')"
   ]
  },
  {
   "cell_type": "code",
   "execution_count": 6,
   "metadata": {},
   "outputs": [],
   "source": [
    "def eval(model, device=1):\n",
    "\tdm = DataModule(false_color=True, t=(3,4,5))\n",
    "\tdm.setup()\n",
    "\tmodel.eval()\n",
    "\tmodel.cuda(device)\n",
    "\tmetric = torchmetrics.Dice().cuda(device)\n",
    "\twith torch.no_grad():\n",
    "\t\tpbar = tqdm(dm.val_dataloader())\n",
    "\t\tfor batch in pbar:\n",
    "\t\t\tx, y = batch\n",
    "\t\t\ty_hat = model(x.cuda(device))\n",
    "\t\t\tmetric(y_hat, y.cuda(device))\n",
    "\t\t\tpbar.set_description(f'Dice: {metric.compute().cpu().item():.5f}')"
   ]
  },
  {
   "cell_type": "code",
   "execution_count": 7,
   "metadata": {},
   "outputs": [
    {
     "name": "stderr",
     "output_type": "stream",
     "text": [
      "Dice: 0.61751: 100%|██████████| 116/116 [00:16<00:00,  6.86it/s]\n"
     ]
    }
   ],
   "source": [
    "eval(module)"
   ]
  },
  {
   "cell_type": "code",
   "execution_count": 8,
   "metadata": {},
   "outputs": [
    {
     "name": "stderr",
     "output_type": "stream",
     "text": [
      "/home/juan/.local/lib/python3.10/site-packages/einops/einops.py:316: TracerWarning: Converting a tensor to a Python boolean might cause the trace to be incorrect. We can't record the data flow of Python values, so this value will be treated as a constant in the future. This means that the trace might not generalize to other inputs!\n",
      "  known: Set[str] = {axis for axis in composite_axis if axis_name2known_length[axis] != _unknown_axis_length}\n",
      "/home/juan/.local/lib/python3.10/site-packages/einops/einops.py:317: TracerWarning: Converting a tensor to a Python boolean might cause the trace to be incorrect. We can't record the data flow of Python values, so this value will be treated as a constant in the future. This means that the trace might not generalize to other inputs!\n",
      "  unknown: Set[str] = {axis for axis in composite_axis if axis_name2known_length[axis] == _unknown_axis_length}\n"
     ]
    }
   ],
   "source": [
    "# OJO!!! esto hace que algunos modelos luego vayan mal !!!\n",
    "# hacer el trace en modo train\n",
    "# module.eval()\n",
    "\n",
    "module.cpu()\n",
    "module.train()\n",
    "\n",
    "traced = torch.jit.trace(module.model, torch.rand(10, 256, 256, 3, 3))\n",
    "traced.save(f'kaggle-dataset/{name[:-5]}.pt')"
   ]
  },
  {
   "cell_type": "code",
   "execution_count": 9,
   "metadata": {},
   "outputs": [],
   "source": [
    "loaded = torch.jit.load(f'kaggle-dataset/{name[:-5]}.pt')\n",
    "loaded;"
   ]
  },
  {
   "cell_type": "code",
   "execution_count": 10,
   "metadata": {},
   "outputs": [
    {
     "name": "stderr",
     "output_type": "stream",
     "text": [
      "Dice: 0.60151: 100%|██████████| 116/116 [00:34<00:00,  3.31it/s]\n"
     ]
    }
   ],
   "source": [
    "# check traced model (debería dar parecido a antes de tracear)\n",
    "\n",
    "eval(loaded)"
   ]
  },
  {
   "cell_type": "code",
   "execution_count": 11,
   "metadata": {},
   "outputs": [
    {
     "name": "stderr",
     "output_type": "stream",
     "text": [
      "Threshold: 0.100 Dice: 0.60157 Dice (post): 0.60183: 100%|██████████| 116/116 [00:14<00:00,  8.22it/s]\n",
      "Threshold: 0.200 Dice: 0.60160 Dice (post): 0.60186: 100%|██████████| 116/116 [00:14<00:00,  8.18it/s]\n",
      "Threshold: 0.300 Dice: 0.60160 Dice (post): 0.60185: 100%|██████████| 116/116 [00:14<00:00,  8.01it/s]\n",
      "Threshold: 0.400 Dice: 0.60152 Dice (post): 0.60181: 100%|██████████| 116/116 [00:14<00:00,  7.95it/s]\n",
      "Threshold: 0.500 Dice: 0.60151 Dice (post): 0.60179: 100%|██████████| 116/116 [00:14<00:00,  8.00it/s]\n",
      "Threshold: 0.600 Dice: 0.60161 Dice (post): 0.60193: 100%|██████████| 116/116 [00:14<00:00,  7.94it/s]\n",
      "Threshold: 0.700 Dice: 0.60156 Dice (post): 0.60189: 100%|██████████| 116/116 [00:14<00:00,  8.02it/s]\n",
      "Threshold: 0.800 Dice: 0.60144 Dice (post): 0.60176: 100%|██████████| 116/116 [00:14<00:00,  7.94it/s]\n",
      "Threshold: 0.900 Dice: 0.60146 Dice (post): 0.60182: 100%|██████████| 116/116 [00:14<00:00,  7.92it/s]\n"
     ]
    }
   ],
   "source": [
    "dm = DataModule(false_color=True, t=(3,4,5))\n",
    "dm.setup()\n",
    "\n",
    "loaded.eval()\n",
    "loaded.cuda(1)\n",
    "\n",
    "thresholds =  np.linspace(0.1, 0.9, 9)\n",
    "dices, dices2 = [], []\n",
    "\n",
    "for threshold in thresholds:\n",
    "\tmetric = torchmetrics.Dice(threshold=threshold).cuda(1)\n",
    "\tmetric2 = torchmetrics.Dice(threshold=threshold).cuda(1)\n",
    "\twith torch.no_grad():\n",
    "\t\tpbar = tqdm(dm.val_dataloader())\n",
    "\t\tfor batch in pbar:\n",
    "\t\t\tx, y = batch\n",
    "\t\t\ty_hat = loaded(x.cuda(1))\n",
    "\t\t\tmetric(y_hat, y.cuda(1))\n",
    "\t\t\t#  put to zero all images with less than 10 pixels with value 1\n",
    "\t\t\tpr = torch.sigmoid(y_hat) > threshold\n",
    "\t\t\tpr = pr.long()\n",
    "\t\t\tfor item in range(pr.shape[0]):\n",
    "\t\t\t\tif torch.sum(pr[item]) < 10:\n",
    "\t\t\t\t\ty_hat[item] = torch.zeros_like(pr[item])\n",
    "\t\t\tmetric2(y_hat, y.cuda(1))\n",
    "\t\t\tpbar.set_description(f'Threshold: {threshold:.3f} Dice: {metric.compute().cpu().item():.5f} Dice (post): {np.mean(metric2).compute().cpu().item():.5f}')\n",
    "\tdices.append(metric.compute().cpu().item())\n",
    "\tdices2.append(metric2.compute().cpu().item())\n",
    "\n",
    "data = pd.DataFrame({'threshold': thresholds, 'dice': dices, 'dice2': dices2})"
   ]
  },
  {
   "cell_type": "code",
   "execution_count": 12,
   "metadata": {},
   "outputs": [
    {
     "data": {
      "text/html": [
       "<div>\n",
       "<style scoped>\n",
       "    .dataframe tbody tr th:only-of-type {\n",
       "        vertical-align: middle;\n",
       "    }\n",
       "\n",
       "    .dataframe tbody tr th {\n",
       "        vertical-align: top;\n",
       "    }\n",
       "\n",
       "    .dataframe thead th {\n",
       "        text-align: right;\n",
       "    }\n",
       "</style>\n",
       "<table border=\"1\" class=\"dataframe\">\n",
       "  <thead>\n",
       "    <tr style=\"text-align: right;\">\n",
       "      <th></th>\n",
       "      <th>threshold</th>\n",
       "      <th>dice</th>\n",
       "      <th>dice2</th>\n",
       "    </tr>\n",
       "  </thead>\n",
       "  <tbody>\n",
       "    <tr>\n",
       "      <th>0</th>\n",
       "      <td>0.1</td>\n",
       "      <td>0.601569</td>\n",
       "      <td>0.601828</td>\n",
       "    </tr>\n",
       "    <tr>\n",
       "      <th>1</th>\n",
       "      <td>0.2</td>\n",
       "      <td>0.601595</td>\n",
       "      <td>0.601859</td>\n",
       "    </tr>\n",
       "    <tr>\n",
       "      <th>2</th>\n",
       "      <td>0.3</td>\n",
       "      <td>0.601597</td>\n",
       "      <td>0.601852</td>\n",
       "    </tr>\n",
       "    <tr>\n",
       "      <th>3</th>\n",
       "      <td>0.4</td>\n",
       "      <td>0.601525</td>\n",
       "      <td>0.601809</td>\n",
       "    </tr>\n",
       "    <tr>\n",
       "      <th>4</th>\n",
       "      <td>0.5</td>\n",
       "      <td>0.601505</td>\n",
       "      <td>0.601787</td>\n",
       "    </tr>\n",
       "    <tr>\n",
       "      <th>5</th>\n",
       "      <td>0.6</td>\n",
       "      <td>0.601610</td>\n",
       "      <td>0.601928</td>\n",
       "    </tr>\n",
       "    <tr>\n",
       "      <th>6</th>\n",
       "      <td>0.7</td>\n",
       "      <td>0.601560</td>\n",
       "      <td>0.601886</td>\n",
       "    </tr>\n",
       "    <tr>\n",
       "      <th>7</th>\n",
       "      <td>0.8</td>\n",
       "      <td>0.601437</td>\n",
       "      <td>0.601756</td>\n",
       "    </tr>\n",
       "    <tr>\n",
       "      <th>8</th>\n",
       "      <td>0.9</td>\n",
       "      <td>0.601455</td>\n",
       "      <td>0.601821</td>\n",
       "    </tr>\n",
       "  </tbody>\n",
       "</table>\n",
       "</div>"
      ],
      "text/plain": [
       "   threshold      dice     dice2\n",
       "0        0.1  0.601569  0.601828\n",
       "1        0.2  0.601595  0.601859\n",
       "2        0.3  0.601597  0.601852\n",
       "3        0.4  0.601525  0.601809\n",
       "4        0.5  0.601505  0.601787\n",
       "5        0.6  0.601610  0.601928\n",
       "6        0.7  0.601560  0.601886\n",
       "7        0.8  0.601437  0.601756\n",
       "8        0.9  0.601455  0.601821"
      ]
     },
     "execution_count": 12,
     "metadata": {},
     "output_type": "execute_result"
    }
   ],
   "source": [
    "data"
   ]
  },
  {
   "cell_type": "code",
   "execution_count": 13,
   "metadata": {},
   "outputs": [
    {
     "data": {
      "image/png": "[encoded data removed]",
      "text/plain": [
       "<Figure size 640x480 with 1 Axes>"
      ]
     },
     "metadata": {},
     "output_type": "display_data"
    }
   ],
   "source": [
    "data.plot(x='threshold', y=['dice', 'dice2']);"
   ]
  },
  {
   "cell_type": "code",
   "execution_count": 14,
   "metadata": {},
   "outputs": [
    {
     "data": {
      "text/plain": [
       "threshold    0.600000\n",
       "dice         0.601610\n",
       "dice2        0.601928\n",
       "Name: 5, dtype: float64"
      ]
     },
     "execution_count": 14,
     "metadata": {},
     "output_type": "execute_result"
    }
   ],
   "source": [
    "# get threshold with max dice and dice2\n",
    "data.loc[data['dice2'].idxmax()]"
   ]
  },
  {
   "cell_type": "code",
   "execution_count": 15,
   "metadata": {},
   "outputs": [
    {
     "data": {
      "text/plain": [
       "2"
      ]
     },
     "execution_count": 15,
     "metadata": {},
     "output_type": "execute_result"
    }
   ],
   "source": [
    "path = Path('/fastdata/contrails')\n",
    "\n",
    "records = os.listdir(path / 'test')\n",
    "len(records)"
   ]
  },
  {
   "cell_type": "code",
   "execution_count": 16,
   "metadata": {},
   "outputs": [
    {
     "data": {
      "text/html": [
       "<div>\n",
       "<style scoped>\n",
       "    .dataframe tbody tr th:only-of-type {\n",
       "        vertical-align: middle;\n",
       "    }\n",
       "\n",
       "    .dataframe tbody tr th {\n",
       "        vertical-align: top;\n",
       "    }\n",
       "\n",
       "    .dataframe thead th {\n",
       "        text-align: right;\n",
       "    }\n",
       "</style>\n",
       "<table border=\"1\" class=\"dataframe\">\n",
       "  <thead>\n",
       "    <tr style=\"text-align: right;\">\n",
       "      <th></th>\n",
       "      <th>min</th>\n",
       "      <th>max</th>\n",
       "      <th>mean</th>\n",
       "      <th>std</th>\n",
       "    </tr>\n",
       "  </thead>\n",
       "  <tbody>\n",
       "    <tr>\n",
       "      <th>8</th>\n",
       "      <td>175.82391</td>\n",
       "      <td>280.14868</td>\n",
       "      <td>233.67686</td>\n",
       "      <td>4.545741</td>\n",
       "    </tr>\n",
       "    <tr>\n",
       "      <th>9</th>\n",
       "      <td>180.74695</td>\n",
       "      <td>279.48690</td>\n",
       "      <td>242.25447</td>\n",
       "      <td>6.057177</td>\n",
       "    </tr>\n",
       "    <tr>\n",
       "      <th>10</th>\n",
       "      <td>181.44263</td>\n",
       "      <td>331.13394</td>\n",
       "      <td>250.75069</td>\n",
       "      <td>7.620164</td>\n",
       "    </tr>\n",
       "    <tr>\n",
       "      <th>11</th>\n",
       "      <td>179.33739</td>\n",
       "      <td>332.06036</td>\n",
       "      <td>274.41205</td>\n",
       "      <td>13.668153</td>\n",
       "    </tr>\n",
       "    <tr>\n",
       "      <th>12</th>\n",
       "      <td>187.69131</td>\n",
       "      <td>306.21823</td>\n",
       "      <td>255.52716</td>\n",
       "      <td>8.708825</td>\n",
       "    </tr>\n",
       "    <tr>\n",
       "      <th>13</th>\n",
       "      <td>179.34510</td>\n",
       "      <td>338.05670</td>\n",
       "      <td>276.60184</td>\n",
       "      <td>14.446373</td>\n",
       "    </tr>\n",
       "    <tr>\n",
       "      <th>14</th>\n",
       "      <td>178.71164</td>\n",
       "      <td>338.63330</td>\n",
       "      <td>275.35940</td>\n",
       "      <td>14.736154</td>\n",
       "    </tr>\n",
       "    <tr>\n",
       "      <th>15</th>\n",
       "      <td>178.36511</td>\n",
       "      <td>333.21048</td>\n",
       "      <td>272.56410</td>\n",
       "      <td>14.367307</td>\n",
       "    </tr>\n",
       "    <tr>\n",
       "      <th>16</th>\n",
       "      <td>137.39153</td>\n",
       "      <td>311.97977</td>\n",
       "      <td>260.42580</td>\n",
       "      <td>11.049050</td>\n",
       "    </tr>\n",
       "  </tbody>\n",
       "</table>\n",
       "</div>"
      ],
      "text/plain": [
       "          min        max       mean        std\n",
       "8   175.82391  280.14868  233.67686   4.545741\n",
       "9   180.74695  279.48690  242.25447   6.057177\n",
       "10  181.44263  331.13394  250.75069   7.620164\n",
       "11  179.33739  332.06036  274.41205  13.668153\n",
       "12  187.69131  306.21823  255.52716   8.708825\n",
       "13  179.34510  338.05670  276.60184  14.446373\n",
       "14  178.71164  338.63330  275.35940  14.736154\n",
       "15  178.36511  333.21048  272.56410  14.367307\n",
       "16  137.39153  311.97977  260.42580  11.049050"
      ]
     },
     "execution_count": 16,
     "metadata": {},
     "output_type": "execute_result"
    }
   ],
   "source": [
    "stats = pd.read_csv(path/'stats.csv', index_col=0)\n",
    "stats"
   ]
  },
  {
   "cell_type": "code",
   "execution_count": 17,
   "metadata": {},
   "outputs": [],
   "source": [
    "import torch \n",
    "import numpy as np\n",
    "\n",
    "def normalize_range(data, bounds):\n",
    "    return (data - bounds[0]) / (bounds[1] - bounds[0])\n",
    "\n",
    "class Dataset(torch.utils.data.Dataset):\n",
    "    def __init__(self, t=tuple(range(8)), path='/fastdata/contrails/test'):\n",
    "        self.records = os.listdir(path)\n",
    "        self.t = t \n",
    "        self.path = path\n",
    "\n",
    "    def __len__(self):\n",
    "        return len(self.records)\n",
    "    \n",
    "    def preprocess(self, record):\n",
    "        _T11_BOUNDS = (243, 303)\n",
    "        _CLOUD_TOP_TDIFF_BOUNDS = (-4, 5)\n",
    "        _TDIFF_BOUNDS = (-4, 2)\n",
    "        b11 = np.load(f'{self.path}/{record}/band_11.npy')[..., self.t]\n",
    "        b14 = np.load(f'{self.path}/{record}/band_14.npy')[..., self.t]\n",
    "        b15 = np.load(f'{self.path}/{record}/band_15.npy')[..., self.t]\n",
    "        r = normalize_range(b15 - b14, _TDIFF_BOUNDS)\n",
    "        g = normalize_range(b14 - b11, _CLOUD_TOP_TDIFF_BOUNDS)\n",
    "        b = normalize_range(b14, _T11_BOUNDS)\n",
    "        return np.clip(np.stack([r, g, b], axis=-1), 0, 1)\n",
    "    \n",
    "    def __getitem__(self, ix):\n",
    "        record = self.records[ix]\n",
    "        image = self.preprocess(record)\n",
    "        return record, torch.from_numpy(image) # H, W, T, C"
   ]
  },
  {
   "cell_type": "code",
   "execution_count": 18,
   "metadata": {},
   "outputs": [],
   "source": [
    "ds = Dataset((3,4,5))\n",
    "dl = torch.utils.data.DataLoader(ds, batch_size=8, num_workers=4, pin_memory=True)"
   ]
  },
  {
   "cell_type": "code",
   "execution_count": 19,
   "metadata": {},
   "outputs": [],
   "source": [
    "def rle_encode(x, fg_val=1):\n",
    "    \"\"\"\n",
    "    Args:\n",
    "        x:  numpy array of shape (height, width), 1 - mask, 0 - background\n",
    "    Returns: run length encoding as list\n",
    "    \"\"\"\n",
    "\n",
    "    dots = np.where(\n",
    "        x.T.flatten() == fg_val)[0]  # .T sets Fortran order down-then-right\n",
    "    run_lengths = []\n",
    "    prev = -2\n",
    "    for b in dots:\n",
    "        if b > prev + 1:\n",
    "            run_lengths.extend((b + 1, 0))\n",
    "        run_lengths[-1] += 1\n",
    "        prev = b\n",
    "    return run_lengths\n",
    "\n",
    "def list_to_string(x):\n",
    "    \"\"\"\n",
    "    Converts list to a string representation\n",
    "    Empty list returns '-'\n",
    "    \"\"\"\n",
    "    if x: # non-empty list\n",
    "        s = str(x).replace(\"[\", \"\").replace(\"]\", \"\").replace(\",\", \"\")\n",
    "    else:\n",
    "        s = '-'\n",
    "    return s"
   ]
  },
  {
   "cell_type": "code",
   "execution_count": 20,
   "metadata": {},
   "outputs": [],
   "source": [
    "submission = {'record_id': [],\t'encoded_pixels': []}"
   ]
  },
  {
   "cell_type": "code",
   "execution_count": 21,
   "metadata": {},
   "outputs": [],
   "source": [
    "loaded.eval()\n",
    "loaded.cuda(1)\n",
    "with torch.no_grad():\n",
    "    for records, x in dl:\n",
    "        y_hat = loaded(x.cuda(1))\n",
    "        masks = y_hat.sigmoid().cpu().numpy() > 0.5\n",
    "        masks = masks.astype(np.int32)\n",
    "        for ix in range(masks.shape[0]):\n",
    "            mask = masks[ix][0] \n",
    "            if np.sum(masks[ix]) < 10:\n",
    "                mask = np.zeros_like(mask)\n",
    "            rle = rle_encode(mask)\n",
    "            record = records[ix]\n",
    "            submission['record_id'].append(record)\n",
    "            if len(rle) == 0: \n",
    "                submission['encoded_pixels'].append('-')\n",
    "            else:\n",
    "                submission['encoded_pixels'].append(' '.join(map(str,rle)))"
   ]
  },
  {
   "cell_type": "code",
   "execution_count": 22,
   "metadata": {},
   "outputs": [
    {
     "data": {
      "text/html": [
       "<div>\n",
       "<style scoped>\n",
       "    .dataframe tbody tr th:only-of-type {\n",
       "        vertical-align: middle;\n",
       "    }\n",
       "\n",
       "    .dataframe tbody tr th {\n",
       "        vertical-align: top;\n",
       "    }\n",
       "\n",
       "    .dataframe thead th {\n",
       "        text-align: right;\n",
       "    }\n",
       "</style>\n",
       "<table border=\"1\" class=\"dataframe\">\n",
       "  <thead>\n",
       "    <tr style=\"text-align: right;\">\n",
       "      <th></th>\n",
       "      <th>record_id</th>\n",
       "      <th>encoded_pixels</th>\n",
       "    </tr>\n",
       "  </thead>\n",
       "  <tbody>\n",
       "    <tr>\n",
       "      <th>0</th>\n",
       "      <td>1002653297254493116</td>\n",
       "      <td>2284 1 2540 1 2794 2 3304 1 3814 1 4070 1 1116...</td>\n",
       "    </tr>\n",
       "    <tr>\n",
       "      <th>1</th>\n",
       "      <td>1000834164244036115</td>\n",
       "      <td>-</td>\n",
       "    </tr>\n",
       "  </tbody>\n",
       "</table>\n",
       "</div>"
      ],
      "text/plain": [
       "             record_id                                     encoded_pixels\n",
       "0  1002653297254493116  2284 1 2540 1 2794 2 3304 1 3814 1 4070 1 1116...\n",
       "1  1000834164244036115                                                  -"
      ]
     },
     "execution_count": 22,
     "metadata": {},
     "output_type": "execute_result"
    }
   ],
   "source": [
    "submission = pd.DataFrame(submission)\n",
    "submission.to_csv('submission.csv', index=False)\n",
    "submission"
   ]
  },
  {
   "cell_type": "code",
   "execution_count": 23,
   "metadata": {},
   "outputs": [
    {
     "name": "stdout",
     "output_type": "stream",
     "text": [
      "Starting upload for file fc_t456_resnest26d-val_metric=0.61026-epoch=56.pt\n",
      "100%|████████████████████████████████████████| 401M/401M [00:09<00:00, 42.2MB/s]\n",
      "Upload successful: fc_t456_resnest26d-val_metric=0.61026-epoch=56.pt (401MB)\n",
      "Starting upload for file fc_temp_resnet34-val_metric=0.58998-epoch=65.pt\n",
      "100%|████████████████████████████████████████| 104M/104M [00:03<00:00, 27.2MB/s]\n",
      "Upload successful: fc_temp_resnet34-val_metric=0.58998-epoch=65.pt (104MB)\n",
      "Starting upload for file fc_temp_resnest26d-val_metric=0.59478-epoch=21.pt\n",
      "100%|████████████████████████████████████████| 401M/401M [00:10<00:00, 39.7MB/s]\n",
      "Upload successful: fc_temp_resnest26d-val_metric=0.59478-epoch=21.pt (401MB)\n",
      "Starting upload for file stats.csv\n",
      "100%|████████████████████████████████████████████| 392/392 [00:00<00:00, 587B/s]\n",
      "Upload successful: stats.csv (392B)\n",
      "Starting upload for file fc_temp_resnest26d-val_metric=0.59128-epoch=17.pt\n",
      "100%|████████████████████████████████████████| 401M/401M [00:10<00:00, 41.2MB/s]\n",
      "Upload successful: fc_temp_resnest26d-val_metric=0.59128-epoch=17.pt (401MB)\n",
      "Starting upload for file fc_temp_resnet34-val_metric=0.59515-epoch=91.pt\n",
      "100%|████████████████████████████████████████| 104M/104M [00:03<00:00, 29.9MB/s]\n",
      "Upload successful: fc_temp_resnet34-val_metric=0.59515-epoch=91.pt (104MB)\n",
      "Dataset version is being created. Please check progress at https://www.kaggle.com/juansensio/contrail-models\n"
     ]
    }
   ],
   "source": [
    "!kaggle datasets version -m \"update\" -p kaggle-dataset"
   ]
  }
 ],
 "metadata": {
  "kernelspec": {
   "display_name": "Python 3",
   "language": "python",
   "name": "python3"
  },
  "language_info": {
   "codemirror_mode": {
    "name": "ipython",
    "version": 3
   },
   "file_extension": ".py",
   "mimetype": "text/x-python",
   "name": "python",
   "nbconvert_exporter": "python",
   "pygments_lexer": "ipython3",
   "version": "3.10.6"
  },
  "orig_nbformat": 4
 },
 "nbformat": 4,
 "nbformat_minor": 2
}
