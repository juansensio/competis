{
 "cells": [
  {
   "cell_type": "code",
   "execution_count": 1,
   "metadata": {},
   "outputs": [],
   "source": [
    "%load_ext autoreload\n",
    "%autoreload 2"
   ]
  },
  {
   "cell_type": "code",
   "execution_count": 2,
   "metadata": {},
   "outputs": [
    {
     "name": "stderr",
     "output_type": "stream",
     "text": [
      "/usr/lib/python3/dist-packages/pkg_resources/__init__.py:116: PkgResourcesDeprecationWarning: 0.1.43ubuntu1 is an invalid version and will not be supported in a future release\n",
      "  warnings.warn(\n",
      "/usr/lib/python3/dist-packages/pkg_resources/__init__.py:116: PkgResourcesDeprecationWarning: 1.1build1 is an invalid version and will not be supported in a future release\n",
      "  warnings.warn(\n"
     ]
    }
   ],
   "source": [
    "import os\n",
    "from pathlib import Path\n",
    "import pandas as pd\n",
    "from src.module import Module\n",
    "import torch \n",
    "from src.dm import DataModule\n",
    "import torchmetrics\n",
    "from tqdm import tqdm\n",
    "import numpy as np"
   ]
  },
  {
   "cell_type": "code",
   "execution_count": 3,
   "metadata": {},
   "outputs": [
    {
     "data": {
      "text/plain": [
       "['fc_t456_r18_512-epoch=8.ckpt',\n",
       " 'fc_t5_seresnextaa101d_32x8d_512-epoch=72.ckpt',\n",
       " 'fc_t5_r18_512-epoch=11.ckpt',\n",
       " 'fc_t456_r18_512-val_metric=0.39150-epoch=6.ckpt',\n",
       " 'fc_temp_resnet34-val_metric=0.59515-epoch=91.ckpt',\n",
       " 'fc_t5_r18_512-val_metric=0.51975-epoch=12.ckpt',\n",
       " 'fc_t5_r18_512-epoch=13.ckpt',\n",
       " 'fc_t5_seresnextaa101d_32x8d_512-val_metric=0.58112-epoch=72.ckpt',\n",
       " 'fc_temp_resnet34-epoch=99.ckpt']"
      ]
     },
     "execution_count": 3,
     "metadata": {},
     "output_type": "execute_result"
    }
   ],
   "source": [
    "checkpoints = os.listdir('./checkpoints')\n",
    "checkpoints"
   ]
  },
  {
   "cell_type": "code",
   "execution_count": 4,
   "metadata": {},
   "outputs": [],
   "source": [
    "name = \"fc_t5_seresnextaa101d_32x8d_512-val_metric=0.58112-epoch=72.ckpt\"\n",
    "checkpoint = f'./checkpoints/{name}'"
   ]
  },
  {
   "cell_type": "code",
   "execution_count": 5,
   "metadata": {},
   "outputs": [],
   "source": [
    "module = Module.load_from_checkpoint(checkpoint, map_location='cpu')"
   ]
  },
  {
   "cell_type": "code",
   "execution_count": 6,
   "metadata": {},
   "outputs": [],
   "source": [
    "def eval(model, device=1):\n",
    "\tdm = DataModule(false_color=True, t=[4], val_trans={'Resize': {\"height\":512, 'width':512}})\n",
    "\tdm.setup()\n",
    "\tmodel.eval()\n",
    "\tmodel.cuda(device)\n",
    "\tmetric = torchmetrics.Dice().cuda(device)\n",
    "\twith torch.no_grad():\n",
    "\t\tpbar = tqdm(dm.val_dataloader())\n",
    "\t\tfor batch in pbar:\n",
    "\t\t\tx, y, y0 = batch\n",
    "\t\t\ty_hat = model(x.cuda(device))\n",
    "\t\t\tprobas = torch.sigmoid(y_hat) > 0.5 \n",
    "\t\t\tprobas = torch.nn.functional.interpolate(probas.float(), size=y0.shape[-2:], mode='bilinear')\n",
    "\t\t\tmetric(probas, y0.cuda(device))\n",
    "\t\t\tpbar.set_description(f'Dice: {metric.compute().cpu().item():.5f}')"
   ]
  },
  {
   "cell_type": "code",
   "execution_count": 7,
   "metadata": {},
   "outputs": [
    {
     "name": "stderr",
     "output_type": "stream",
     "text": [
      "Dice: 0.62316: 100%|██████████| 116/116 [00:49<00:00,  2.33it/s]\n"
     ]
    }
   ],
   "source": [
    "eval(module)"
   ]
  },
  {
   "cell_type": "code",
   "execution_count": 8,
   "metadata": {},
   "outputs": [
    {
     "name": "stderr",
     "output_type": "stream",
     "text": [
      "/home/juan/.local/lib/python3.10/site-packages/einops/einops.py:316: TracerWarning: Converting a tensor to a Python boolean might cause the trace to be incorrect. We can't record the data flow of Python values, so this value will be treated as a constant in the future. This means that the trace might not generalize to other inputs!\n",
      "  known: Set[str] = {axis for axis in composite_axis if axis_name2known_length[axis] != _unknown_axis_length}\n",
      "/home/juan/.local/lib/python3.10/site-packages/einops/einops.py:317: TracerWarning: Converting a tensor to a Python boolean might cause the trace to be incorrect. We can't record the data flow of Python values, so this value will be treated as a constant in the future. This means that the trace might not generalize to other inputs!\n",
      "  unknown: Set[str] = {axis for axis in composite_axis if axis_name2known_length[axis] == _unknown_axis_length}\n"
     ]
    }
   ],
   "source": [
    "\n",
    "module.cpu()\n",
    "module.eval() # ojo! que esto afecta al modelo exportado (eval/train)\n",
    "# module.train()\n",
    "\n",
    "traced = torch.jit.trace(module.model, torch.rand(10, 512, 512, 1, 3))\n",
    "traced.save(f'kaggle-dataset/{name[:-5]}.pt')"
   ]
  },
  {
   "cell_type": "code",
   "execution_count": 9,
   "metadata": {},
   "outputs": [],
   "source": [
    "loaded = torch.jit.load(f'kaggle-dataset/{name[:-5]}.pt')\n",
    "loaded;"
   ]
  },
  {
   "cell_type": "code",
   "execution_count": 10,
   "metadata": {},
   "outputs": [
    {
     "name": "stderr",
     "output_type": "stream",
     "text": [
      "Dice: 0.62317: 100%|██████████| 116/116 [00:50<00:00,  2.30it/s]\n"
     ]
    }
   ],
   "source": [
    "# check traced model (debería dar parecido a antes de tracear)\n",
    "\n",
    "eval(loaded)"
   ]
  },
  {
   "cell_type": "code",
   "execution_count": 11,
   "metadata": {},
   "outputs": [
    {
     "name": "stderr",
     "output_type": "stream",
     "text": [
      "  0%|          | 0/116 [00:00<?, ?it/s]"
     ]
    },
    {
     "name": "stderr",
     "output_type": "stream",
     "text": [
      "Threshold: 0.100 Dice: 0.60841 Dice (post): 0.60844: 100%|██████████| 116/116 [00:44<00:00,  2.62it/s]\n",
      "Threshold: 0.200 Dice: 0.60902 Dice (post): 0.60908: 100%|██████████| 116/116 [00:44<00:00,  2.60it/s]\n",
      "Threshold: 0.300 Dice: 0.62292 Dice (post): 0.62296: 100%|██████████| 116/116 [00:44<00:00,  2.61it/s]\n",
      "Threshold: 0.400 Dice: 0.62304 Dice (post): 0.62309: 100%|██████████| 116/116 [00:44<00:00,  2.62it/s]\n",
      "Threshold: 0.500 Dice: 0.62317 Dice (post): 0.62321: 100%|██████████| 116/116 [00:44<00:00,  2.60it/s]\n",
      "Threshold: 0.600 Dice: 0.62246 Dice (post): 0.62252: 100%|██████████| 116/116 [00:44<00:00,  2.61it/s]\n",
      "Threshold: 0.700 Dice: 0.62226 Dice (post): 0.62227: 100%|██████████| 116/116 [00:44<00:00,  2.62it/s]\n",
      "Threshold: 0.800 Dice: 0.60921 Dice (post): 0.60922: 100%|██████████| 116/116 [00:44<00:00,  2.60it/s]\n",
      "Threshold: 0.900 Dice: 0.60779 Dice (post): 0.60779: 100%|██████████| 116/116 [00:44<00:00,  2.61it/s]\n"
     ]
    }
   ],
   "source": [
    "dm = DataModule(false_color=True, t=[4], val_trans={'Resize': {\"height\":512, 'width':512}})\n",
    "dm.setup()\n",
    "\n",
    "loaded.eval()\n",
    "loaded.cuda(1)\n",
    "\n",
    "thresholds =  np.linspace(0.1, 0.9, 9)\n",
    "dices, dices2 = [], []\n",
    "\n",
    "for threshold in thresholds:\n",
    "\tmetric = torchmetrics.Dice(threshold=threshold).cuda(1)\n",
    "\tmetric2 = torchmetrics.Dice(threshold=threshold).cuda(1)\n",
    "\twith torch.no_grad():\n",
    "\t\tpbar = tqdm(dm.val_dataloader())\n",
    "\t\tfor batch in pbar:\n",
    "\t\t\tx, y, y0 = batch\n",
    "\t\t\ty_hat = loaded(x.cuda(1))\n",
    "\t\t\t#  put to zero all images with less than 10 pixels with value 1\n",
    "\t\t\tpr = torch.sigmoid(y_hat) > threshold\n",
    "\t\t\tpr = torch.nn.functional.interpolate(pr.float(), size=y0.shape[-2:], mode='bilinear')\n",
    "\t\t\tmetric(pr, y0.cuda(1))\n",
    "\t\t\tfor item in range(pr.shape[0]):\n",
    "\t\t\t\tif torch.sum(pr[item]) < 10:\n",
    "\t\t\t\t\tpr[item] = torch.zeros_like(pr[item])\n",
    "\t\t\tmetric2(pr, y0.cuda(1))\n",
    "\t\t\tpbar.set_description(f'Threshold: {threshold:.3f} Dice: {metric.compute().cpu().item():.5f} Dice (post): {np.mean(metric2).compute().cpu().item():.5f}')\n",
    "\tdices.append(metric.compute().cpu().item())\n",
    "\tdices2.append(metric2.compute().cpu().item())\n",
    "\n",
    "data = pd.DataFrame({'threshold': thresholds, 'dice': dices, 'dice2': dices2})"
   ]
  },
  {
   "cell_type": "code",
   "execution_count": 12,
   "metadata": {},
   "outputs": [
    {
     "data": {
      "text/html": [
       "<div>\n",
       "<style scoped>\n",
       "    .dataframe tbody tr th:only-of-type {\n",
       "        vertical-align: middle;\n",
       "    }\n",
       "\n",
       "    .dataframe tbody tr th {\n",
       "        vertical-align: top;\n",
       "    }\n",
       "\n",
       "    .dataframe thead th {\n",
       "        text-align: right;\n",
       "    }\n",
       "</style>\n",
       "<table border=\"1\" class=\"dataframe\">\n",
       "  <thead>\n",
       "    <tr style=\"text-align: right;\">\n",
       "      <th></th>\n",
       "      <th>threshold</th>\n",
       "      <th>dice</th>\n",
       "      <th>dice2</th>\n",
       "    </tr>\n",
       "  </thead>\n",
       "  <tbody>\n",
       "    <tr>\n",
       "      <th>0</th>\n",
       "      <td>0.1</td>\n",
       "      <td>0.608411</td>\n",
       "      <td>0.608443</td>\n",
       "    </tr>\n",
       "    <tr>\n",
       "      <th>1</th>\n",
       "      <td>0.2</td>\n",
       "      <td>0.609023</td>\n",
       "      <td>0.609076</td>\n",
       "    </tr>\n",
       "    <tr>\n",
       "      <th>2</th>\n",
       "      <td>0.3</td>\n",
       "      <td>0.622922</td>\n",
       "      <td>0.622956</td>\n",
       "    </tr>\n",
       "    <tr>\n",
       "      <th>3</th>\n",
       "      <td>0.4</td>\n",
       "      <td>0.623036</td>\n",
       "      <td>0.623088</td>\n",
       "    </tr>\n",
       "    <tr>\n",
       "      <th>4</th>\n",
       "      <td>0.5</td>\n",
       "      <td>0.623165</td>\n",
       "      <td>0.623215</td>\n",
       "    </tr>\n",
       "    <tr>\n",
       "      <th>5</th>\n",
       "      <td>0.6</td>\n",
       "      <td>0.622463</td>\n",
       "      <td>0.622521</td>\n",
       "    </tr>\n",
       "    <tr>\n",
       "      <th>6</th>\n",
       "      <td>0.7</td>\n",
       "      <td>0.622260</td>\n",
       "      <td>0.622269</td>\n",
       "    </tr>\n",
       "    <tr>\n",
       "      <th>7</th>\n",
       "      <td>0.8</td>\n",
       "      <td>0.609212</td>\n",
       "      <td>0.609218</td>\n",
       "    </tr>\n",
       "    <tr>\n",
       "      <th>8</th>\n",
       "      <td>0.9</td>\n",
       "      <td>0.607787</td>\n",
       "      <td>0.607790</td>\n",
       "    </tr>\n",
       "  </tbody>\n",
       "</table>\n",
       "</div>"
      ],
      "text/plain": [
       "   threshold      dice     dice2\n",
       "0        0.1  0.608411  0.608443\n",
       "1        0.2  0.609023  0.609076\n",
       "2        0.3  0.622922  0.622956\n",
       "3        0.4  0.623036  0.623088\n",
       "4        0.5  0.623165  0.623215\n",
       "5        0.6  0.622463  0.622521\n",
       "6        0.7  0.622260  0.622269\n",
       "7        0.8  0.609212  0.609218\n",
       "8        0.9  0.607787  0.607790"
      ]
     },
     "execution_count": 12,
     "metadata": {},
     "output_type": "execute_result"
    }
   ],
   "source": [
    "data"
   ]
  },
  {
   "cell_type": "code",
   "execution_count": 13,
   "metadata": {},
   "outputs": [
    {
     "data": {
      "image/png": "[encoded data removed]",
      "text/plain": [
       "<Figure size 640x480 with 1 Axes>"
      ]
     },
     "metadata": {},
     "output_type": "display_data"
    }
   ],
   "source": [
    "data.plot(x='threshold', y=['dice', 'dice2']);"
   ]
  },
  {
   "cell_type": "code",
   "execution_count": 14,
   "metadata": {},
   "outputs": [
    {
     "data": {
      "text/plain": [
       "threshold    0.500000\n",
       "dice         0.623165\n",
       "dice2        0.623215\n",
       "Name: 4, dtype: float64"
      ]
     },
     "execution_count": 14,
     "metadata": {},
     "output_type": "execute_result"
    }
   ],
   "source": [
    "# get threshold with max dice and dice2\n",
    "data.loc[data['dice2'].idxmax()]"
   ]
  },
  {
   "cell_type": "code",
   "execution_count": 21,
   "metadata": {},
   "outputs": [
    {
     "data": {
      "text/plain": [
       "2"
      ]
     },
     "execution_count": 21,
     "metadata": {},
     "output_type": "execute_result"
    }
   ],
   "source": [
    "path = Path('/fastdata/contrails')\n",
    "\n",
    "records = os.listdir(path / 'test')\n",
    "len(records)"
   ]
  },
  {
   "cell_type": "code",
   "execution_count": 22,
   "metadata": {},
   "outputs": [
    {
     "data": {
      "text/html": [
       "<div>\n",
       "<style scoped>\n",
       "    .dataframe tbody tr th:only-of-type {\n",
       "        vertical-align: middle;\n",
       "    }\n",
       "\n",
       "    .dataframe tbody tr th {\n",
       "        vertical-align: top;\n",
       "    }\n",
       "\n",
       "    .dataframe thead th {\n",
       "        text-align: right;\n",
       "    }\n",
       "</style>\n",
       "<table border=\"1\" class=\"dataframe\">\n",
       "  <thead>\n",
       "    <tr style=\"text-align: right;\">\n",
       "      <th></th>\n",
       "      <th>min</th>\n",
       "      <th>max</th>\n",
       "      <th>mean</th>\n",
       "      <th>std</th>\n",
       "    </tr>\n",
       "  </thead>\n",
       "  <tbody>\n",
       "    <tr>\n",
       "      <th>8</th>\n",
       "      <td>175.82391</td>\n",
       "      <td>280.14868</td>\n",
       "      <td>233.67686</td>\n",
       "      <td>4.545741</td>\n",
       "    </tr>\n",
       "    <tr>\n",
       "      <th>9</th>\n",
       "      <td>180.74695</td>\n",
       "      <td>279.48690</td>\n",
       "      <td>242.25447</td>\n",
       "      <td>6.057177</td>\n",
       "    </tr>\n",
       "    <tr>\n",
       "      <th>10</th>\n",
       "      <td>181.44263</td>\n",
       "      <td>331.13394</td>\n",
       "      <td>250.75069</td>\n",
       "      <td>7.620164</td>\n",
       "    </tr>\n",
       "    <tr>\n",
       "      <th>11</th>\n",
       "      <td>179.33739</td>\n",
       "      <td>332.06036</td>\n",
       "      <td>274.41205</td>\n",
       "      <td>13.668153</td>\n",
       "    </tr>\n",
       "    <tr>\n",
       "      <th>12</th>\n",
       "      <td>187.69131</td>\n",
       "      <td>306.21823</td>\n",
       "      <td>255.52716</td>\n",
       "      <td>8.708825</td>\n",
       "    </tr>\n",
       "    <tr>\n",
       "      <th>13</th>\n",
       "      <td>179.34510</td>\n",
       "      <td>338.05670</td>\n",
       "      <td>276.60184</td>\n",
       "      <td>14.446373</td>\n",
       "    </tr>\n",
       "    <tr>\n",
       "      <th>14</th>\n",
       "      <td>178.71164</td>\n",
       "      <td>338.63330</td>\n",
       "      <td>275.35940</td>\n",
       "      <td>14.736154</td>\n",
       "    </tr>\n",
       "    <tr>\n",
       "      <th>15</th>\n",
       "      <td>178.36511</td>\n",
       "      <td>333.21048</td>\n",
       "      <td>272.56410</td>\n",
       "      <td>14.367307</td>\n",
       "    </tr>\n",
       "    <tr>\n",
       "      <th>16</th>\n",
       "      <td>137.39153</td>\n",
       "      <td>311.97977</td>\n",
       "      <td>260.42580</td>\n",
       "      <td>11.049050</td>\n",
       "    </tr>\n",
       "  </tbody>\n",
       "</table>\n",
       "</div>"
      ],
      "text/plain": [
       "          min        max       mean        std\n",
       "8   175.82391  280.14868  233.67686   4.545741\n",
       "9   180.74695  279.48690  242.25447   6.057177\n",
       "10  181.44263  331.13394  250.75069   7.620164\n",
       "11  179.33739  332.06036  274.41205  13.668153\n",
       "12  187.69131  306.21823  255.52716   8.708825\n",
       "13  179.34510  338.05670  276.60184  14.446373\n",
       "14  178.71164  338.63330  275.35940  14.736154\n",
       "15  178.36511  333.21048  272.56410  14.367307\n",
       "16  137.39153  311.97977  260.42580  11.049050"
      ]
     },
     "execution_count": 22,
     "metadata": {},
     "output_type": "execute_result"
    }
   ],
   "source": [
    "stats = pd.read_csv(path/'stats.csv', index_col=0)\n",
    "stats"
   ]
  },
  {
   "cell_type": "code",
   "execution_count": 41,
   "metadata": {},
   "outputs": [],
   "source": [
    "import torch \n",
    "import numpy as np\n",
    "import albumentations as A\n",
    "\n",
    "def normalize_range(data, bounds):\n",
    "    return (data - bounds[0]) / (bounds[1] - bounds[0])\n",
    "\n",
    "class Dataset(torch.utils.data.Dataset):\n",
    "    def __init__(self, t=tuple(range(8)), path='/fastdata/contrails/test'):\n",
    "        self.records = os.listdir(path)\n",
    "        self.t = t \n",
    "        self.path = path\n",
    "\n",
    "    def __len__(self):\n",
    "        return len(self.records)\n",
    "    \n",
    "    def preprocess(self, record):\n",
    "        _T11_BOUNDS = (243, 303)\n",
    "        _CLOUD_TOP_TDIFF_BOUNDS = (-4, 5)\n",
    "        _TDIFF_BOUNDS = (-4, 2)\n",
    "        b11 = np.load(f'{self.path}/{record}/band_11.npy')[..., self.t]\n",
    "        b14 = np.load(f'{self.path}/{record}/band_14.npy')[..., self.t]\n",
    "        b15 = np.load(f'{self.path}/{record}/band_15.npy')[..., self.t]\n",
    "        r = normalize_range(b15 - b14, _TDIFF_BOUNDS)\n",
    "        g = normalize_range(b14 - b11, _CLOUD_TOP_TDIFF_BOUNDS)\n",
    "        b = normalize_range(b14, _T11_BOUNDS)\n",
    "        return np.clip(np.stack([r, g, b], axis=-1), 0, 1)\n",
    "    \n",
    "    def __getitem__(self, ix):\n",
    "        record = self.records[ix]\n",
    "        image = self.preprocess(record)\n",
    "        H, W, T, C = image.shape\n",
    "        image = image.reshape(image.shape[0], image.shape[1], -1)\n",
    "        image = A.Resize(height=512, width=512)(image=image)['image']\n",
    "        image = image.reshape(512, 512, T, C)\n",
    "        return record, torch.from_numpy(image) # H, W, T, C"
   ]
  },
  {
   "cell_type": "code",
   "execution_count": 42,
   "metadata": {},
   "outputs": [],
   "source": [
    "ds = Dataset([4])\n",
    "dl = torch.utils.data.DataLoader(ds, batch_size=8, num_workers=4, pin_memory=True)"
   ]
  },
  {
   "cell_type": "code",
   "execution_count": 44,
   "metadata": {},
   "outputs": [],
   "source": [
    "def rle_encode(x, fg_val=1):\n",
    "    \"\"\"\n",
    "    Args:\n",
    "        x:  numpy array of shape (height, width), 1 - mask, 0 - background\n",
    "    Returns: run length encoding as list\n",
    "    \"\"\"\n",
    "\n",
    "    dots = np.where(\n",
    "        x.T.flatten() == fg_val)[0]  # .T sets Fortran order down-then-right\n",
    "    run_lengths = []\n",
    "    prev = -2\n",
    "    for b in dots:\n",
    "        if b > prev + 1:\n",
    "            run_lengths.extend((b + 1, 0))\n",
    "        run_lengths[-1] += 1\n",
    "        prev = b\n",
    "    return run_lengths\n",
    "\n",
    "def list_to_string(x):\n",
    "    \"\"\"\n",
    "    Converts list to a string representation\n",
    "    Empty list returns '-'\n",
    "    \"\"\"\n",
    "    if x: # non-empty list\n",
    "        s = str(x).replace(\"[\", \"\").replace(\"]\", \"\").replace(\",\", \"\")\n",
    "    else:\n",
    "        s = '-'\n",
    "    return s"
   ]
  },
  {
   "cell_type": "code",
   "execution_count": 45,
   "metadata": {},
   "outputs": [],
   "source": [
    "submission = {'record_id': [],\t'encoded_pixels': []}"
   ]
  },
  {
   "cell_type": "code",
   "execution_count": 46,
   "metadata": {},
   "outputs": [],
   "source": [
    "loaded.eval()\n",
    "loaded.cuda(1)\n",
    "with torch.no_grad():\n",
    "    for records, x in dl:\n",
    "        y_hat = loaded(x.cuda(1))\n",
    "        probas = y_hat.sigmoid() > 0.5\n",
    "        masks = torch.nn.functional.interpolate(probas.float(), size=[256,256], mode='bilinear')\n",
    "        masks = masks.cpu().numpy().astype(np.int32)\n",
    "        for ix in range(masks.shape[0]):\n",
    "            mask = masks[ix][0] \n",
    "            if np.sum(masks[ix]) < 10:\n",
    "                mask = np.zeros_like(mask)\n",
    "            rle = rle_encode(mask)\n",
    "            record = records[ix]\n",
    "            submission['record_id'].append(record)\n",
    "            if len(rle) == 0: \n",
    "                submission['encoded_pixels'].append('-')\n",
    "            else:\n",
    "                submission['encoded_pixels'].append(' '.join(map(str,rle)))"
   ]
  },
  {
   "cell_type": "code",
   "execution_count": 47,
   "metadata": {},
   "outputs": [
    {
     "data": {
      "text/html": [
       "<div>\n",
       "<style scoped>\n",
       "    .dataframe tbody tr th:only-of-type {\n",
       "        vertical-align: middle;\n",
       "    }\n",
       "\n",
       "    .dataframe tbody tr th {\n",
       "        vertical-align: top;\n",
       "    }\n",
       "\n",
       "    .dataframe thead th {\n",
       "        text-align: right;\n",
       "    }\n",
       "</style>\n",
       "<table border=\"1\" class=\"dataframe\">\n",
       "  <thead>\n",
       "    <tr style=\"text-align: right;\">\n",
       "      <th></th>\n",
       "      <th>record_id</th>\n",
       "      <th>encoded_pixels</th>\n",
       "    </tr>\n",
       "  </thead>\n",
       "  <tbody>\n",
       "    <tr>\n",
       "      <th>0</th>\n",
       "      <td>1002653297254493116</td>\n",
       "      <td>-</td>\n",
       "    </tr>\n",
       "    <tr>\n",
       "      <th>1</th>\n",
       "      <td>1000834164244036115</td>\n",
       "      <td>-</td>\n",
       "    </tr>\n",
       "  </tbody>\n",
       "</table>\n",
       "</div>"
      ],
      "text/plain": [
       "             record_id encoded_pixels\n",
       "0  1002653297254493116              -\n",
       "1  1000834164244036115              -"
      ]
     },
     "execution_count": 47,
     "metadata": {},
     "output_type": "execute_result"
    }
   ],
   "source": [
    "submission = pd.DataFrame(submission)\n",
    "submission.to_csv('submission.csv', index=False)\n",
    "submission"
   ]
  },
  {
   "cell_type": "code",
   "execution_count": 37,
   "metadata": {},
   "outputs": [
    {
     "name": "stdout",
     "output_type": "stream",
     "text": [
      "Starting upload for file stats.csv\n",
      "100%|████████████████████████████████████████████| 392/392 [00:01<00:00, 335B/s]\n",
      "Upload successful: stats.csv (392B)\n",
      "Starting upload for file fc_t5_seresnextaa101d_32x8d_512-val_metric=0.58112-epoch=72.pt\n",
      "100%|████████████████████████████████████████| 536M/536M [00:12<00:00, 44.1MB/s]\n",
      "Upload successful: fc_t5_seresnextaa101d_32x8d_512-val_metric=0.58112-epoch=72.pt (536MB)\n",
      "Dataset version is being created. Please check progress at https://www.kaggle.com/juansensio/contrail-models\n"
     ]
    }
   ],
   "source": [
    "!kaggle datasets version -m \"update\" -p kaggle-dataset"
   ]
  }
 ],
 "metadata": {
  "kernelspec": {
   "display_name": "Python 3",
   "language": "python",
   "name": "python3"
  },
  "language_info": {
   "codemirror_mode": {
    "name": "ipython",
    "version": 3
   },
   "file_extension": ".py",
   "mimetype": "text/x-python",
   "name": "python",
   "nbconvert_exporter": "python",
   "pygments_lexer": "ipython3",
   "version": "3.10.6"
  },
  "orig_nbformat": 4
 },
 "nbformat": 4,
 "nbformat_minor": 2
}
