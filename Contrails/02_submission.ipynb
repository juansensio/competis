{
 "cells": [
  {
   "cell_type": "code",
   "execution_count": 1,
   "metadata": {},
   "outputs": [],
   "source": [
    "%load_ext autoreload\n",
    "%autoreload 2"
   ]
  },
  {
   "cell_type": "code",
   "execution_count": 2,
   "metadata": {},
   "outputs": [],
   "source": [
    "import os\n",
    "from pathlib import Path\n",
    "import pandas as pd"
   ]
  },
  {
   "cell_type": "code",
   "execution_count": 46,
   "metadata": {},
   "outputs": [
    {
     "data": {
      "text/plain": [
       "['baseline-val_metric=0.47755-epoch=27.ckpt', 'baseline-epoch=33.ckpt']"
      ]
     },
     "execution_count": 46,
     "metadata": {},
     "output_type": "execute_result"
    }
   ],
   "source": [
    "checkpoints = os.listdir('./checkpoints')\n",
    "checkpoints"
   ]
  },
  {
   "cell_type": "code",
   "execution_count": 47,
   "metadata": {},
   "outputs": [],
   "source": [
    "from src.module import Module\n",
    "import torch \n",
    "\n",
    "name = \"baseline-val_metric=0.47755-epoch=27.ckpt\"\n",
    "checkpoint = f'./checkpoints/{name}'\n",
    "\n",
    "module = Module.load_from_checkpoint(checkpoint)\n",
    "\n",
    "module.cpu()\n",
    "module.eval()\n",
    "\n",
    "traced = torch.jit.trace(module.model, torch.rand(10, 9, 256, 256))\n",
    "traced.save(f'kaggle-dataset/{name[:-5]}.pt')"
   ]
  },
  {
   "cell_type": "code",
   "execution_count": 48,
   "metadata": {},
   "outputs": [],
   "source": [
    "loaded = torch.jit.load(f'kaggle-dataset/{name[:-5]}.pt')\n",
    "loaded;\n"
   ]
  },
  {
   "cell_type": "code",
   "execution_count": 49,
   "metadata": {},
   "outputs": [
    {
     "name": "stderr",
     "output_type": "stream",
     "text": [
      "100%|██████████| 116/116 [00:05<00:00, 22.16it/s]\n"
     ]
    },
    {
     "data": {
      "text/plain": [
       "0.4882103204727173"
      ]
     },
     "execution_count": 49,
     "metadata": {},
     "output_type": "execute_result"
    }
   ],
   "source": [
    "from src.dm import DataModule\n",
    "import torchmetrics\n",
    "from tqdm import tqdm\n",
    "\n",
    "dm = DataModule()\n",
    "dm.setup()\n",
    "\n",
    "loaded.eval()\n",
    "loaded.cuda(1)\n",
    "\n",
    "metric = torchmetrics.Dice().cuda(1)\n",
    "\n",
    "with torch.no_grad():\n",
    "\tfor batch in tqdm(dm.val_dataloader()):\n",
    "\t\tx, y = batch\n",
    "\t\ty_hat = loaded(x.cuda(1))\n",
    "\t\tmetric(y_hat, y.cuda(1))\n",
    "\n",
    "metric.compute().item()"
   ]
  },
  {
   "cell_type": "code",
   "execution_count": 23,
   "metadata": {},
   "outputs": [
    {
     "data": {
      "text/plain": [
       "2"
      ]
     },
     "execution_count": 23,
     "metadata": {},
     "output_type": "execute_result"
    }
   ],
   "source": [
    "path = Path('/fastdata/contrails')\n",
    "\n",
    "records = os.listdir(path / 'test')\n",
    "len(records)"
   ]
  },
  {
   "cell_type": "code",
   "execution_count": 24,
   "metadata": {},
   "outputs": [
    {
     "data": {
      "text/html": [
       "<div>\n",
       "<style scoped>\n",
       "    .dataframe tbody tr th:only-of-type {\n",
       "        vertical-align: middle;\n",
       "    }\n",
       "\n",
       "    .dataframe tbody tr th {\n",
       "        vertical-align: top;\n",
       "    }\n",
       "\n",
       "    .dataframe thead th {\n",
       "        text-align: right;\n",
       "    }\n",
       "</style>\n",
       "<table border=\"1\" class=\"dataframe\">\n",
       "  <thead>\n",
       "    <tr style=\"text-align: right;\">\n",
       "      <th></th>\n",
       "      <th>min</th>\n",
       "      <th>max</th>\n",
       "      <th>mean</th>\n",
       "      <th>std</th>\n",
       "    </tr>\n",
       "  </thead>\n",
       "  <tbody>\n",
       "    <tr>\n",
       "      <th>8</th>\n",
       "      <td>175.82391</td>\n",
       "      <td>280.14868</td>\n",
       "      <td>233.67686</td>\n",
       "      <td>4.545741</td>\n",
       "    </tr>\n",
       "    <tr>\n",
       "      <th>9</th>\n",
       "      <td>180.74695</td>\n",
       "      <td>279.48690</td>\n",
       "      <td>242.25447</td>\n",
       "      <td>6.057177</td>\n",
       "    </tr>\n",
       "    <tr>\n",
       "      <th>10</th>\n",
       "      <td>181.44263</td>\n",
       "      <td>331.13394</td>\n",
       "      <td>250.75069</td>\n",
       "      <td>7.620164</td>\n",
       "    </tr>\n",
       "    <tr>\n",
       "      <th>11</th>\n",
       "      <td>179.33739</td>\n",
       "      <td>332.06036</td>\n",
       "      <td>274.41205</td>\n",
       "      <td>13.668153</td>\n",
       "    </tr>\n",
       "    <tr>\n",
       "      <th>12</th>\n",
       "      <td>187.69131</td>\n",
       "      <td>306.21823</td>\n",
       "      <td>255.52716</td>\n",
       "      <td>8.708825</td>\n",
       "    </tr>\n",
       "    <tr>\n",
       "      <th>13</th>\n",
       "      <td>179.34510</td>\n",
       "      <td>338.05670</td>\n",
       "      <td>276.60184</td>\n",
       "      <td>14.446373</td>\n",
       "    </tr>\n",
       "    <tr>\n",
       "      <th>14</th>\n",
       "      <td>178.71164</td>\n",
       "      <td>338.63330</td>\n",
       "      <td>275.35940</td>\n",
       "      <td>14.736154</td>\n",
       "    </tr>\n",
       "    <tr>\n",
       "      <th>15</th>\n",
       "      <td>178.36511</td>\n",
       "      <td>333.21048</td>\n",
       "      <td>272.56410</td>\n",
       "      <td>14.367307</td>\n",
       "    </tr>\n",
       "    <tr>\n",
       "      <th>16</th>\n",
       "      <td>137.39153</td>\n",
       "      <td>311.97977</td>\n",
       "      <td>260.42580</td>\n",
       "      <td>11.049050</td>\n",
       "    </tr>\n",
       "  </tbody>\n",
       "</table>\n",
       "</div>"
      ],
      "text/plain": [
       "          min        max       mean        std\n",
       "8   175.82391  280.14868  233.67686   4.545741\n",
       "9   180.74695  279.48690  242.25447   6.057177\n",
       "10  181.44263  331.13394  250.75069   7.620164\n",
       "11  179.33739  332.06036  274.41205  13.668153\n",
       "12  187.69131  306.21823  255.52716   8.708825\n",
       "13  179.34510  338.05670  276.60184  14.446373\n",
       "14  178.71164  338.63330  275.35940  14.736154\n",
       "15  178.36511  333.21048  272.56410  14.367307\n",
       "16  137.39153  311.97977  260.42580  11.049050"
      ]
     },
     "execution_count": 24,
     "metadata": {},
     "output_type": "execute_result"
    }
   ],
   "source": [
    "stats = pd.read_csv(path/'stats.csv', index_col=0)\n",
    "stats"
   ]
  },
  {
   "cell_type": "code",
   "execution_count": 25,
   "metadata": {},
   "outputs": [],
   "source": [
    "import torch \n",
    "import numpy as np\n",
    "\n",
    "class Dataset(torch.utils.data.Dataset):\n",
    "    def __init__(self, records):\n",
    "        self.records = records\n",
    "\n",
    "    def __len__(self):\n",
    "        return len(self.records)\n",
    "    \n",
    "    def preprocess(self, record):\n",
    "        bands = range(8,17)\n",
    "        data = []\n",
    "        for band in bands:\n",
    "            image = np.load(path / 'test' / record / f'band_{band:02d}.npy')\n",
    "            image = (image - stats.loc[band]['mean']) / stats.loc[band]['std']\n",
    "            data.append(image)\n",
    "        data = np.stack(data, axis=-1)\n",
    "        return data[...,4,:]\n",
    "    \n",
    "    def __getitem__(self, ix):\n",
    "        record = self.records[ix]\n",
    "        image = self.preprocess(record)\n",
    "        return record, torch.from_numpy(image).permute(2,0,1)"
   ]
  },
  {
   "cell_type": "code",
   "execution_count": 26,
   "metadata": {},
   "outputs": [],
   "source": [
    "ds = Dataset(records)\n",
    "dl = torch.utils.data.DataLoader(ds, batch_size=8, num_workers=4, pin_memory=True)"
   ]
  },
  {
   "cell_type": "code",
   "execution_count": 27,
   "metadata": {},
   "outputs": [],
   "source": [
    "def rle_encode(x, fg_val=1):\n",
    "    \"\"\"\n",
    "    Args:\n",
    "        x:  numpy array of shape (height, width), 1 - mask, 0 - background\n",
    "    Returns: run length encoding as list\n",
    "    \"\"\"\n",
    "\n",
    "    dots = np.where(\n",
    "        x.T.flatten() == fg_val)[0]  # .T sets Fortran order down-then-right\n",
    "    run_lengths = []\n",
    "    prev = -2\n",
    "    for b in dots:\n",
    "        if b > prev + 1:\n",
    "            run_lengths.extend((b + 1, 0))\n",
    "        run_lengths[-1] += 1\n",
    "        prev = b\n",
    "    return run_lengths\n",
    "\n",
    "def list_to_string(x):\n",
    "    \"\"\"\n",
    "    Converts list to a string representation\n",
    "    Empty list returns '-'\n",
    "    \"\"\"\n",
    "    if x: # non-empty list\n",
    "        s = str(x).replace(\"[\", \"\").replace(\"]\", \"\").replace(\",\", \"\")\n",
    "    else:\n",
    "        s = '-'\n",
    "    return s"
   ]
  },
  {
   "cell_type": "code",
   "execution_count": 28,
   "metadata": {},
   "outputs": [],
   "source": [
    "submission = {'record_id': [],\t'encoded_pixels': []}"
   ]
  },
  {
   "cell_type": "code",
   "execution_count": 29,
   "metadata": {},
   "outputs": [],
   "source": [
    "loaded.eval()\n",
    "loaded.cuda(1)\n",
    "with torch.no_grad():\n",
    "    for records, x in dl:\n",
    "        y_hat = loaded(x.cuda(1))\n",
    "        masks = y_hat.sigmoid().cpu().numpy() > 0.5\n",
    "        masks = masks.astype(np.int32)\n",
    "        for ix in range(masks.shape[0]):\n",
    "            mask = masks[ix][0]\n",
    "            rle = rle_encode(mask)\n",
    "            record = records[ix]\n",
    "            submission['record_id'].append(record)\n",
    "            if len(rle) == 0: \n",
    "                submission['encoded_pixels'].append('-')\n",
    "            else:\n",
    "                submission['encoded_pixels'].append(' '.join(map(str,rle)))"
   ]
  },
  {
   "cell_type": "code",
   "execution_count": 30,
   "metadata": {},
   "outputs": [
    {
     "data": {
      "text/html": [
       "<div>\n",
       "<style scoped>\n",
       "    .dataframe tbody tr th:only-of-type {\n",
       "        vertical-align: middle;\n",
       "    }\n",
       "\n",
       "    .dataframe tbody tr th {\n",
       "        vertical-align: top;\n",
       "    }\n",
       "\n",
       "    .dataframe thead th {\n",
       "        text-align: right;\n",
       "    }\n",
       "</style>\n",
       "<table border=\"1\" class=\"dataframe\">\n",
       "  <thead>\n",
       "    <tr style=\"text-align: right;\">\n",
       "      <th></th>\n",
       "      <th>record_id</th>\n",
       "      <th>encoded_pixels</th>\n",
       "    </tr>\n",
       "  </thead>\n",
       "  <tbody>\n",
       "    <tr>\n",
       "      <th>0</th>\n",
       "      <td>1002653297254493116</td>\n",
       "      <td>-</td>\n",
       "    </tr>\n",
       "    <tr>\n",
       "      <th>1</th>\n",
       "      <td>1000834164244036115</td>\n",
       "      <td>-</td>\n",
       "    </tr>\n",
       "  </tbody>\n",
       "</table>\n",
       "</div>"
      ],
      "text/plain": [
       "             record_id encoded_pixels\n",
       "0  1002653297254493116              -\n",
       "1  1000834164244036115              -"
      ]
     },
     "execution_count": 30,
     "metadata": {},
     "output_type": "execute_result"
    }
   ],
   "source": [
    "submission = pd.DataFrame(submission)\n",
    "submission.to_csv('submission.csv', index=False)\n",
    "submission"
   ]
  },
  {
   "cell_type": "code",
   "execution_count": null,
   "metadata": {},
   "outputs": [],
   "source": [
    "!kaggle datasets version -m \"update\" -p kaggle-dataset"
   ]
  }
 ],
 "metadata": {
  "kernelspec": {
   "display_name": "Python 3",
   "language": "python",
   "name": "python3"
  },
  "language_info": {
   "codemirror_mode": {
    "name": "ipython",
    "version": 3
   },
   "file_extension": ".py",
   "mimetype": "text/x-python",
   "name": "python",
   "nbconvert_exporter": "python",
   "pygments_lexer": "ipython3",
   "version": "3.10.6"
  },
  "orig_nbformat": 4
 },
 "nbformat": 4,
 "nbformat_minor": 2
}
