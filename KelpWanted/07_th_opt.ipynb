{
 "cells": [
  {
   "cell_type": "code",
   "execution_count": 10,
   "metadata": {},
   "outputs": [],
   "source": [
    "from glob import glob\n",
    "from src import Module, DataModule, DatasetFCI, DatasetFCIm\n",
    "import torch \n",
    "import torchmetrics \n",
    "from tqdm import tqdm\n",
    "import os \n",
    "from skimage import io\n",
    "import shutil\n",
    "import numpy as np\n",
    "import pandas as pd"
   ]
  },
  {
   "cell_type": "code",
   "execution_count": 2,
   "metadata": {},
   "outputs": [
    {
     "data": {
      "text/plain": [
       "['./checkpoints/unetpp-rs50-fcim-lrs-val_metric=0.67217-epoch=16.ckpt',\n",
       " './checkpoints/unetpp-rs50-fcim-lrs-epoch=29.ckpt',\n",
       " './checkpoints/unetpp-rs50-fcim-lrs-epoch=99.ckpt',\n",
       " './checkpoints/unetpp-rs50-fcim-lrs-focal-val_metric=0.00334-epoch=0.ckpt',\n",
       " './checkpoints/unetpp-rs50-fcim-da-epoch=29.ckpt',\n",
       " './checkpoints/unetpp-rs50-fcim-da-epoch=29-v1.ckpt',\n",
       " './checkpoints/unetpp-rs50-fcim-da-val_metric=0.67048-epoch=26.ckpt',\n",
       " './checkpoints/unetpp-rs50-fcim-lrs-focal-epoch=9.ckpt',\n",
       " './checkpoints/unetpp-rs50-fcim-lrs-val_metric=0.68205-epoch=15.ckpt',\n",
       " './checkpoints/unetpp-rs50-fcim-da-val_metric=0.66485-epoch=29.ckpt']"
      ]
     },
     "execution_count": 2,
     "metadata": {},
     "output_type": "execute_result"
    }
   ],
   "source": [
    "checkpoints = glob('./checkpoints/*')\n",
    "checkpoints"
   ]
  },
  {
   "cell_type": "code",
   "execution_count": 3,
   "metadata": {},
   "outputs": [
    {
     "data": {
      "text/plain": [
       "<All keys matched successfully>"
      ]
     },
     "execution_count": 3,
     "metadata": {},
     "output_type": "execute_result"
    }
   ],
   "source": [
    "name = \"unetpp-rs50-fcim-lrs-val_metric=0.68205-epoch=15.ckpt\"\n",
    "checkpoint = f'./checkpoints/{name}'\n",
    "\n",
    "# module = Module.load_from_checkpoint(checkpoint)\n",
    "\n",
    "state_dict = torch.load(checkpoint, map_location='cpu')['state_dict']\n",
    "module = Module({\"encoder\": \"timm-resnest50d\", \"in_chans\": 5, \"pretrained\": None, \"padding\": 1, \"mask_loss\": True, \"architecture\": \"UnetPlusPlus\"})\n",
    "module.load_state_dict(state_dict)\n"
   ]
  },
  {
   "cell_type": "markdown",
   "metadata": {},
   "source": [
    "Threshold tuning"
   ]
  },
  {
   "cell_type": "code",
   "execution_count": 21,
   "metadata": {},
   "outputs": [],
   "source": [
    "def eval_th(model, device=0, mask_loss=False, th=0.5):\n",
    "\t# dm = DataModule(false_color=True, t=[4], val_trans={'Resize': {\"height\":384, 'width':384}})\n",
    "\tdm = DataModule(Dataset=\"DatasetFCIm\")\n",
    "\tdm.setup()\n",
    "\tmodel.eval()\n",
    "\tmodel.cuda(device)\n",
    "\tmetric = torchmetrics.Dice(threshold=th).cuda(device)\n",
    "\twith torch.no_grad():\n",
    "\t\tpbar = tqdm(dm.val_dataloader())\n",
    "\t\tfor batch in pbar:\n",
    "\t\t\tx, y = batch\n",
    "\t\t\tif mask_loss: x = x[...,:-1]\n",
    "\t\t\ty_hat = model(x.cuda(device))\n",
    "\t\t\tmetric(y_hat, y.cuda(device).unsqueeze(1))\n",
    "\t\t\tdice = metric.compute().cpu().item()\n",
    "\t\t\tpbar.set_description(f'Dice: {dice:.5f}')\n",
    "\treturn dice"
   ]
  },
  {
   "cell_type": "code",
   "execution_count": 33,
   "metadata": {},
   "outputs": [
    {
     "name": "stdout",
     "output_type": "stream",
     "text": [
      "Threshold: 0.1\n"
     ]
    },
    {
     "name": "stderr",
     "output_type": "stream",
     "text": [
      "  0%|          | 0/36 [00:00<?, ?it/s]"
     ]
    },
    {
     "name": "stderr",
     "output_type": "stream",
     "text": [
      "Dice: 0.68229: 100%|██████████| 36/36 [00:16<00:00,  2.20it/s]\n"
     ]
    },
    {
     "name": "stdout",
     "output_type": "stream",
     "text": [
      "Threshold: 0.18888888888888888\n"
     ]
    },
    {
     "name": "stderr",
     "output_type": "stream",
     "text": [
      "Dice: 0.68230: 100%|██████████| 36/36 [00:16<00:00,  2.16it/s]\n"
     ]
    },
    {
     "name": "stdout",
     "output_type": "stream",
     "text": [
      "Threshold: 0.2777777777777778\n"
     ]
    },
    {
     "name": "stderr",
     "output_type": "stream",
     "text": [
      "Dice: 0.68229: 100%|██████████| 36/36 [00:16<00:00,  2.17it/s]\n"
     ]
    },
    {
     "name": "stdout",
     "output_type": "stream",
     "text": [
      "Threshold: 0.3666666666666667\n"
     ]
    },
    {
     "name": "stderr",
     "output_type": "stream",
     "text": [
      "Dice: 0.68226: 100%|██████████| 36/36 [00:17<00:00,  2.11it/s]\n"
     ]
    },
    {
     "name": "stdout",
     "output_type": "stream",
     "text": [
      "Threshold: 0.4555555555555556\n"
     ]
    },
    {
     "name": "stderr",
     "output_type": "stream",
     "text": [
      "Dice: 0.68221: 100%|██████████| 36/36 [00:16<00:00,  2.16it/s]\n"
     ]
    },
    {
     "name": "stdout",
     "output_type": "stream",
     "text": [
      "Threshold: 0.5444444444444445\n"
     ]
    },
    {
     "name": "stderr",
     "output_type": "stream",
     "text": [
      "Dice: 0.68218: 100%|██████████| 36/36 [00:16<00:00,  2.21it/s]\n"
     ]
    },
    {
     "name": "stdout",
     "output_type": "stream",
     "text": [
      "Threshold: 0.6333333333333333\n"
     ]
    },
    {
     "name": "stderr",
     "output_type": "stream",
     "text": [
      "Dice: 0.68212: 100%|██████████| 36/36 [00:16<00:00,  2.19it/s]\n"
     ]
    },
    {
     "name": "stdout",
     "output_type": "stream",
     "text": [
      "Threshold: 0.7222222222222222\n"
     ]
    },
    {
     "name": "stderr",
     "output_type": "stream",
     "text": [
      "Dice: 0.68209: 100%|██████████| 36/36 [00:16<00:00,  2.16it/s]\n"
     ]
    },
    {
     "name": "stdout",
     "output_type": "stream",
     "text": [
      "Threshold: 0.8111111111111111\n"
     ]
    },
    {
     "name": "stderr",
     "output_type": "stream",
     "text": [
      "Dice: 0.68207: 100%|██████████| 36/36 [00:16<00:00,  2.17it/s]\n"
     ]
    },
    {
     "name": "stdout",
     "output_type": "stream",
     "text": [
      "Threshold: 0.9\n"
     ]
    },
    {
     "name": "stderr",
     "output_type": "stream",
     "text": [
      "Dice: 0.68203: 100%|██████████| 36/36 [00:16<00:00,  2.19it/s]\n"
     ]
    }
   ],
   "source": [
    "thresholds = np.linspace(0.1, 0.9, 10)\n",
    "data = []\n",
    "for th in thresholds:\n",
    "\tprint(f\"Threshold: {th}\")\n",
    "\tdice = eval_th(module, mask_loss=True, th=th)\n",
    "\tdata.append((th, dice))"
   ]
  },
  {
   "cell_type": "code",
   "execution_count": 34,
   "metadata": {},
   "outputs": [
    {
     "data": {
      "text/plain": [
       "<Axes: xlabel='Threshold'>"
      ]
     },
     "execution_count": 34,
     "metadata": {},
     "output_type": "execute_result"
    },
    {
     "data": {
      "image/png": "[encoded data removed]",
      "text/plain": [
       "<Figure size 640x480 with 1 Axes>"
      ]
     },
     "metadata": {},
     "output_type": "display_data"
    }
   ],
   "source": [
    "df = pd.DataFrame(data, columns=[\"Threshold\", \"Dice\"])\n",
    "df.plot(x=\"Threshold\", y=\"Dice\")"
   ]
  },
  {
   "cell_type": "code",
   "execution_count": 38,
   "metadata": {},
   "outputs": [
    {
     "data": {
      "text/plain": [
       "0.18888888888888888"
      ]
     },
     "execution_count": 38,
     "metadata": {},
     "output_type": "execute_result"
    }
   ],
   "source": [
    "# get threhsold with best dice\n",
    "\n",
    "best_th = df[df.Dice == df.Dice.max()].Threshold.values[0]\n",
    "best_th"
   ]
  }
 ],
 "metadata": {
  "kernelspec": {
   "display_name": "peo",
   "language": "python",
   "name": "python3"
  },
  "language_info": {
   "codemirror_mode": {
    "name": "ipython",
    "version": 3
   },
   "file_extension": ".py",
   "mimetype": "text/x-python",
   "name": "python",
   "nbconvert_exporter": "python",
   "pygments_lexer": "ipython3",
   "version": "3.8.18"
  }
 },
 "nbformat": 4,
 "nbformat_minor": 2
}
