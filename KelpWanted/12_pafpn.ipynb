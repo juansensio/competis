{
 "cells": [
  {
   "cell_type": "code",
   "execution_count": null,
   "metadata": {},
   "outputs": [],
   "source": [
    "%load_ext autoreload\n",
    "%autoreload 2"
   ]
  },
  {
   "cell_type": "code",
   "execution_count": 5,
   "metadata": {},
   "outputs": [],
   "source": [
    "from src.models.encoder import Encoder\n",
    "import torch "
   ]
  },
  {
   "cell_type": "code",
   "execution_count": 76,
   "metadata": {},
   "outputs": [],
   "source": [
    "encoder = Encoder('resnet18')"
   ]
  },
  {
   "cell_type": "code",
   "execution_count": 78,
   "metadata": {},
   "outputs": [
    {
     "data": {
      "text/plain": [
       "[64, 64, 128, 256, 512]"
      ]
     },
     "execution_count": 78,
     "metadata": {},
     "output_type": "execute_result"
    }
   ],
   "source": [
    "channels = [\n",
    "\tencoder.encoder.feature_info.channels(i)\n",
    "\tfor i in range(len(encoder.encoder.feature_info))\n",
    "]\n",
    "\n",
    "channels"
   ]
  },
  {
   "cell_type": "code",
   "execution_count": 73,
   "metadata": {},
   "outputs": [],
   "source": [
    "features = encoder(torch.rand(1, 3, 224, 224))"
   ]
  },
  {
   "cell_type": "code",
   "execution_count": 74,
   "metadata": {},
   "outputs": [
    {
     "name": "stdout",
     "output_type": "stream",
     "text": [
      "torch.Size([1, 64, 112, 112])\n",
      "torch.Size([1, 64, 56, 56])\n",
      "torch.Size([1, 128, 28, 28])\n",
      "torch.Size([1, 256, 14, 14])\n",
      "torch.Size([1, 512, 7, 7])\n"
     ]
    }
   ],
   "source": [
    "for f in features:\n",
    "\tprint(f.shape)"
   ]
  },
  {
   "cell_type": "code",
   "execution_count": 53,
   "metadata": {},
   "outputs": [],
   "source": [
    "# up\n",
    "\n",
    "x = features[-1]\n",
    "up = [x]\n",
    "for i in reversed(range(1, len(features))):\n",
    "\t# print(x.shape)\n",
    "\txr = torch.nn.functional.interpolate(x, scale_factor=2, mode='bilinear')\n",
    "\t# print('reshaped', xr.shape)\n",
    "\t# print('previous', features[i-1].shape)\n",
    "\tx = torch.cat((features[i-1], xr), 1)\n",
    "\t# print('concat', x.shape)\n",
    "\tup.append(x)\n",
    "\t# x = torch.nn.Conv2d(x.shape[1], features[i-1].shape[1], 3, padding=1)(x)\n",
    "\t# print('conv', x.shape)"
   ]
  },
  {
   "cell_type": "code",
   "execution_count": 54,
   "metadata": {},
   "outputs": [
    {
     "name": "stdout",
     "output_type": "stream",
     "text": [
      "torch.Size([1, 512, 7, 7])\n",
      "torch.Size([1, 768, 14, 14])\n",
      "torch.Size([1, 896, 28, 28])\n",
      "torch.Size([1, 960, 56, 56])\n",
      "torch.Size([1, 1024, 112, 112])\n"
     ]
    }
   ],
   "source": [
    "for u in up:\n",
    "\tprint(u.shape)"
   ]
  },
  {
   "cell_type": "code",
   "execution_count": 70,
   "metadata": {},
   "outputs": [],
   "source": [
    "# down \n",
    "\n",
    "down = [up[-1]]\n",
    "for i in reversed(range(1, len(up))):\n",
    "\txc = torch.nn.Conv2d(up[i].shape[1], up[i-1].shape[1], 3, padding=1)(up[i])\n",
    "\txcm = torch.nn.MaxPool2d(2)(xc)\n",
    "\t# print('conv', xc.shape)\n",
    "\txcc = torch.cat((xcm, up[i-1]), 1)\n",
    "\tdown.append(xcc)\n"
   ]
  },
  {
   "cell_type": "code",
   "execution_count": 71,
   "metadata": {},
   "outputs": [
    {
     "name": "stdout",
     "output_type": "stream",
     "text": [
      "torch.Size([1, 1024, 112, 112])\n",
      "torch.Size([1, 1920, 56, 56])\n",
      "torch.Size([1, 1792, 28, 28])\n",
      "torch.Size([1, 1536, 14, 14])\n",
      "torch.Size([1, 1024, 7, 7])\n"
     ]
    }
   ],
   "source": [
    "for d in down:\n",
    "\tprint(d.shape)"
   ]
  },
  {
   "cell_type": "code",
   "execution_count": 86,
   "metadata": {},
   "outputs": [
    {
     "data": {
      "text/plain": [
       "[512, 768, 896, 960, 1024]"
      ]
     },
     "execution_count": 86,
     "metadata": {},
     "output_type": "execute_result"
    }
   ],
   "source": [
    "accum = channels[-1:]\n",
    "for i in reversed(range(len(channels)-1)):\n",
    "\taccum.append(accum[-1] + channels[i])\n",
    "accum"
   ]
  },
  {
   "cell_type": "code",
   "execution_count": 107,
   "metadata": {},
   "outputs": [
    {
     "data": {
      "text/plain": [
       "[1024, 1920, 1792, 1536, 1024]"
      ]
     },
     "execution_count": 107,
     "metadata": {},
     "output_type": "execute_result"
    }
   ],
   "source": [
    "down_channels = accum[-1:]\n",
    "for i in range(len(accum)-1):\n",
    "\tdown_channels.append(accum[::-1][i+1]*2)\n",
    "down_channels"
   ]
  }
 ],
 "metadata": {
  "kernelspec": {
   "display_name": "peo",
   "language": "python",
   "name": "python3"
  },
  "language_info": {
   "codemirror_mode": {
    "name": "ipython",
    "version": 3
   },
   "file_extension": ".py",
   "mimetype": "text/x-python",
   "name": "python",
   "nbconvert_exporter": "python",
   "pygments_lexer": "ipython3",
   "version": "3.8.18"
  }
 },
 "nbformat": 4,
 "nbformat_minor": 2
}
