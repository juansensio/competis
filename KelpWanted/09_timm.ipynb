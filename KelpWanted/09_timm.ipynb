{
 "cells": [
  {
   "cell_type": "code",
   "execution_count": 35,
   "metadata": {},
   "outputs": [
    {
     "data": {
      "text/plain": [
       "['seresnextaa101d_32x8d', 'seresnextaa201d_32x8d']"
      ]
     },
     "execution_count": 35,
     "metadata": {},
     "output_type": "execute_result"
    }
   ],
   "source": [
    "import timm\n",
    "\n",
    "timm.list_models('*seresnextaa*')"
   ]
  },
  {
   "cell_type": "code",
   "execution_count": 32,
   "metadata": {},
   "outputs": [],
   "source": [
    "import torch \n",
    "\n",
    "model = timm.create_model('coatnet_rmlp_2_rw_384', features_only=True)\n",
    "\n",
    "feautres = model(torch.randn(1, 3, 384, 384))"
   ]
  },
  {
   "cell_type": "code",
   "execution_count": 33,
   "metadata": {},
   "outputs": [
    {
     "name": "stdout",
     "output_type": "stream",
     "text": [
      "torch.Size([1, 128, 192, 192])\n",
      "torch.Size([1, 128, 96, 96])\n",
      "torch.Size([1, 256, 48, 48])\n",
      "torch.Size([1, 512, 24, 24])\n",
      "torch.Size([1, 1024, 12, 12])\n"
     ]
    }
   ],
   "source": [
    "for f in feautres:\n",
    "\tprint(f.shape)"
   ]
  },
  {
   "cell_type": "code",
   "execution_count": 34,
   "metadata": {},
   "outputs": [
    {
     "data": {
      "text/plain": [
       "[{'num_chs': 128, 'reduction': 2, 'module': 'stem', 'index': 0},\n",
       " {'num_chs': 128, 'reduction': 4, 'module': 'stages.0', 'index': 1},\n",
       " {'num_chs': 256, 'reduction': 8, 'module': 'stages.1', 'index': 2},\n",
       " {'num_chs': 512, 'reduction': 16, 'module': 'stages.2', 'index': 3},\n",
       " {'num_chs': 1024, 'reduction': 32, 'module': 'stages.3', 'index': 4}]"
      ]
     },
     "execution_count": 34,
     "metadata": {},
     "output_type": "execute_result"
    }
   ],
   "source": [
    "list(model.feature_info)"
   ]
  }
 ],
 "metadata": {
  "kernelspec": {
   "display_name": "peo",
   "language": "python",
   "name": "python3"
  },
  "language_info": {
   "codemirror_mode": {
    "name": "ipython",
    "version": 3
   },
   "file_extension": ".py",
   "mimetype": "text/x-python",
   "name": "python",
   "nbconvert_exporter": "python",
   "pygments_lexer": "ipython3",
   "version": "3.8.18"
  }
 },
 "nbformat": 4,
 "nbformat_minor": 2
}
