{
 "cells": [
  {
   "cell_type": "code",
   "execution_count": 88,
   "metadata": {},
   "outputs": [],
   "source": [
    "import pandas as pd\n",
    "from pathlib import Path\n",
    "import matplotlib.pyplot as plt\n",
    "from sklearn.model_selection import train_test_split\n",
    "\n",
    "\n",
    "path = Path('data')"
   ]
  },
  {
   "attachments": {},
   "cell_type": "markdown",
   "metadata": {},
   "source": [
    "Metadata contains a uinque id of a sample point with lat, lng, date and split (train/test)."
   ]
  },
  {
   "cell_type": "code",
   "execution_count": 89,
   "metadata": {},
   "outputs": [
    {
     "data": {
      "text/html": [
       "<div>\n",
       "<style scoped>\n",
       "    .dataframe tbody tr th:only-of-type {\n",
       "        vertical-align: middle;\n",
       "    }\n",
       "\n",
       "    .dataframe tbody tr th {\n",
       "        vertical-align: top;\n",
       "    }\n",
       "\n",
       "    .dataframe thead th {\n",
       "        text-align: right;\n",
       "    }\n",
       "</style>\n",
       "<table border=\"1\" class=\"dataframe\">\n",
       "  <thead>\n",
       "    <tr style=\"text-align: right;\">\n",
       "      <th></th>\n",
       "      <th>uid</th>\n",
       "      <th>latitude</th>\n",
       "      <th>longitude</th>\n",
       "      <th>date</th>\n",
       "      <th>split</th>\n",
       "    </tr>\n",
       "  </thead>\n",
       "  <tbody>\n",
       "    <tr>\n",
       "      <th>0</th>\n",
       "      <td>aabm</td>\n",
       "      <td>39.080319</td>\n",
       "      <td>-86.430867</td>\n",
       "      <td>2018-05-14</td>\n",
       "      <td>train</td>\n",
       "    </tr>\n",
       "    <tr>\n",
       "      <th>1</th>\n",
       "      <td>aabn</td>\n",
       "      <td>36.559700</td>\n",
       "      <td>-121.510000</td>\n",
       "      <td>2016-08-31</td>\n",
       "      <td>test</td>\n",
       "    </tr>\n",
       "    <tr>\n",
       "      <th>2</th>\n",
       "      <td>aacd</td>\n",
       "      <td>35.875083</td>\n",
       "      <td>-78.878434</td>\n",
       "      <td>2020-11-19</td>\n",
       "      <td>train</td>\n",
       "    </tr>\n",
       "    <tr>\n",
       "      <th>3</th>\n",
       "      <td>aaee</td>\n",
       "      <td>35.487000</td>\n",
       "      <td>-79.062133</td>\n",
       "      <td>2016-08-24</td>\n",
       "      <td>train</td>\n",
       "    </tr>\n",
       "    <tr>\n",
       "      <th>4</th>\n",
       "      <td>aaff</td>\n",
       "      <td>38.049471</td>\n",
       "      <td>-99.827001</td>\n",
       "      <td>2019-07-23</td>\n",
       "      <td>train</td>\n",
       "    </tr>\n",
       "    <tr>\n",
       "      <th>...</th>\n",
       "      <td>...</td>\n",
       "      <td>...</td>\n",
       "      <td>...</td>\n",
       "      <td>...</td>\n",
       "      <td>...</td>\n",
       "    </tr>\n",
       "    <tr>\n",
       "      <th>23565</th>\n",
       "      <td>zzvv</td>\n",
       "      <td>36.708500</td>\n",
       "      <td>-121.749000</td>\n",
       "      <td>2014-12-02</td>\n",
       "      <td>test</td>\n",
       "    </tr>\n",
       "    <tr>\n",
       "      <th>23566</th>\n",
       "      <td>zzwo</td>\n",
       "      <td>39.792190</td>\n",
       "      <td>-99.971050</td>\n",
       "      <td>2017-06-19</td>\n",
       "      <td>train</td>\n",
       "    </tr>\n",
       "    <tr>\n",
       "      <th>23567</th>\n",
       "      <td>zzwq</td>\n",
       "      <td>35.794000</td>\n",
       "      <td>-79.012551</td>\n",
       "      <td>2015-03-24</td>\n",
       "      <td>train</td>\n",
       "    </tr>\n",
       "    <tr>\n",
       "      <th>23568</th>\n",
       "      <td>zzyb</td>\n",
       "      <td>35.742000</td>\n",
       "      <td>-79.238600</td>\n",
       "      <td>2016-11-21</td>\n",
       "      <td>train</td>\n",
       "    </tr>\n",
       "    <tr>\n",
       "      <th>23569</th>\n",
       "      <td>zzzi</td>\n",
       "      <td>39.767323</td>\n",
       "      <td>-96.028617</td>\n",
       "      <td>2015-08-31</td>\n",
       "      <td>test</td>\n",
       "    </tr>\n",
       "  </tbody>\n",
       "</table>\n",
       "<p>23570 rows × 5 columns</p>\n",
       "</div>"
      ],
      "text/plain": [
       "        uid   latitude   longitude        date  split\n",
       "0      aabm  39.080319  -86.430867  2018-05-14  train\n",
       "1      aabn  36.559700 -121.510000  2016-08-31   test\n",
       "2      aacd  35.875083  -78.878434  2020-11-19  train\n",
       "3      aaee  35.487000  -79.062133  2016-08-24  train\n",
       "4      aaff  38.049471  -99.827001  2019-07-23  train\n",
       "...     ...        ...         ...         ...    ...\n",
       "23565  zzvv  36.708500 -121.749000  2014-12-02   test\n",
       "23566  zzwo  39.792190  -99.971050  2017-06-19  train\n",
       "23567  zzwq  35.794000  -79.012551  2015-03-24  train\n",
       "23568  zzyb  35.742000  -79.238600  2016-11-21  train\n",
       "23569  zzzi  39.767323  -96.028617  2015-08-31   test\n",
       "\n",
       "[23570 rows x 5 columns]"
      ]
     },
     "execution_count": 89,
     "metadata": {},
     "output_type": "execute_result"
    }
   ],
   "source": [
    "metadata = pd.read_csv(path / 'metadata.csv')\n",
    "metadata"
   ]
  },
  {
   "attachments": {},
   "cell_type": "markdown",
   "metadata": {},
   "source": [
    "We have to download the satellite, meteo, dem, ... for each point manually :("
   ]
  },
  {
   "cell_type": "code",
   "execution_count": 90,
   "metadata": {},
   "outputs": [
    {
     "data": {
      "text/plain": [
       "(17060, 6510)"
      ]
     },
     "execution_count": 90,
     "metadata": {},
     "output_type": "execute_result"
    }
   ],
   "source": [
    "train = metadata[metadata.split == 'train']\n",
    "test = metadata[metadata.split == 'test']\n",
    "\n",
    "len(train), len(test)"
   ]
  },
  {
   "attachments": {},
   "cell_type": "markdown",
   "metadata": {},
   "source": [
    "For each point we know the density and severty (we have to predict the severity, not the density)."
   ]
  },
  {
   "cell_type": "code",
   "execution_count": 91,
   "metadata": {},
   "outputs": [
    {
     "data": {
      "text/html": [
       "<div>\n",
       "<style scoped>\n",
       "    .dataframe tbody tr th:only-of-type {\n",
       "        vertical-align: middle;\n",
       "    }\n",
       "\n",
       "    .dataframe tbody tr th {\n",
       "        vertical-align: top;\n",
       "    }\n",
       "\n",
       "    .dataframe thead th {\n",
       "        text-align: right;\n",
       "    }\n",
       "</style>\n",
       "<table border=\"1\" class=\"dataframe\">\n",
       "  <thead>\n",
       "    <tr style=\"text-align: right;\">\n",
       "      <th></th>\n",
       "      <th>uid</th>\n",
       "      <th>region</th>\n",
       "      <th>severity</th>\n",
       "      <th>density</th>\n",
       "    </tr>\n",
       "  </thead>\n",
       "  <tbody>\n",
       "    <tr>\n",
       "      <th>0</th>\n",
       "      <td>aabm</td>\n",
       "      <td>midwest</td>\n",
       "      <td>1</td>\n",
       "      <td>585.0</td>\n",
       "    </tr>\n",
       "    <tr>\n",
       "      <th>1</th>\n",
       "      <td>aacd</td>\n",
       "      <td>south</td>\n",
       "      <td>1</td>\n",
       "      <td>290.0</td>\n",
       "    </tr>\n",
       "    <tr>\n",
       "      <th>2</th>\n",
       "      <td>aaee</td>\n",
       "      <td>south</td>\n",
       "      <td>1</td>\n",
       "      <td>1614.0</td>\n",
       "    </tr>\n",
       "    <tr>\n",
       "      <th>3</th>\n",
       "      <td>aaff</td>\n",
       "      <td>midwest</td>\n",
       "      <td>3</td>\n",
       "      <td>111825.0</td>\n",
       "    </tr>\n",
       "    <tr>\n",
       "      <th>4</th>\n",
       "      <td>aafl</td>\n",
       "      <td>midwest</td>\n",
       "      <td>4</td>\n",
       "      <td>2017313.0</td>\n",
       "    </tr>\n",
       "    <tr>\n",
       "      <th>...</th>\n",
       "      <td>...</td>\n",
       "      <td>...</td>\n",
       "      <td>...</td>\n",
       "      <td>...</td>\n",
       "    </tr>\n",
       "    <tr>\n",
       "      <th>17055</th>\n",
       "      <td>zzsv</td>\n",
       "      <td>south</td>\n",
       "      <td>3</td>\n",
       "      <td>113125.0</td>\n",
       "    </tr>\n",
       "    <tr>\n",
       "      <th>17056</th>\n",
       "      <td>zzuq</td>\n",
       "      <td>south</td>\n",
       "      <td>3</td>\n",
       "      <td>175726.0</td>\n",
       "    </tr>\n",
       "    <tr>\n",
       "      <th>17057</th>\n",
       "      <td>zzwo</td>\n",
       "      <td>midwest</td>\n",
       "      <td>2</td>\n",
       "      <td>48510.0</td>\n",
       "    </tr>\n",
       "    <tr>\n",
       "      <th>17058</th>\n",
       "      <td>zzwq</td>\n",
       "      <td>south</td>\n",
       "      <td>1</td>\n",
       "      <td>1271.0</td>\n",
       "    </tr>\n",
       "    <tr>\n",
       "      <th>17059</th>\n",
       "      <td>zzyb</td>\n",
       "      <td>south</td>\n",
       "      <td>1</td>\n",
       "      <td>9682.0</td>\n",
       "    </tr>\n",
       "  </tbody>\n",
       "</table>\n",
       "<p>17060 rows × 4 columns</p>\n",
       "</div>"
      ],
      "text/plain": [
       "        uid   region  severity    density\n",
       "0      aabm  midwest         1      585.0\n",
       "1      aacd    south         1      290.0\n",
       "2      aaee    south         1     1614.0\n",
       "3      aaff  midwest         3   111825.0\n",
       "4      aafl  midwest         4  2017313.0\n",
       "...     ...      ...       ...        ...\n",
       "17055  zzsv    south         3   113125.0\n",
       "17056  zzuq    south         3   175726.0\n",
       "17057  zzwo  midwest         2    48510.0\n",
       "17058  zzwq    south         1     1271.0\n",
       "17059  zzyb    south         1     9682.0\n",
       "\n",
       "[17060 rows x 4 columns]"
      ]
     },
     "execution_count": 91,
     "metadata": {},
     "output_type": "execute_result"
    }
   ],
   "source": [
    "labels = pd.read_csv(path / 'train_labels.csv')\n",
    "assert len(train) == len(labels)\n",
    "labels"
   ]
  },
  {
   "cell_type": "code",
   "execution_count": 92,
   "metadata": {},
   "outputs": [
    {
     "data": {
      "text/html": [
       "<div>\n",
       "<style scoped>\n",
       "    .dataframe tbody tr th:only-of-type {\n",
       "        vertical-align: middle;\n",
       "    }\n",
       "\n",
       "    .dataframe tbody tr th {\n",
       "        vertical-align: top;\n",
       "    }\n",
       "\n",
       "    .dataframe thead th {\n",
       "        text-align: right;\n",
       "    }\n",
       "</style>\n",
       "<table border=\"1\" class=\"dataframe\">\n",
       "  <thead>\n",
       "    <tr style=\"text-align: right;\">\n",
       "      <th></th>\n",
       "      <th>uid</th>\n",
       "      <th>latitude</th>\n",
       "      <th>longitude</th>\n",
       "      <th>date</th>\n",
       "      <th>split</th>\n",
       "      <th>region</th>\n",
       "      <th>severity</th>\n",
       "      <th>density</th>\n",
       "    </tr>\n",
       "  </thead>\n",
       "  <tbody>\n",
       "    <tr>\n",
       "      <th>0</th>\n",
       "      <td>aabm</td>\n",
       "      <td>39.080319</td>\n",
       "      <td>-86.430867</td>\n",
       "      <td>2018-05-14</td>\n",
       "      <td>train</td>\n",
       "      <td>midwest</td>\n",
       "      <td>1</td>\n",
       "      <td>585.0</td>\n",
       "    </tr>\n",
       "    <tr>\n",
       "      <th>2</th>\n",
       "      <td>aacd</td>\n",
       "      <td>35.875083</td>\n",
       "      <td>-78.878434</td>\n",
       "      <td>2020-11-19</td>\n",
       "      <td>train</td>\n",
       "      <td>south</td>\n",
       "      <td>1</td>\n",
       "      <td>290.0</td>\n",
       "    </tr>\n",
       "    <tr>\n",
       "      <th>3</th>\n",
       "      <td>aaee</td>\n",
       "      <td>35.487000</td>\n",
       "      <td>-79.062133</td>\n",
       "      <td>2016-08-24</td>\n",
       "      <td>train</td>\n",
       "      <td>south</td>\n",
       "      <td>1</td>\n",
       "      <td>1614.0</td>\n",
       "    </tr>\n",
       "    <tr>\n",
       "      <th>4</th>\n",
       "      <td>aaff</td>\n",
       "      <td>38.049471</td>\n",
       "      <td>-99.827001</td>\n",
       "      <td>2019-07-23</td>\n",
       "      <td>train</td>\n",
       "      <td>midwest</td>\n",
       "      <td>3</td>\n",
       "      <td>111825.0</td>\n",
       "    </tr>\n",
       "    <tr>\n",
       "      <th>5</th>\n",
       "      <td>aafl</td>\n",
       "      <td>39.474744</td>\n",
       "      <td>-86.898353</td>\n",
       "      <td>2021-08-23</td>\n",
       "      <td>train</td>\n",
       "      <td>midwest</td>\n",
       "      <td>4</td>\n",
       "      <td>2017313.0</td>\n",
       "    </tr>\n",
       "    <tr>\n",
       "      <th>...</th>\n",
       "      <td>...</td>\n",
       "      <td>...</td>\n",
       "      <td>...</td>\n",
       "      <td>...</td>\n",
       "      <td>...</td>\n",
       "      <td>...</td>\n",
       "      <td>...</td>\n",
       "      <td>...</td>\n",
       "    </tr>\n",
       "    <tr>\n",
       "      <th>23562</th>\n",
       "      <td>zzsv</td>\n",
       "      <td>38.707825</td>\n",
       "      <td>-75.080867</td>\n",
       "      <td>2018-06-27</td>\n",
       "      <td>train</td>\n",
       "      <td>south</td>\n",
       "      <td>3</td>\n",
       "      <td>113125.0</td>\n",
       "    </tr>\n",
       "    <tr>\n",
       "      <th>23564</th>\n",
       "      <td>zzuq</td>\n",
       "      <td>35.794000</td>\n",
       "      <td>-79.015368</td>\n",
       "      <td>2015-08-06</td>\n",
       "      <td>train</td>\n",
       "      <td>south</td>\n",
       "      <td>3</td>\n",
       "      <td>175726.0</td>\n",
       "    </tr>\n",
       "    <tr>\n",
       "      <th>23566</th>\n",
       "      <td>zzwo</td>\n",
       "      <td>39.792190</td>\n",
       "      <td>-99.971050</td>\n",
       "      <td>2017-06-19</td>\n",
       "      <td>train</td>\n",
       "      <td>midwest</td>\n",
       "      <td>2</td>\n",
       "      <td>48510.0</td>\n",
       "    </tr>\n",
       "    <tr>\n",
       "      <th>23567</th>\n",
       "      <td>zzwq</td>\n",
       "      <td>35.794000</td>\n",
       "      <td>-79.012551</td>\n",
       "      <td>2015-03-24</td>\n",
       "      <td>train</td>\n",
       "      <td>south</td>\n",
       "      <td>1</td>\n",
       "      <td>1271.0</td>\n",
       "    </tr>\n",
       "    <tr>\n",
       "      <th>23568</th>\n",
       "      <td>zzyb</td>\n",
       "      <td>35.742000</td>\n",
       "      <td>-79.238600</td>\n",
       "      <td>2016-11-21</td>\n",
       "      <td>train</td>\n",
       "      <td>south</td>\n",
       "      <td>1</td>\n",
       "      <td>9682.0</td>\n",
       "    </tr>\n",
       "  </tbody>\n",
       "</table>\n",
       "<p>17060 rows × 8 columns</p>\n",
       "</div>"
      ],
      "text/plain": [
       "        uid   latitude  longitude        date  split   region  severity  \\\n",
       "0      aabm  39.080319 -86.430867  2018-05-14  train  midwest         1   \n",
       "2      aacd  35.875083 -78.878434  2020-11-19  train    south         1   \n",
       "3      aaee  35.487000 -79.062133  2016-08-24  train    south         1   \n",
       "4      aaff  38.049471 -99.827001  2019-07-23  train  midwest         3   \n",
       "5      aafl  39.474744 -86.898353  2021-08-23  train  midwest         4   \n",
       "...     ...        ...        ...         ...    ...      ...       ...   \n",
       "23562  zzsv  38.707825 -75.080867  2018-06-27  train    south         3   \n",
       "23564  zzuq  35.794000 -79.015368  2015-08-06  train    south         3   \n",
       "23566  zzwo  39.792190 -99.971050  2017-06-19  train  midwest         2   \n",
       "23567  zzwq  35.794000 -79.012551  2015-03-24  train    south         1   \n",
       "23568  zzyb  35.742000 -79.238600  2016-11-21  train    south         1   \n",
       "\n",
       "         density  \n",
       "0          585.0  \n",
       "2          290.0  \n",
       "3         1614.0  \n",
       "4       111825.0  \n",
       "5      2017313.0  \n",
       "...          ...  \n",
       "23562   113125.0  \n",
       "23564   175726.0  \n",
       "23566    48510.0  \n",
       "23567     1271.0  \n",
       "23568     9682.0  \n",
       "\n",
       "[17060 rows x 8 columns]"
      ]
     },
     "execution_count": 92,
     "metadata": {},
     "output_type": "execute_result"
    }
   ],
   "source": [
    "train_data = train.join(labels.set_index('uid'), on='uid')\n",
    "train_data"
   ]
  },
  {
   "cell_type": "code",
   "execution_count": 93,
   "metadata": {},
   "outputs": [
    {
     "data": {
      "text/html": [
       "<div>\n",
       "<style scoped>\n",
       "    .dataframe tbody tr th:only-of-type {\n",
       "        vertical-align: middle;\n",
       "    }\n",
       "\n",
       "    .dataframe tbody tr th {\n",
       "        vertical-align: top;\n",
       "    }\n",
       "\n",
       "    .dataframe thead th {\n",
       "        text-align: right;\n",
       "    }\n",
       "</style>\n",
       "<table border=\"1\" class=\"dataframe\">\n",
       "  <thead>\n",
       "    <tr style=\"text-align: right;\">\n",
       "      <th></th>\n",
       "      <th>latitude</th>\n",
       "      <th>longitude</th>\n",
       "      <th>severity</th>\n",
       "      <th>density</th>\n",
       "    </tr>\n",
       "  </thead>\n",
       "  <tbody>\n",
       "    <tr>\n",
       "      <th>count</th>\n",
       "      <td>17060.000000</td>\n",
       "      <td>17060.000000</td>\n",
       "      <td>17060.000000</td>\n",
       "      <td>1.706000e+04</td>\n",
       "    </tr>\n",
       "    <tr>\n",
       "      <th>mean</th>\n",
       "      <td>37.307321</td>\n",
       "      <td>-89.744762</td>\n",
       "      <td>2.145955</td>\n",
       "      <td>1.074537e+06</td>\n",
       "    </tr>\n",
       "    <tr>\n",
       "      <th>std</th>\n",
       "      <td>2.383112</td>\n",
       "      <td>17.194386</td>\n",
       "      <td>1.199942</td>\n",
       "      <td>6.836693e+06</td>\n",
       "    </tr>\n",
       "    <tr>\n",
       "      <th>min</th>\n",
       "      <td>26.389430</td>\n",
       "      <td>-124.179200</td>\n",
       "      <td>1.000000</td>\n",
       "      <td>0.000000e+00</td>\n",
       "    </tr>\n",
       "    <tr>\n",
       "      <th>25%</th>\n",
       "      <td>35.705383</td>\n",
       "      <td>-97.101940</td>\n",
       "      <td>1.000000</td>\n",
       "      <td>4.066000e+03</td>\n",
       "    </tr>\n",
       "    <tr>\n",
       "      <th>50%</th>\n",
       "      <td>35.980000</td>\n",
       "      <td>-79.203063</td>\n",
       "      <td>2.000000</td>\n",
       "      <td>3.270975e+04</td>\n",
       "    </tr>\n",
       "    <tr>\n",
       "      <th>75%</th>\n",
       "      <td>38.160200</td>\n",
       "      <td>-79.011995</td>\n",
       "      <td>3.000000</td>\n",
       "      <td>4.849192e+05</td>\n",
       "    </tr>\n",
       "    <tr>\n",
       "      <th>max</th>\n",
       "      <td>48.907060</td>\n",
       "      <td>-68.065070</td>\n",
       "      <td>5.000000</td>\n",
       "      <td>8.046675e+08</td>\n",
       "    </tr>\n",
       "  </tbody>\n",
       "</table>\n",
       "</div>"
      ],
      "text/plain": [
       "           latitude     longitude      severity       density\n",
       "count  17060.000000  17060.000000  17060.000000  1.706000e+04\n",
       "mean      37.307321    -89.744762      2.145955  1.074537e+06\n",
       "std        2.383112     17.194386      1.199942  6.836693e+06\n",
       "min       26.389430   -124.179200      1.000000  0.000000e+00\n",
       "25%       35.705383    -97.101940      1.000000  4.066000e+03\n",
       "50%       35.980000    -79.203063      2.000000  3.270975e+04\n",
       "75%       38.160200    -79.011995      3.000000  4.849192e+05\n",
       "max       48.907060    -68.065070      5.000000  8.046675e+08"
      ]
     },
     "execution_count": 93,
     "metadata": {},
     "output_type": "execute_result"
    }
   ],
   "source": [
    "train_data.describe()"
   ]
  },
  {
   "cell_type": "code",
   "execution_count": 94,
   "metadata": {},
   "outputs": [
    {
     "data": {
      "text/plain": [
       "1    7497\n",
       "4    3547\n",
       "2    3239\n",
       "3    2719\n",
       "5      58\n",
       "Name: severity, dtype: int64"
      ]
     },
     "execution_count": 94,
     "metadata": {},
     "output_type": "execute_result"
    }
   ],
   "source": [
    "train_data.severity.value_counts()"
   ]
  },
  {
   "cell_type": "code",
   "execution_count": 95,
   "metadata": {},
   "outputs": [
    {
     "data": {
      "text/plain": [
       "[]"
      ]
     },
     "execution_count": 95,
     "metadata": {},
     "output_type": "execute_result"
    },
    {
     "data": {
      "image/png": "[encoded data removed]",
      "text/plain": [
       "<Figure size 640x480 with 1 Axes>"
      ]
     },
     "metadata": {},
     "output_type": "display_data"
    }
   ],
   "source": [
    "train_data.severity.hist()\n",
    "plt.plot()"
   ]
  },
  {
   "attachments": {},
   "cell_type": "markdown",
   "metadata": {},
   "source": [
    "The dataset is not balanced :("
   ]
  },
  {
   "cell_type": "code",
   "execution_count": 96,
   "metadata": {},
   "outputs": [
    {
     "data": {
      "image/png": "[encoded data removed]",
      "text/plain": [
       "<Figure size 640x480 with 2 Axes>"
      ]
     },
     "metadata": {},
     "output_type": "display_data"
    }
   ],
   "source": [
    "train_data.plot(kind=\"scatter\", x=\"longitude\", y=\"latitude\", alpha=0.4,\n",
    "    s=2, label=\"density\", c=\"severity\", cmap=plt.get_cmap(\"jet\"), colorbar=True,\n",
    "    sharex=False)\n",
    "plt.legend()\n",
    "plt.show()"
   ]
  },
  {
   "cell_type": "code",
   "execution_count": 97,
   "metadata": {},
   "outputs": [
    {
     "data": {
      "image/png": "[encoded data removed]",
      "text/plain": [
       "<Figure size 700x500 with 1 Axes>"
      ]
     },
     "metadata": {},
     "output_type": "display_data"
    }
   ],
   "source": [
    "fig = plt.figure(figsize=(7, 5))\n",
    "ax = fig.add_subplot(111)\n",
    "train_data.plot(kind=\"scatter\", x=\"longitude\", y=\"latitude\", s=1, color=\"red\", ax=ax, label=\"train\")\n",
    "test.plot(kind=\"scatter\", x=\"longitude\", y=\"latitude\", alpha=0.4, s=1, ax=ax, label=\"test\")\n",
    "plt.show()"
   ]
  },
  {
   "cell_type": "code",
   "execution_count": 98,
   "metadata": {},
   "outputs": [
    {
     "data": {
      "text/plain": [
       "(13648, 3412)"
      ]
     },
     "execution_count": 98,
     "metadata": {},
     "output_type": "execute_result"
    }
   ],
   "source": [
    "train_split, val_split = train_test_split(train_data, test_size=0.2, random_state=42, stratify=train_data.severity)\n",
    "\n",
    "len(train_split), len(val_split)"
   ]
  },
  {
   "cell_type": "code",
   "execution_count": 99,
   "metadata": {},
   "outputs": [
    {
     "data": {
      "text/plain": [
       "[]"
      ]
     },
     "execution_count": 99,
     "metadata": {},
     "output_type": "execute_result"
    },
    {
     "data": {
      "image/png": "[encoded data removed]",
      "text/plain": [
       "<Figure size 1000x700 with 1 Axes>"
      ]
     },
     "metadata": {},
     "output_type": "display_data"
    }
   ],
   "source": [
    "fig = plt.figure(figsize=(10, 7))\n",
    "ax = plt.subplot(111)\n",
    "train_split.severity.hist(ax =ax, label='train')\n",
    "val_split.severity.hist(ax =ax, label='val')\n",
    "plt.plot()"
   ]
  },
  {
   "cell_type": "code",
   "execution_count": 100,
   "metadata": {},
   "outputs": [],
   "source": [
    "train_split.to_csv(path / 'train.csv', index=False)\n",
    "val_split.to_csv(path / 'val.csv', index=False)"
   ]
  },
  {
   "attachments": {},
   "cell_type": "markdown",
   "metadata": {},
   "source": [
    "Balance train split"
   ]
  },
  {
   "cell_type": "code",
   "execution_count": 101,
   "metadata": {},
   "outputs": [
    {
     "data": {
      "text/html": [
       "<div>\n",
       "<style scoped>\n",
       "    .dataframe tbody tr th:only-of-type {\n",
       "        vertical-align: middle;\n",
       "    }\n",
       "\n",
       "    .dataframe tbody tr th {\n",
       "        vertical-align: top;\n",
       "    }\n",
       "\n",
       "    .dataframe thead th {\n",
       "        text-align: right;\n",
       "    }\n",
       "</style>\n",
       "<table border=\"1\" class=\"dataframe\">\n",
       "  <thead>\n",
       "    <tr style=\"text-align: right;\">\n",
       "      <th></th>\n",
       "      <th>uid</th>\n",
       "      <th>latitude</th>\n",
       "      <th>longitude</th>\n",
       "      <th>date</th>\n",
       "      <th>split</th>\n",
       "      <th>region</th>\n",
       "      <th>severity</th>\n",
       "      <th>density</th>\n",
       "    </tr>\n",
       "  </thead>\n",
       "  <tbody>\n",
       "    <tr>\n",
       "      <th>0</th>\n",
       "      <td>rduy</td>\n",
       "      <td>35.837000</td>\n",
       "      <td>-79.001000</td>\n",
       "      <td>2015-08-06</td>\n",
       "      <td>train</td>\n",
       "      <td>south</td>\n",
       "      <td>3</td>\n",
       "      <td>728075.00</td>\n",
       "    </tr>\n",
       "    <tr>\n",
       "      <th>1</th>\n",
       "      <td>nmkw</td>\n",
       "      <td>35.865797</td>\n",
       "      <td>-78.804114</td>\n",
       "      <td>2015-09-24</td>\n",
       "      <td>train</td>\n",
       "      <td>south</td>\n",
       "      <td>2</td>\n",
       "      <td>42407.00</td>\n",
       "    </tr>\n",
       "    <tr>\n",
       "      <th>2</th>\n",
       "      <td>rqwt</td>\n",
       "      <td>37.320400</td>\n",
       "      <td>-120.983000</td>\n",
       "      <td>2018-04-10</td>\n",
       "      <td>train</td>\n",
       "      <td>west</td>\n",
       "      <td>4</td>\n",
       "      <td>6675000.00</td>\n",
       "    </tr>\n",
       "    <tr>\n",
       "      <th>3</th>\n",
       "      <td>xyde</td>\n",
       "      <td>37.261600</td>\n",
       "      <td>-120.906000</td>\n",
       "      <td>2017-10-10</td>\n",
       "      <td>train</td>\n",
       "      <td>west</td>\n",
       "      <td>4</td>\n",
       "      <td>5480000.00</td>\n",
       "    </tr>\n",
       "    <tr>\n",
       "      <th>4</th>\n",
       "      <td>bbzd</td>\n",
       "      <td>35.794000</td>\n",
       "      <td>-79.014330</td>\n",
       "      <td>2015-06-22</td>\n",
       "      <td>train</td>\n",
       "      <td>south</td>\n",
       "      <td>2</td>\n",
       "      <td>73582.00</td>\n",
       "    </tr>\n",
       "    <tr>\n",
       "      <th>...</th>\n",
       "      <td>...</td>\n",
       "      <td>...</td>\n",
       "      <td>...</td>\n",
       "      <td>...</td>\n",
       "      <td>...</td>\n",
       "      <td>...</td>\n",
       "      <td>...</td>\n",
       "      <td>...</td>\n",
       "    </tr>\n",
       "    <tr>\n",
       "      <th>2801</th>\n",
       "      <td>dulv</td>\n",
       "      <td>37.386500</td>\n",
       "      <td>-121.969000</td>\n",
       "      <td>2018-07-17</td>\n",
       "      <td>train</td>\n",
       "      <td>west</td>\n",
       "      <td>5</td>\n",
       "      <td>12415000.00</td>\n",
       "    </tr>\n",
       "    <tr>\n",
       "      <th>7431</th>\n",
       "      <td>mbbo</td>\n",
       "      <td>39.399200</td>\n",
       "      <td>-99.424810</td>\n",
       "      <td>2018-06-25</td>\n",
       "      <td>train</td>\n",
       "      <td>midwest</td>\n",
       "      <td>5</td>\n",
       "      <td>29767500.00</td>\n",
       "    </tr>\n",
       "    <tr>\n",
       "      <th>13427</th>\n",
       "      <td>jljl</td>\n",
       "      <td>43.176850</td>\n",
       "      <td>-108.614650</td>\n",
       "      <td>2021-09-14</td>\n",
       "      <td>train</td>\n",
       "      <td>west</td>\n",
       "      <td>5</td>\n",
       "      <td>18485452.82</td>\n",
       "    </tr>\n",
       "    <tr>\n",
       "      <th>4675</th>\n",
       "      <td>epww</td>\n",
       "      <td>39.399200</td>\n",
       "      <td>-99.424810</td>\n",
       "      <td>2018-08-13</td>\n",
       "      <td>train</td>\n",
       "      <td>midwest</td>\n",
       "      <td>5</td>\n",
       "      <td>59535000.00</td>\n",
       "    </tr>\n",
       "    <tr>\n",
       "      <th>5854</th>\n",
       "      <td>fmey</td>\n",
       "      <td>40.057180</td>\n",
       "      <td>-76.525770</td>\n",
       "      <td>2015-05-14</td>\n",
       "      <td>train</td>\n",
       "      <td>northeast</td>\n",
       "      <td>5</td>\n",
       "      <td>27400000.00</td>\n",
       "    </tr>\n",
       "  </tbody>\n",
       "</table>\n",
       "<p>29990 rows × 8 columns</p>\n",
       "</div>"
      ],
      "text/plain": [
       "        uid   latitude   longitude        date  split     region  severity  \\\n",
       "0      rduy  35.837000  -79.001000  2015-08-06  train      south         3   \n",
       "1      nmkw  35.865797  -78.804114  2015-09-24  train      south         2   \n",
       "2      rqwt  37.320400 -120.983000  2018-04-10  train       west         4   \n",
       "3      xyde  37.261600 -120.906000  2017-10-10  train       west         4   \n",
       "4      bbzd  35.794000  -79.014330  2015-06-22  train      south         2   \n",
       "...     ...        ...         ...         ...    ...        ...       ...   \n",
       "2801   dulv  37.386500 -121.969000  2018-07-17  train       west         5   \n",
       "7431   mbbo  39.399200  -99.424810  2018-06-25  train    midwest         5   \n",
       "13427  jljl  43.176850 -108.614650  2021-09-14  train       west         5   \n",
       "4675   epww  39.399200  -99.424810  2018-08-13  train    midwest         5   \n",
       "5854   fmey  40.057180  -76.525770  2015-05-14  train  northeast         5   \n",
       "\n",
       "           density  \n",
       "0        728075.00  \n",
       "1         42407.00  \n",
       "2       6675000.00  \n",
       "3       5480000.00  \n",
       "4         73582.00  \n",
       "...            ...  \n",
       "2801   12415000.00  \n",
       "7431   29767500.00  \n",
       "13427  18485452.82  \n",
       "4675   59535000.00  \n",
       "5854   27400000.00  \n",
       "\n",
       "[29990 rows x 8 columns]"
      ]
     },
     "execution_count": 101,
     "metadata": {},
     "output_type": "execute_result"
    }
   ],
   "source": [
    "# balance the training set\n",
    "# upsample the minority classes to match the majority class\n",
    "\n",
    "from sklearn.utils import resample\n",
    "\n",
    "train = pd.read_csv(path / 'train.csv')\n",
    "majority = train[train.severity == 1]\n",
    "for i in range(2, 6):\n",
    "\tthis_labels = train[train.severity == i]\n",
    "\tdf = resample(this_labels, replace=True, n_samples=len(majority) - len(this_labels), random_state=42)\n",
    "\ttrain = pd.concat([train, df])\n",
    "\n",
    "train\n"
   ]
  },
  {
   "cell_type": "code",
   "execution_count": 102,
   "metadata": {},
   "outputs": [
    {
     "data": {
      "text/plain": [
       "3    5998\n",
       "2    5998\n",
       "4    5998\n",
       "1    5998\n",
       "5    5998\n",
       "Name: severity, dtype: int64"
      ]
     },
     "execution_count": 102,
     "metadata": {},
     "output_type": "execute_result"
    }
   ],
   "source": [
    "train.severity.value_counts()"
   ]
  },
  {
   "cell_type": "code",
   "execution_count": 103,
   "metadata": {},
   "outputs": [
    {
     "data": {
      "text/plain": [
       "[]"
      ]
     },
     "execution_count": 103,
     "metadata": {},
     "output_type": "execute_result"
    },
    {
     "data": {
      "image/png": "[encoded data removed]",
      "text/plain": [
       "<Figure size 1000x700 with 1 Axes>"
      ]
     },
     "metadata": {},
     "output_type": "display_data"
    }
   ],
   "source": [
    "fig = plt.figure(figsize=(10, 7))\n",
    "ax = fig.add_subplot(111)\n",
    "train.severity.hist(ax =ax, label='train')\n",
    "val_split.severity.hist(ax =ax, label='val')\n",
    "plt.plot()"
   ]
  },
  {
   "cell_type": "code",
   "execution_count": 104,
   "metadata": {},
   "outputs": [],
   "source": [
    "train.to_csv(path / 'train_balanced.csv', index=False)"
   ]
  }
 ],
 "metadata": {
  "kernelspec": {
   "display_name": "Python 3",
   "language": "python",
   "name": "python3"
  },
  "language_info": {
   "codemirror_mode": {
    "name": "ipython",
    "version": 3
   },
   "file_extension": ".py",
   "mimetype": "text/x-python",
   "name": "python",
   "nbconvert_exporter": "python",
   "pygments_lexer": "ipython3",
   "version": "3.10.6"
  },
  "orig_nbformat": 4,
  "vscode": {
   "interpreter": {
    "hash": "31f2aee4e71d21fbe5cf8b01ff0e069b9275f58929596ceb00d14d90e3e16cd6"
   }
  }
 },
 "nbformat": 4,
 "nbformat_minor": 2
}
