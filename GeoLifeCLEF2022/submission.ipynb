{
 "cells": [
  {
   "cell_type": "code",
   "execution_count": 1,
   "metadata": {},
   "outputs": [],
   "source": [
    "%load_ext autoreload\n",
    "%autoreload 2"
   ]
  },
  {
   "cell_type": "code",
   "execution_count": 2,
   "metadata": {},
   "outputs": [
    {
     "name": "stdout",
     "output_type": "stream",
     "text": [
      "train: 1587395\n",
      "val: 40080\n",
      "test: 36421\n"
     ]
    }
   ],
   "source": [
    "from src import RGBNirModule, RGBNirDataModule\n",
    "\n",
    "dm = RGBNirDataModule(batch_size=512, num_workers=10, pin_memory=True)\n",
    "dm.setup()"
   ]
  },
  {
   "cell_type": "code",
   "execution_count": 3,
   "metadata": {},
   "outputs": [
    {
     "name": "stderr",
     "output_type": "stream",
     "text": [
      "Exception ignored in: <function _MultiProcessingDataLoaderIter.__del__ at 0x7fb22747a310>\n",
      "Traceback (most recent call last):\n",
      "  File \"/home/juan/miniconda3/lib/python3.9/site-packages/torch/utils/data/dataloader.py\", line 1328, in __del__\n",
      "    self._shutdown_workers()\n",
      "  File \"/home/juan/miniconda3/lib/python3.9/site-packages/torch/utils/data/dataloader.py\", line 1268, in _shutdown_workers\n",
      "    if not self._shutdown:\n",
      "AttributeError: '_MultiProcessingDataLoaderIter' object has no attribute '_shutdown'\n",
      "Exception ignored in: <function _MultiProcessingDataLoaderIter.__del__ at 0x7fb22747a310>\n",
      "Traceback (most recent call last):\n",
      "  File \"/home/juan/miniconda3/lib/python3.9/site-packages/torch/utils/data/dataloader.py\", line 1328, in __del__\n",
      "    self._shutdown_workers()\n",
      "  File \"/home/juan/miniconda3/lib/python3.9/site-packages/torch/utils/data/dataloader.py\", line 1268, in _shutdown_workers\n",
      "    if not self._shutdown:\n",
      "AttributeError: '_MultiProcessingDataLoaderIter' object has no attribute '_shutdown'\n"
     ]
    },
    {
     "data": {
      "text/plain": [
       "\"backbone\":         resnet18\n",
       "\"datamodule\":       {'batch_size': 512, 'num_workers': 10, 'pin_memory': True, 'train_trans': {'HorizontalFlip': {'p': 0.5}, 'VerticalFlip': {'p': 0.5}, 'Transpose': {'p': 0.5}, 'RandomRotate90': {'p': 0.5}}}\n",
       "\"early_stopping\":   True\n",
       "\"optimizer\":        Adam\n",
       "\"optimizer_params\": {'lr': 0.001}\n",
       "\"pretrained\":       True\n",
       "\"trainer\":          {'gpus': 1, 'max_epochs': 30, 'logger': <pytorch_lightning.loggers.wandb.WandbLogger object at 0x7fb1df648100>, 'enable_checkpointing': True, 'overfit_batches': 0, 'deterministic': True, 'precision': 16, 'callbacks': [<pytorch_lightning.callbacks.model_checkpoint.ModelCheckpoint object at 0x7fb1df648160>, <pytorch_lightning.callbacks.early_stopping.EarlyStopping object at 0x7fb1d449b910>, <pytorch_lightning.callbacks.progress.tqdm_progress.TQDMProgressBar object at 0x7fb1d449b940>, <pytorch_lightning.callbacks.model_summary.ModelSummary object at 0x7fb1d449b970>, <pytorch_lightning.callbacks.gradient_accumulation_scheduler.GradientAccumulationScheduler object at 0x7fb1d449b9a0>]}"
      ]
     },
     "execution_count": 3,
     "metadata": {},
     "output_type": "execute_result"
    }
   ],
   "source": [
    "model = RGBNirModule.load_from_checkpoint('checkpoints/r18da-val_loss=6.45633-epoch=4.ckpt')\n",
    "model.hparams"
   ]
  },
  {
   "cell_type": "code",
   "execution_count": 4,
   "metadata": {},
   "outputs": [
    {
     "name": "stderr",
     "output_type": "stream",
     "text": [
      "100%|██████████| 79/79 [02:02<00:00,  1.55s/it]\n"
     ]
    },
    {
     "data": {
      "text/plain": [
       "0.7288397723277075"
      ]
     },
     "execution_count": 4,
     "metadata": {},
     "output_type": "execute_result"
    }
   ],
   "source": [
    "from tqdm import tqdm\n",
    "from src.GLC.metrics import top_30_error_rate\n",
    "import numpy as np \n",
    "\n",
    "model.cuda(1)\n",
    "dl = dm.val_dataloader()\n",
    "accs = []\n",
    "for imgs, labels in tqdm(dl):\n",
    "    preds = model.predict(imgs)\n",
    "    accs.append(top_30_error_rate(labels, preds.cpu()))\n",
    "np.mean(accs)"
   ]
  },
  {
   "cell_type": "code",
   "execution_count": 9,
   "metadata": {},
   "outputs": [
    {
     "name": "stderr",
     "output_type": "stream",
     "text": [
      "100%|██████████| 72/72 [00:24<00:00,  2.90it/s]\n"
     ]
    }
   ],
   "source": [
    "from tqdm import tqdm\n",
    "\n",
    "model.cuda(1)\n",
    "dl = dm.test_dataloader()\n",
    "labels, observations = [], []\n",
    "for imgs, observation_ids in tqdm(dl):\n",
    "    preds = model.predict(imgs)\n",
    "    values, ixs = preds.topk(30)\n",
    "    labels += [' '.join([str(i.item()) for i in ix]) for ix in ixs]\n",
    "    observations += observation_ids.numpy().tolist()"
   ]
  },
  {
   "cell_type": "code",
   "execution_count": 10,
   "metadata": {},
   "outputs": [
    {
     "data": {
      "text/html": [
       "<div>\n",
       "<style scoped>\n",
       "    .dataframe tbody tr th:only-of-type {\n",
       "        vertical-align: middle;\n",
       "    }\n",
       "\n",
       "    .dataframe tbody tr th {\n",
       "        vertical-align: top;\n",
       "    }\n",
       "\n",
       "    .dataframe thead th {\n",
       "        text-align: right;\n",
       "    }\n",
       "</style>\n",
       "<table border=\"1\" class=\"dataframe\">\n",
       "  <thead>\n",
       "    <tr style=\"text-align: right;\">\n",
       "      <th></th>\n",
       "      <th>Id</th>\n",
       "      <th>Predicted</th>\n",
       "    </tr>\n",
       "  </thead>\n",
       "  <tbody>\n",
       "    <tr>\n",
       "      <th>27184</th>\n",
       "      <td>21077774</td>\n",
       "      <td>5045 5273 5612 5095 389 5270 5332 5366 5053 59...</td>\n",
       "    </tr>\n",
       "    <tr>\n",
       "      <th>4228</th>\n",
       "      <td>10210359</td>\n",
       "      <td>393 663 833 3949 531 3149 821 716 414 910 76 1...</td>\n",
       "    </tr>\n",
       "    <tr>\n",
       "      <th>28768</th>\n",
       "      <td>21249204</td>\n",
       "      <td>8851 6568 5196 5226 5225 2648 869 7682 5936 71...</td>\n",
       "    </tr>\n",
       "    <tr>\n",
       "      <th>35228</th>\n",
       "      <td>21943515</td>\n",
       "      <td>5045 6547 2733 2386 5143 5366 2200 1743 5011 5...</td>\n",
       "    </tr>\n",
       "    <tr>\n",
       "      <th>34221</th>\n",
       "      <td>21827506</td>\n",
       "      <td>5045 3072 3034 5152 4999 5037 5024 3064 5025 5...</td>\n",
       "    </tr>\n",
       "  </tbody>\n",
       "</table>\n",
       "</div>"
      ],
      "text/plain": [
       "             Id                                          Predicted\n",
       "27184  21077774  5045 5273 5612 5095 389 5270 5332 5366 5053 59...\n",
       "4228   10210359  393 663 833 3949 531 3149 821 716 414 910 76 1...\n",
       "28768  21249204  8851 6568 5196 5226 5225 2648 869 7682 5936 71...\n",
       "35228  21943515  5045 6547 2733 2386 5143 5366 2200 1743 5011 5...\n",
       "34221  21827506  5045 3072 3034 5152 4999 5037 5024 3064 5025 5..."
      ]
     },
     "execution_count": 10,
     "metadata": {},
     "output_type": "execute_result"
    }
   ],
   "source": [
    "import pandas as pd \n",
    "\n",
    "submission = pd.DataFrame({'Id': observations, 'Predicted': labels})\n",
    "submission.to_csv('submission.csv', index=False)\n",
    "submission.sample(5)"
   ]
  },
  {
   "cell_type": "code",
   "execution_count": 11,
   "metadata": {},
   "outputs": [
    {
     "data": {
      "text/html": [
       "<div>\n",
       "<style scoped>\n",
       "    .dataframe tbody tr th:only-of-type {\n",
       "        vertical-align: middle;\n",
       "    }\n",
       "\n",
       "    .dataframe tbody tr th {\n",
       "        vertical-align: top;\n",
       "    }\n",
       "\n",
       "    .dataframe thead th {\n",
       "        text-align: right;\n",
       "    }\n",
       "</style>\n",
       "<table border=\"1\" class=\"dataframe\">\n",
       "  <thead>\n",
       "    <tr style=\"text-align: right;\">\n",
       "      <th></th>\n",
       "      <th>Id</th>\n",
       "      <th>Predicted</th>\n",
       "    </tr>\n",
       "  </thead>\n",
       "  <tbody>\n",
       "    <tr>\n",
       "      <th>25717</th>\n",
       "      <td>20922092</td>\n",
       "      <td>0 1 2 3 4 5 6 7 8 9 10 11 12 13 14 15 16 17 18...</td>\n",
       "    </tr>\n",
       "    <tr>\n",
       "      <th>30353</th>\n",
       "      <td>21416199</td>\n",
       "      <td>0 1 2 3 4 5 6 7 8 9 10 11 12 13 14 15 16 17 18...</td>\n",
       "    </tr>\n",
       "    <tr>\n",
       "      <th>4681</th>\n",
       "      <td>10221912</td>\n",
       "      <td>0 1 2 3 4 5 6 7 8 9 10 11 12 13 14 15 16 17 18...</td>\n",
       "    </tr>\n",
       "    <tr>\n",
       "      <th>12817</th>\n",
       "      <td>10613746</td>\n",
       "      <td>0 1 2 3 4 5 6 7 8 9 10 11 12 13 14 15 16 17 18...</td>\n",
       "    </tr>\n",
       "    <tr>\n",
       "      <th>1340</th>\n",
       "      <td>10064142</td>\n",
       "      <td>0 1 2 3 4 5 6 7 8 9 10 11 12 13 14 15 16 17 18...</td>\n",
       "    </tr>\n",
       "    <tr>\n",
       "      <th>5172</th>\n",
       "      <td>10244884</td>\n",
       "      <td>0 1 2 3 4 5 6 7 8 9 10 11 12 13 14 15 16 17 18...</td>\n",
       "    </tr>\n",
       "    <tr>\n",
       "      <th>20594</th>\n",
       "      <td>20363012</td>\n",
       "      <td>0 1 2 3 4 5 6 7 8 9 10 11 12 13 14 15 16 17 18...</td>\n",
       "    </tr>\n",
       "    <tr>\n",
       "      <th>34633</th>\n",
       "      <td>21876321</td>\n",
       "      <td>0 1 2 3 4 5 6 7 8 9 10 11 12 13 14 15 16 17 18...</td>\n",
       "    </tr>\n",
       "    <tr>\n",
       "      <th>20099</th>\n",
       "      <td>20307027</td>\n",
       "      <td>0 1 2 3 4 5 6 7 8 9 10 11 12 13 14 15 16 17 18...</td>\n",
       "    </tr>\n",
       "    <tr>\n",
       "      <th>31958</th>\n",
       "      <td>21590367</td>\n",
       "      <td>0 1 2 3 4 5 6 7 8 9 10 11 12 13 14 15 16 17 18...</td>\n",
       "    </tr>\n",
       "  </tbody>\n",
       "</table>\n",
       "</div>"
      ],
      "text/plain": [
       "             Id                                          Predicted\n",
       "25717  20922092  0 1 2 3 4 5 6 7 8 9 10 11 12 13 14 15 16 17 18...\n",
       "30353  21416199  0 1 2 3 4 5 6 7 8 9 10 11 12 13 14 15 16 17 18...\n",
       "4681   10221912  0 1 2 3 4 5 6 7 8 9 10 11 12 13 14 15 16 17 18...\n",
       "12817  10613746  0 1 2 3 4 5 6 7 8 9 10 11 12 13 14 15 16 17 18...\n",
       "1340   10064142  0 1 2 3 4 5 6 7 8 9 10 11 12 13 14 15 16 17 18...\n",
       "5172   10244884  0 1 2 3 4 5 6 7 8 9 10 11 12 13 14 15 16 17 18...\n",
       "20594  20363012  0 1 2 3 4 5 6 7 8 9 10 11 12 13 14 15 16 17 18...\n",
       "34633  21876321  0 1 2 3 4 5 6 7 8 9 10 11 12 13 14 15 16 17 18...\n",
       "20099  20307027  0 1 2 3 4 5 6 7 8 9 10 11 12 13 14 15 16 17 18...\n",
       "31958  21590367  0 1 2 3 4 5 6 7 8 9 10 11 12 13 14 15 16 17 18..."
      ]
     },
     "execution_count": 11,
     "metadata": {},
     "output_type": "execute_result"
    }
   ],
   "source": [
    "sample_submission = pd.read_csv('data/sample_submission.csv')\n",
    "assert len(sample_submission) == len(submission)\n",
    "sample_submission.sample(10)"
   ]
  }
 ],
 "metadata": {
  "interpreter": {
   "hash": "74dbfc52f168b3071122cf9c0781887d6121c12f9c1b29bca56ce221bccb2a07"
  },
  "kernelspec": {
   "display_name": "Python 3.9.5 ('base')",
   "language": "python",
   "name": "python3"
  },
  "language_info": {
   "codemirror_mode": {
    "name": "ipython",
    "version": 3
   },
   "file_extension": ".py",
   "mimetype": "text/x-python",
   "name": "python",
   "nbconvert_exporter": "python",
   "pygments_lexer": "ipython3",
   "version": "3.9.5"
  },
  "orig_nbformat": 4
 },
 "nbformat": 4,
 "nbformat_minor": 2
}
