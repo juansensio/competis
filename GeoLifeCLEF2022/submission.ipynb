{
 "cells": [
  {
   "cell_type": "code",
   "execution_count": 1,
   "metadata": {},
   "outputs": [],
   "source": [
    "%load_ext autoreload\n",
    "%autoreload 2"
   ]
  },
  {
   "cell_type": "code",
   "execution_count": 2,
   "metadata": {},
   "outputs": [
    {
     "name": "stdout",
     "output_type": "stream",
     "text": [
      "train: 1587395\n",
      "val: 40080\n",
      "test: 36421\n"
     ]
    }
   ],
   "source": [
    "from src import RGBNirBioModule, RGBNirBioDataModule\n",
    "\n",
    "dm = RGBNirBioDataModule(batch_size=512, num_workers=10, pin_memory=True)\n",
    "dm.setup()"
   ]
  },
  {
   "cell_type": "code",
   "execution_count": 3,
   "metadata": {},
   "outputs": [
    {
     "name": "stderr",
     "output_type": "stream",
     "text": [
      "Exception ignored in: <function _MultiProcessingDataLoaderIter.__del__ at 0x7ff9878db9d0>\n",
      "Traceback (most recent call last):\n",
      "  File \"/home/juan/miniconda3/lib/python3.8/site-packages/torch/utils/data/dataloader.py\", line 1358, in __del__\n",
      "    self._shutdown_workers()\n",
      "  File \"/home/juan/miniconda3/lib/python3.8/site-packages/torch/utils/data/dataloader.py\", line 1289, in _shutdown_workers\n",
      "    if not self._shutdown:\n",
      "AttributeError: '_MultiProcessingDataLoaderIter' object has no attribute '_shutdown'\n",
      "Exception ignored in: <function _MultiProcessingDataLoaderIter.__del__ at 0x7ff9878db9d0>\n",
      "Traceback (most recent call last):\n",
      "  File \"/home/juan/miniconda3/lib/python3.8/site-packages/torch/utils/data/dataloader.py\", line 1358, in __del__\n",
      "    self._shutdown_workers()\n",
      "  File \"/home/juan/miniconda3/lib/python3.8/site-packages/torch/utils/data/dataloader.py\", line 1289, in _shutdown_workers\n",
      "    if not self._shutdown:\n",
      "AttributeError: '_MultiProcessingDataLoaderIter' object has no attribute '_shutdown'\n"
     ]
    },
    {
     "data": {
      "text/plain": [
       "\"backbone\":         resnet18\n",
       "\"bio_dropout\":      0.0\n",
       "\"bio_layers\":       [256, 512]\n",
       "\"datamodule\":       {'batch_size': 512, 'num_workers': 10, 'pin_memory': True}\n",
       "\"early_stopping\":   True\n",
       "\"num_bio\":          27\n",
       "\"optimizer\":        Adam\n",
       "\"optimizer_params\": {'lr': 0.001}\n",
       "\"pretrained\":       True\n",
       "\"trainer\":          {'gpus': 1, 'max_epochs': 30, 'logger': <pytorch_lightning.loggers.wandb.WandbLogger object at 0x7ff9713c0eb0>, 'enable_checkpointing': True, 'overfit_batches': 0, 'deterministic': True, 'precision': 16, 'callbacks': [<pytorch_lightning.callbacks.model_checkpoint.ModelCheckpoint object at 0x7ff9713c0e80>, <pytorch_lightning.callbacks.early_stopping.EarlyStopping object at 0x7ff9326e5550>, <pytorch_lightning.callbacks.progress.tqdm_progress.TQDMProgressBar object at 0x7ff9326e5580>, <pytorch_lightning.callbacks.model_summary.ModelSummary object at 0x7ff9326e55b0>, <pytorch_lightning.callbacks.gradient_accumulation_scheduler.GradientAccumulationScheduler object at 0x7ff9326e55e0>]}"
      ]
     },
     "execution_count": 3,
     "metadata": {},
     "output_type": "execute_result"
    }
   ],
   "source": [
    "model = RGBNirBioModule.load_from_checkpoint('checkpoints/r18RGBNirBio-val_loss=6.35046-epoch=2.ckpt')\n",
    "model.hparams"
   ]
  },
  {
   "cell_type": "code",
   "execution_count": 6,
   "metadata": {},
   "outputs": [
    {
     "name": "stderr",
     "output_type": "stream",
     "text": [
      "100%|██████████| 79/79 [01:15<00:00,  1.05it/s]\n"
     ]
    },
    {
     "data": {
      "text/plain": [
       "0.7182527909634319"
      ]
     },
     "execution_count": 6,
     "metadata": {},
     "output_type": "execute_result"
    }
   ],
   "source": [
    "from tqdm import tqdm\n",
    "from src.GLC.metrics import top_30_error_rate\n",
    "import numpy as np \n",
    "\n",
    "model.cuda(1)\n",
    "dl = dm.val_dataloader()\n",
    "accs = []\n",
    "for batch in tqdm(dl):\n",
    "    labels = batch['label']\n",
    "    preds = model.predict(batch)\n",
    "    accs.append(top_30_error_rate(labels, preds.cpu()))\n",
    "np.mean(accs)"
   ]
  },
  {
   "cell_type": "code",
   "execution_count": 7,
   "metadata": {},
   "outputs": [
    {
     "name": "stderr",
     "output_type": "stream",
     "text": [
      "100%|██████████| 72/72 [00:24<00:00,  2.90it/s]\n"
     ]
    }
   ],
   "source": [
    "from tqdm import tqdm\n",
    "\n",
    "model.cuda(1)\n",
    "dl = dm.test_dataloader()\n",
    "labels, observations = [], []\n",
    "for batch in tqdm(dl):\n",
    "    preds = model.predict(batch)\n",
    "    values, ixs = preds.topk(30)\n",
    "    labels += [' '.join([str(i.item()) for i in ix]) for ix in ixs]\n",
    "    observation_ids = batch['observation_id']\n",
    "    observations += observation_ids.numpy().tolist()"
   ]
  },
  {
   "cell_type": "code",
   "execution_count": 8,
   "metadata": {},
   "outputs": [
    {
     "data": {
      "text/html": [
       "<div>\n",
       "<style scoped>\n",
       "    .dataframe tbody tr th:only-of-type {\n",
       "        vertical-align: middle;\n",
       "    }\n",
       "\n",
       "    .dataframe tbody tr th {\n",
       "        vertical-align: top;\n",
       "    }\n",
       "\n",
       "    .dataframe thead th {\n",
       "        text-align: right;\n",
       "    }\n",
       "</style>\n",
       "<table border=\"1\" class=\"dataframe\">\n",
       "  <thead>\n",
       "    <tr style=\"text-align: right;\">\n",
       "      <th></th>\n",
       "      <th>Id</th>\n",
       "      <th>Predicted</th>\n",
       "    </tr>\n",
       "  </thead>\n",
       "  <tbody>\n",
       "    <tr>\n",
       "      <th>18820</th>\n",
       "      <td>20166878</td>\n",
       "      <td>224 246 3072 553 5045 2971 3034 5095 5152 4999...</td>\n",
       "    </tr>\n",
       "    <tr>\n",
       "      <th>34649</th>\n",
       "      <td>21879063</td>\n",
       "      <td>5322 6016 5064 9041 5311 6553 6263 7358 6368 5...</td>\n",
       "    </tr>\n",
       "    <tr>\n",
       "      <th>6372</th>\n",
       "      <td>10544660</td>\n",
       "      <td>348 815 47 591 10 603 769 262 576 213 450 1316...</td>\n",
       "    </tr>\n",
       "    <tr>\n",
       "      <th>21515</th>\n",
       "      <td>20459516</td>\n",
       "      <td>5045 5366 5273 389 5332 5095 2971 3072 224 494...</td>\n",
       "    </tr>\n",
       "    <tr>\n",
       "      <th>23998</th>\n",
       "      <td>20732590</td>\n",
       "      <td>5943 5146 3521 5109 6263 6833 5311 2822 3132 7...</td>\n",
       "    </tr>\n",
       "  </tbody>\n",
       "</table>\n",
       "</div>"
      ],
      "text/plain": [
       "             Id                                          Predicted\n",
       "18820  20166878  224 246 3072 553 5045 2971 3034 5095 5152 4999...\n",
       "34649  21879063  5322 6016 5064 9041 5311 6553 6263 7358 6368 5...\n",
       "6372   10544660  348 815 47 591 10 603 769 262 576 213 450 1316...\n",
       "21515  20459516  5045 5366 5273 389 5332 5095 2971 3072 224 494...\n",
       "23998  20732590  5943 5146 3521 5109 6263 6833 5311 2822 3132 7..."
      ]
     },
     "execution_count": 8,
     "metadata": {},
     "output_type": "execute_result"
    }
   ],
   "source": [
    "import pandas as pd \n",
    "\n",
    "submission = pd.DataFrame({'Id': observations, 'Predicted': labels})\n",
    "submission.to_csv('submission.csv', index=False)\n",
    "submission.sample(5)"
   ]
  },
  {
   "cell_type": "code",
   "execution_count": 9,
   "metadata": {},
   "outputs": [
    {
     "data": {
      "text/html": [
       "<div>\n",
       "<style scoped>\n",
       "    .dataframe tbody tr th:only-of-type {\n",
       "        vertical-align: middle;\n",
       "    }\n",
       "\n",
       "    .dataframe tbody tr th {\n",
       "        vertical-align: top;\n",
       "    }\n",
       "\n",
       "    .dataframe thead th {\n",
       "        text-align: right;\n",
       "    }\n",
       "</style>\n",
       "<table border=\"1\" class=\"dataframe\">\n",
       "  <thead>\n",
       "    <tr style=\"text-align: right;\">\n",
       "      <th></th>\n",
       "      <th>Id</th>\n",
       "      <th>Predicted</th>\n",
       "    </tr>\n",
       "  </thead>\n",
       "  <tbody>\n",
       "    <tr>\n",
       "      <th>9318</th>\n",
       "      <td>10443141</td>\n",
       "      <td>0 1 2 3 4 5 6 7 8 9 10 11 12 13 14 15 16 17 18...</td>\n",
       "    </tr>\n",
       "    <tr>\n",
       "      <th>2439</th>\n",
       "      <td>10115911</td>\n",
       "      <td>0 1 2 3 4 5 6 7 8 9 10 11 12 13 14 15 16 17 18...</td>\n",
       "    </tr>\n",
       "    <tr>\n",
       "      <th>22631</th>\n",
       "      <td>20578366</td>\n",
       "      <td>0 1 2 3 4 5 6 7 8 9 10 11 12 13 14 15 16 17 18...</td>\n",
       "    </tr>\n",
       "    <tr>\n",
       "      <th>31454</th>\n",
       "      <td>21536522</td>\n",
       "      <td>0 1 2 3 4 5 6 7 8 9 10 11 12 13 14 15 16 17 18...</td>\n",
       "    </tr>\n",
       "    <tr>\n",
       "      <th>35739</th>\n",
       "      <td>21995555</td>\n",
       "      <td>0 1 2 3 4 5 6 7 8 9 10 11 12 13 14 15 16 17 18...</td>\n",
       "    </tr>\n",
       "    <tr>\n",
       "      <th>796</th>\n",
       "      <td>10037863</td>\n",
       "      <td>0 1 2 3 4 5 6 7 8 9 10 11 12 13 14 15 16 17 18...</td>\n",
       "    </tr>\n",
       "    <tr>\n",
       "      <th>27740</th>\n",
       "      <td>21135885</td>\n",
       "      <td>0 1 2 3 4 5 6 7 8 9 10 11 12 13 14 15 16 17 18...</td>\n",
       "    </tr>\n",
       "    <tr>\n",
       "      <th>20288</th>\n",
       "      <td>20329097</td>\n",
       "      <td>0 1 2 3 4 5 6 7 8 9 10 11 12 13 14 15 16 17 18...</td>\n",
       "    </tr>\n",
       "    <tr>\n",
       "      <th>29550</th>\n",
       "      <td>21331627</td>\n",
       "      <td>0 1 2 3 4 5 6 7 8 9 10 11 12 13 14 15 16 17 18...</td>\n",
       "    </tr>\n",
       "    <tr>\n",
       "      <th>18396</th>\n",
       "      <td>20117216</td>\n",
       "      <td>0 1 2 3 4 5 6 7 8 9 10 11 12 13 14 15 16 17 18...</td>\n",
       "    </tr>\n",
       "  </tbody>\n",
       "</table>\n",
       "</div>"
      ],
      "text/plain": [
       "             Id                                          Predicted\n",
       "9318   10443141  0 1 2 3 4 5 6 7 8 9 10 11 12 13 14 15 16 17 18...\n",
       "2439   10115911  0 1 2 3 4 5 6 7 8 9 10 11 12 13 14 15 16 17 18...\n",
       "22631  20578366  0 1 2 3 4 5 6 7 8 9 10 11 12 13 14 15 16 17 18...\n",
       "31454  21536522  0 1 2 3 4 5 6 7 8 9 10 11 12 13 14 15 16 17 18...\n",
       "35739  21995555  0 1 2 3 4 5 6 7 8 9 10 11 12 13 14 15 16 17 18...\n",
       "796    10037863  0 1 2 3 4 5 6 7 8 9 10 11 12 13 14 15 16 17 18...\n",
       "27740  21135885  0 1 2 3 4 5 6 7 8 9 10 11 12 13 14 15 16 17 18...\n",
       "20288  20329097  0 1 2 3 4 5 6 7 8 9 10 11 12 13 14 15 16 17 18...\n",
       "29550  21331627  0 1 2 3 4 5 6 7 8 9 10 11 12 13 14 15 16 17 18...\n",
       "18396  20117216  0 1 2 3 4 5 6 7 8 9 10 11 12 13 14 15 16 17 18..."
      ]
     },
     "execution_count": 9,
     "metadata": {},
     "output_type": "execute_result"
    }
   ],
   "source": [
    "sample_submission = pd.read_csv('data/sample_submission.csv')\n",
    "assert len(sample_submission) == len(submission)\n",
    "sample_submission.sample(10)"
   ]
  }
 ],
 "metadata": {
  "interpreter": {
   "hash": "74dbfc52f168b3071122cf9c0781887d6121c12f9c1b29bca56ce221bccb2a07"
  },
  "kernelspec": {
   "display_name": "Python 3.9.5 ('base')",
   "language": "python",
   "name": "python3"
  },
  "language_info": {
   "codemirror_mode": {
    "name": "ipython",
    "version": 3
   },
   "file_extension": ".py",
   "mimetype": "text/x-python",
   "name": "python",
   "nbconvert_exporter": "python",
   "pygments_lexer": "ipython3",
   "version": "3.8.12"
  },
  "orig_nbformat": 4
 },
 "nbformat": 4,
 "nbformat_minor": 2
}
