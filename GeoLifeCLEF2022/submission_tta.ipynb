{
 "cells": [
  {
   "cell_type": "code",
   "execution_count": 1,
   "metadata": {},
   "outputs": [],
   "source": [
    "%load_ext autoreload\n",
    "%autoreload 2"
   ]
  },
  {
   "cell_type": "code",
   "execution_count": 2,
   "metadata": {},
   "outputs": [
    {
     "data": {
      "text/plain": [
       "<All keys matched successfully>"
      ]
     },
     "execution_count": 2,
     "metadata": {},
     "output_type": "execute_result"
    }
   ],
   "source": [
    "import torch \n",
    "from src import AllModule\n",
    "\n",
    "state_dict = torch.load('checkpoints/all-val_error=0.70873-epoch=3.ckpt')['state_dict']\n",
    "model = AllModule(dict(backbone='resnet18', pretrained=True, mlp_layers=[256, 512], mlp_dropout=0.))\n",
    "model.load_state_dict(state_dict)"
   ]
  },
  {
   "cell_type": "code",
   "execution_count": 11,
   "metadata": {},
   "outputs": [
    {
     "name": "stdout",
     "output_type": "stream",
     "text": [
      "train: 1587395\n",
      "val: 40080\n",
      "test: 36421\n"
     ]
    },
    {
     "name": "stderr",
     "output_type": "stream",
     "text": [
      "100%|██████████| 72/72 [00:49<00:00,  1.44it/s]\n"
     ]
    },
    {
     "name": "stdout",
     "output_type": "stream",
     "text": [
      "Compose([\n",
      "  HorizontalFlip(always_apply=False, p=1),\n",
      "], p=1.0, bbox_params=None, keypoint_params=None, additional_targets={'nir': 'image', 'alt': 'image', 'lc': 'image'})\n"
     ]
    },
    {
     "name": "stderr",
     "output_type": "stream",
     "text": [
      " 15%|█▌        | 11/72 [00:11<01:04,  1.05s/it]\n"
     ]
    },
    {
     "ename": "KeyboardInterrupt",
     "evalue": "",
     "output_type": "error",
     "traceback": [
      "\u001b[0;31m---------------------------------------------------------------------------\u001b[0m",
      "\u001b[0;31mKeyboardInterrupt\u001b[0m                         Traceback (most recent call last)",
      "\u001b[1;32m/home/juan/Desktop/competis/GeoLifeCLEF2022/submission_tta.ipynb Cell 3'\u001b[0m in \u001b[0;36m<cell line: 18>\u001b[0;34m()\u001b[0m\n\u001b[1;32m     <a href='vscode-notebook-cell://ssh-remote%2Bpykon/home/juan/Desktop/competis/GeoLifeCLEF2022/submission_tta.ipynb#ch0000002vscode-remote?line=21'>22</a>\u001b[0m \u001b[39mfor\u001b[39;00m batch \u001b[39min\u001b[39;00m tqdm(dm\u001b[39m.\u001b[39mtest_dataloader()):\n\u001b[1;32m     <a href='vscode-notebook-cell://ssh-remote%2Bpykon/home/juan/Desktop/competis/GeoLifeCLEF2022/submission_tta.ipynb#ch0000002vscode-remote?line=22'>23</a>\u001b[0m     preds \u001b[39m=\u001b[39m model\u001b[39m.\u001b[39mpredict(batch)\n\u001b[0;32m---> <a href='vscode-notebook-cell://ssh-remote%2Bpykon/home/juan/Desktop/competis/GeoLifeCLEF2022/submission_tta.ipynb#ch0000002vscode-remote?line=23'>24</a>\u001b[0m     probas \u001b[39m=\u001b[39m torch\u001b[39m.\u001b[39mconcat([probas, preds\u001b[39m.\u001b[39;49mcpu()], dim\u001b[39m=\u001b[39m\u001b[39m0\u001b[39m)\n\u001b[1;32m     <a href='vscode-notebook-cell://ssh-remote%2Bpykon/home/juan/Desktop/competis/GeoLifeCLEF2022/submission_tta.ipynb#ch0000002vscode-remote?line=24'>25</a>\u001b[0m     observation_ids \u001b[39m=\u001b[39m batch[\u001b[39m'\u001b[39m\u001b[39mobservation_id\u001b[39m\u001b[39m'\u001b[39m]\n\u001b[1;32m     <a href='vscode-notebook-cell://ssh-remote%2Bpykon/home/juan/Desktop/competis/GeoLifeCLEF2022/submission_tta.ipynb#ch0000002vscode-remote?line=25'>26</a>\u001b[0m     observations \u001b[39m+\u001b[39m\u001b[39m=\u001b[39m observation_ids\u001b[39m.\u001b[39mcpu()\u001b[39m.\u001b[39mnumpy()\u001b[39m.\u001b[39mtolist()\n",
      "\u001b[0;31mKeyboardInterrupt\u001b[0m: "
     ]
    }
   ],
   "source": [
    "from tqdm import tqdm\n",
    "from src import AllDataModule\n",
    "\n",
    "model.cuda()\n",
    "\n",
    "tta_trans = [\n",
    "    None,\n",
    "    {'HorizontalFlip': {'p': 1}},\n",
    "    {'VerticalFlip': {'p': 1}},\n",
    "    {'Transpose': {'p': 1}},\n",
    "    {'RandomRotate90': {'p': 1}},\n",
    "]\n",
    "\n",
    "dm = AllDataModule(batch_size=512, num_workers=10, pin_memory=True)\n",
    "dm.setup()\n",
    "\n",
    "all_probas = []\n",
    "for r, trans in enumerate(tta_trans):\n",
    "    dm.test_trans = trans \n",
    "    dm.generate_datasets()\n",
    "    probas, observations = torch.tensor([]), []\n",
    "    for batch in tqdm(dm.test_dataloader()):\n",
    "        preds = model.predict(batch)\n",
    "        probas = torch.concat([probas, preds.cpu()], dim=0)\n",
    "        observation_ids = batch['observation_id']\n",
    "        observations += observation_ids.cpu().numpy().tolist()\n",
    "    all_probas.append(probas)\n",
    "all_probas = torch.stack(all_probas, dim=0) # 5, N, D"
   ]
  },
  {
   "cell_type": "code",
   "execution_count": 8,
   "metadata": {},
   "outputs": [],
   "source": [
    "mean_probas = all_probas.mean(dim=0) # N, D\n",
    "values, ixs = mean_probas.topk(30)\n",
    "final_labels = [' '.join([str(i.item()) for i in ix]) for ix in ixs]"
   ]
  },
  {
   "cell_type": "code",
   "execution_count": 9,
   "metadata": {},
   "outputs": [
    {
     "data": {
      "text/html": [
       "<div>\n",
       "<style scoped>\n",
       "    .dataframe tbody tr th:only-of-type {\n",
       "        vertical-align: middle;\n",
       "    }\n",
       "\n",
       "    .dataframe tbody tr th {\n",
       "        vertical-align: top;\n",
       "    }\n",
       "\n",
       "    .dataframe thead th {\n",
       "        text-align: right;\n",
       "    }\n",
       "</style>\n",
       "<table border=\"1\" class=\"dataframe\">\n",
       "  <thead>\n",
       "    <tr style=\"text-align: right;\">\n",
       "      <th></th>\n",
       "      <th>Id</th>\n",
       "      <th>Predicted</th>\n",
       "    </tr>\n",
       "  </thead>\n",
       "  <tbody>\n",
       "    <tr>\n",
       "      <th>5827</th>\n",
       "      <td>10683833</td>\n",
       "      <td>912 155 554 386 736 169 715 440 949 813 298 12...</td>\n",
       "    </tr>\n",
       "    <tr>\n",
       "      <th>10138</th>\n",
       "      <td>10189873</td>\n",
       "      <td>155 912 152 5 1074 240 754 581 108 106 677 440...</td>\n",
       "    </tr>\n",
       "    <tr>\n",
       "      <th>22771</th>\n",
       "      <td>20594215</td>\n",
       "      <td>224 2076 5095 5045 523 129 2950 2225 5612 5503...</td>\n",
       "    </tr>\n",
       "    <tr>\n",
       "      <th>25136</th>\n",
       "      <td>20858303</td>\n",
       "      <td>5053 5095 131 389 720 5045 1042 1015 5228 1632...</td>\n",
       "    </tr>\n",
       "    <tr>\n",
       "      <th>36356</th>\n",
       "      <td>22063459</td>\n",
       "      <td>8290 5143 5130 4935 933 3495 7395 5205 5 1458 ...</td>\n",
       "    </tr>\n",
       "  </tbody>\n",
       "</table>\n",
       "</div>"
      ],
      "text/plain": [
       "             Id                                          Predicted\n",
       "5827   10683833  912 155 554 386 736 169 715 440 949 813 298 12...\n",
       "10138  10189873  155 912 152 5 1074 240 754 581 108 106 677 440...\n",
       "22771  20594215  224 2076 5095 5045 523 129 2950 2225 5612 5503...\n",
       "25136  20858303  5053 5095 131 389 720 5045 1042 1015 5228 1632...\n",
       "36356  22063459  8290 5143 5130 4935 933 3495 7395 5205 5 1458 ..."
      ]
     },
     "execution_count": 9,
     "metadata": {},
     "output_type": "execute_result"
    }
   ],
   "source": [
    "import pandas as pd \n",
    "\n",
    "submission = pd.DataFrame({'Id': observations, 'Predicted': final_labels})\n",
    "submission.to_csv('submission.csv', index=False)\n",
    "submission.sample(5)"
   ]
  },
  {
   "cell_type": "code",
   "execution_count": 10,
   "metadata": {},
   "outputs": [
    {
     "data": {
      "text/html": [
       "<div>\n",
       "<style scoped>\n",
       "    .dataframe tbody tr th:only-of-type {\n",
       "        vertical-align: middle;\n",
       "    }\n",
       "\n",
       "    .dataframe tbody tr th {\n",
       "        vertical-align: top;\n",
       "    }\n",
       "\n",
       "    .dataframe thead th {\n",
       "        text-align: right;\n",
       "    }\n",
       "</style>\n",
       "<table border=\"1\" class=\"dataframe\">\n",
       "  <thead>\n",
       "    <tr style=\"text-align: right;\">\n",
       "      <th></th>\n",
       "      <th>Id</th>\n",
       "      <th>Predicted</th>\n",
       "    </tr>\n",
       "  </thead>\n",
       "  <tbody>\n",
       "    <tr>\n",
       "      <th>11777</th>\n",
       "      <td>10563762</td>\n",
       "      <td>0 1 2 3 4 5 6 7 8 9 10 11 12 13 14 15 16 17 18...</td>\n",
       "    </tr>\n",
       "    <tr>\n",
       "      <th>10089</th>\n",
       "      <td>10482124</td>\n",
       "      <td>0 1 2 3 4 5 6 7 8 9 10 11 12 13 14 15 16 17 18...</td>\n",
       "    </tr>\n",
       "    <tr>\n",
       "      <th>14068</th>\n",
       "      <td>10671561</td>\n",
       "      <td>0 1 2 3 4 5 6 7 8 9 10 11 12 13 14 15 16 17 18...</td>\n",
       "    </tr>\n",
       "    <tr>\n",
       "      <th>9823</th>\n",
       "      <td>10467756</td>\n",
       "      <td>0 1 2 3 4 5 6 7 8 9 10 11 12 13 14 15 16 17 18...</td>\n",
       "    </tr>\n",
       "    <tr>\n",
       "      <th>20394</th>\n",
       "      <td>20341750</td>\n",
       "      <td>0 1 2 3 4 5 6 7 8 9 10 11 12 13 14 15 16 17 18...</td>\n",
       "    </tr>\n",
       "    <tr>\n",
       "      <th>1504</th>\n",
       "      <td>10072323</td>\n",
       "      <td>0 1 2 3 4 5 6 7 8 9 10 11 12 13 14 15 16 17 18...</td>\n",
       "    </tr>\n",
       "    <tr>\n",
       "      <th>13993</th>\n",
       "      <td>10668344</td>\n",
       "      <td>0 1 2 3 4 5 6 7 8 9 10 11 12 13 14 15 16 17 18...</td>\n",
       "    </tr>\n",
       "    <tr>\n",
       "      <th>19505</th>\n",
       "      <td>20246222</td>\n",
       "      <td>0 1 2 3 4 5 6 7 8 9 10 11 12 13 14 15 16 17 18...</td>\n",
       "    </tr>\n",
       "    <tr>\n",
       "      <th>31226</th>\n",
       "      <td>21511549</td>\n",
       "      <td>0 1 2 3 4 5 6 7 8 9 10 11 12 13 14 15 16 17 18...</td>\n",
       "    </tr>\n",
       "    <tr>\n",
       "      <th>12334</th>\n",
       "      <td>10592213</td>\n",
       "      <td>0 1 2 3 4 5 6 7 8 9 10 11 12 13 14 15 16 17 18...</td>\n",
       "    </tr>\n",
       "  </tbody>\n",
       "</table>\n",
       "</div>"
      ],
      "text/plain": [
       "             Id                                          Predicted\n",
       "11777  10563762  0 1 2 3 4 5 6 7 8 9 10 11 12 13 14 15 16 17 18...\n",
       "10089  10482124  0 1 2 3 4 5 6 7 8 9 10 11 12 13 14 15 16 17 18...\n",
       "14068  10671561  0 1 2 3 4 5 6 7 8 9 10 11 12 13 14 15 16 17 18...\n",
       "9823   10467756  0 1 2 3 4 5 6 7 8 9 10 11 12 13 14 15 16 17 18...\n",
       "20394  20341750  0 1 2 3 4 5 6 7 8 9 10 11 12 13 14 15 16 17 18...\n",
       "1504   10072323  0 1 2 3 4 5 6 7 8 9 10 11 12 13 14 15 16 17 18...\n",
       "13993  10668344  0 1 2 3 4 5 6 7 8 9 10 11 12 13 14 15 16 17 18...\n",
       "19505  20246222  0 1 2 3 4 5 6 7 8 9 10 11 12 13 14 15 16 17 18...\n",
       "31226  21511549  0 1 2 3 4 5 6 7 8 9 10 11 12 13 14 15 16 17 18...\n",
       "12334  10592213  0 1 2 3 4 5 6 7 8 9 10 11 12 13 14 15 16 17 18..."
      ]
     },
     "execution_count": 10,
     "metadata": {},
     "output_type": "execute_result"
    }
   ],
   "source": [
    "sample_submission = pd.read_csv('data/sample_submission.csv')\n",
    "assert len(sample_submission) == len(submission)\n",
    "sample_submission.sample(10)"
   ]
  }
 ],
 "metadata": {
  "interpreter": {
   "hash": "74dbfc52f168b3071122cf9c0781887d6121c12f9c1b29bca56ce221bccb2a07"
  },
  "kernelspec": {
   "display_name": "Python 3.9.5 ('base')",
   "language": "python",
   "name": "python3"
  },
  "language_info": {
   "codemirror_mode": {
    "name": "ipython",
    "version": 3
   },
   "file_extension": ".py",
   "mimetype": "text/x-python",
   "name": "python",
   "nbconvert_exporter": "python",
   "pygments_lexer": "ipython3",
   "version": "3.8.12"
  },
  "orig_nbformat": 4
 },
 "nbformat": 4,
 "nbformat_minor": 2
}
