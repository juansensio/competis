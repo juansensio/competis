{
 "cells": [
  {
   "cell_type": "code",
   "execution_count": 1,
   "metadata": {},
   "outputs": [],
   "source": [
    "from glob import glob\n",
    "from src import Module, DataModule\n",
    "import torch \n",
    "import torchmetrics \n",
    "from tqdm import tqdm\n",
    "import os \n",
    "from skimage import io\n",
    "import shutil\n",
    "import numpy as np\n",
    "import pandas as pd"
   ]
  },
  {
   "cell_type": "code",
   "execution_count": 2,
   "metadata": {},
   "outputs": [
    {
     "data": {
      "text/plain": [
       "['./checkpoints/baseline-epoch=29.ckpt',\n",
       " './checkpoints/baseline-val_f1=0.83495-epoch=7.ckpt']"
      ]
     },
     "execution_count": 2,
     "metadata": {},
     "output_type": "execute_result"
    }
   ],
   "source": [
    "checkpoints = glob('./checkpoints/*')\n",
    "checkpoints"
   ]
  },
  {
   "cell_type": "code",
   "execution_count": 3,
   "metadata": {},
   "outputs": [
    {
     "data": {
      "text/plain": [
       "<All keys matched successfully>"
      ]
     },
     "execution_count": 3,
     "metadata": {},
     "output_type": "execute_result"
    }
   ],
   "source": [
    "name = \"baseline-val_f1=0.83495-epoch=7.ckpt\"\n",
    "checkpoint = f'./checkpoints/{name}'\n",
    "\n",
    "# module = Module.load_from_checkpoint(checkpoint)\n",
    "\n",
    "state_dict = torch.load(checkpoint, map_location='cpu')['state_dict']\n",
    "module = Module()\n",
    "module.load_state_dict(state_dict)\n"
   ]
  },
  {
   "cell_type": "code",
   "execution_count": 18,
   "metadata": {},
   "outputs": [],
   "source": [
    "def eval(model, device=0, th=0.5):\n",
    "\tdm = DataModule()\n",
    "\tdm.setup()\n",
    "\tmodel.eval()\n",
    "\tmodel.cuda(device)\n",
    "\tmetric = torchmetrics.F1Score(task=\"binary\", threshold=th).cuda(device)\n",
    "\twith torch.no_grad():\n",
    "\t\tpbar = tqdm(dm.val_dataloader())\n",
    "\t\tfor batch in pbar:\n",
    "\t\t\tx, y = batch\n",
    "\t\t\ty_hat = model(x.cuda(device))\n",
    "\t\t\tmetric(y_hat, y.cuda(device).float())\n",
    "\t\t\tf1 = metric.compute().cpu().item()\n",
    "\t\t\tpbar.set_description(f'F1: {f1:.5f}')\n",
    "\treturn f1"
   ]
  },
  {
   "cell_type": "code",
   "execution_count": 17,
   "metadata": {},
   "outputs": [
    {
     "name": "stderr",
     "output_type": "stream",
     "text": [
      "  0%|          | 0/32 [00:00<?, ?it/s]"
     ]
    },
    {
     "name": "stderr",
     "output_type": "stream",
     "text": [
      "F1: 0.83495: 100%|██████████| 32/32 [00:01<00:00, 19.43it/s]\n"
     ]
    },
    {
     "data": {
      "text/plain": [
       "0.8349514603614807"
      ]
     },
     "execution_count": 17,
     "metadata": {},
     "output_type": "execute_result"
    }
   ],
   "source": [
    "eval(module)"
   ]
  },
  {
   "cell_type": "markdown",
   "metadata": {},
   "source": [
    "Threshold tuning"
   ]
  },
  {
   "cell_type": "code",
   "execution_count": 19,
   "metadata": {},
   "outputs": [
    {
     "name": "stdout",
     "output_type": "stream",
     "text": [
      "Threshold: 0.1\n"
     ]
    },
    {
     "name": "stderr",
     "output_type": "stream",
     "text": [
      "F1: 0.67669: 100%|██████████| 32/32 [00:01<00:00, 19.01it/s]\n"
     ]
    },
    {
     "name": "stdout",
     "output_type": "stream",
     "text": [
      "Threshold: 0.18888888888888888\n"
     ]
    },
    {
     "name": "stderr",
     "output_type": "stream",
     "text": [
      "F1: 0.73950: 100%|██████████| 32/32 [00:01<00:00, 19.28it/s]\n"
     ]
    },
    {
     "name": "stdout",
     "output_type": "stream",
     "text": [
      "Threshold: 0.2777777777777778\n"
     ]
    },
    {
     "name": "stderr",
     "output_type": "stream",
     "text": [
      "F1: 0.78571: 100%|██████████| 32/32 [00:01<00:00, 19.14it/s]\n"
     ]
    },
    {
     "name": "stdout",
     "output_type": "stream",
     "text": [
      "Threshold: 0.3666666666666667\n"
     ]
    },
    {
     "name": "stderr",
     "output_type": "stream",
     "text": [
      "F1: 0.80734: 100%|██████████| 32/32 [00:01<00:00, 18.85it/s]\n"
     ]
    },
    {
     "name": "stdout",
     "output_type": "stream",
     "text": [
      "Threshold: 0.4555555555555556\n"
     ]
    },
    {
     "name": "stderr",
     "output_type": "stream",
     "text": [
      "F1: 0.81905: 100%|██████████| 32/32 [00:01<00:00, 19.45it/s]\n"
     ]
    },
    {
     "name": "stdout",
     "output_type": "stream",
     "text": [
      "Threshold: 0.5444444444444445\n"
     ]
    },
    {
     "name": "stderr",
     "output_type": "stream",
     "text": [
      "F1: 0.83168: 100%|██████████| 32/32 [00:02<00:00, 14.77it/s]\n"
     ]
    },
    {
     "name": "stdout",
     "output_type": "stream",
     "text": [
      "Threshold: 0.6333333333333333\n"
     ]
    },
    {
     "name": "stderr",
     "output_type": "stream",
     "text": [
      "F1: 0.82474: 100%|██████████| 32/32 [00:01<00:00, 19.86it/s]\n"
     ]
    },
    {
     "name": "stdout",
     "output_type": "stream",
     "text": [
      "Threshold: 0.7222222222222222\n"
     ]
    },
    {
     "name": "stderr",
     "output_type": "stream",
     "text": [
      "F1: 0.83333: 100%|██████████| 32/32 [00:01<00:00, 19.78it/s]\n"
     ]
    },
    {
     "name": "stdout",
     "output_type": "stream",
     "text": [
      "Threshold: 0.8111111111111111\n"
     ]
    },
    {
     "name": "stderr",
     "output_type": "stream",
     "text": [
      "F1: 0.81720: 100%|██████████| 32/32 [00:01<00:00, 19.69it/s]\n"
     ]
    },
    {
     "name": "stdout",
     "output_type": "stream",
     "text": [
      "Threshold: 0.9\n"
     ]
    },
    {
     "name": "stderr",
     "output_type": "stream",
     "text": [
      "F1: 0.78652: 100%|██████████| 32/32 [00:01<00:00, 19.43it/s]\n"
     ]
    }
   ],
   "source": [
    "thresholds = np.linspace(0.1, 0.9, 10)\n",
    "data = []\n",
    "for th in thresholds:\n",
    "\tprint(f\"Threshold: {th}\")\n",
    "\tdice = eval(module, th=th)\n",
    "\tdata.append((th, dice))"
   ]
  },
  {
   "cell_type": "code",
   "execution_count": 21,
   "metadata": {},
   "outputs": [
    {
     "data": {
      "text/plain": [
       "<Axes: xlabel='Threshold'>"
      ]
     },
     "execution_count": 21,
     "metadata": {},
     "output_type": "execute_result"
    },
    {
     "data": {
      "image/png": "[encoded data removed]",
      "text/plain": [
       "<Figure size 640x480 with 1 Axes>"
      ]
     },
     "metadata": {},
     "output_type": "display_data"
    }
   ],
   "source": [
    "df = pd.DataFrame(data, columns=[\"Threshold\", \"Dice\"])\n",
    "df.plot(x=\"Threshold\", y=\"Dice\")"
   ]
  },
  {
   "cell_type": "code",
   "execution_count": 22,
   "metadata": {},
   "outputs": [
    {
     "data": {
      "text/plain": [
       "0.7222222222222222"
      ]
     },
     "execution_count": 22,
     "metadata": {},
     "output_type": "execute_result"
    }
   ],
   "source": [
    "# get threhsold with best dice\n",
    "\n",
    "best_th = df[df.Dice == df.Dice.max()].Threshold.values[0]\n",
    "best_th"
   ]
  },
  {
   "cell_type": "code",
   "execution_count": 25,
   "metadata": {},
   "outputs": [],
   "source": [
    "def generate_predictions(model, device=1, th=0.5):\n",
    "\tdm = DataModule()\n",
    "\tdm.setup()\n",
    "\ttest_dl = dm.test_dataloader()\n",
    "\tmodel.eval()\n",
    "\tmodel.cuda(device)\n",
    "\tdata = []\n",
    "\twith torch.no_grad():\n",
    "\t\tfor batch in tqdm(test_dl):\n",
    "\t\t\tx, image_names = batch\n",
    "\t\t\ty_hat = model(x.cuda(device))\n",
    "\t\t\ty_hat = torch.sigmoid(y_hat) > th\n",
    "\t\t\ty_hat = y_hat.long().cpu().numpy()\n",
    "\t\t\tfor i, image_name in enumerate(image_names):\n",
    "\t\t\t\tdata.append((image_name, y_hat[i]))\n",
    "\treturn pd.DataFrame(data, columns=[\"image_name\", \"label\"])"
   ]
  },
  {
   "cell_type": "code",
   "execution_count": 28,
   "metadata": {},
   "outputs": [
    {
     "name": "stderr",
     "output_type": "stream",
     "text": [
      "  0%|          | 0/156 [00:00<?, ?it/s]"
     ]
    },
    {
     "name": "stderr",
     "output_type": "stream",
     "text": [
      "100%|██████████| 156/156 [00:03<00:00, 45.88it/s]\n"
     ]
    }
   ],
   "source": [
    "df = generate_predictions(module, th=best_th)"
   ]
  },
  {
   "cell_type": "code",
   "execution_count": 30,
   "metadata": {},
   "outputs": [
    {
     "data": {
      "text/html": [
       "<div>\n",
       "<style scoped>\n",
       "    .dataframe tbody tr th:only-of-type {\n",
       "        vertical-align: middle;\n",
       "    }\n",
       "\n",
       "    .dataframe tbody tr th {\n",
       "        vertical-align: top;\n",
       "    }\n",
       "\n",
       "    .dataframe thead th {\n",
       "        text-align: right;\n",
       "    }\n",
       "</style>\n",
       "<table border=\"1\" class=\"dataframe\">\n",
       "  <thead>\n",
       "    <tr style=\"text-align: right;\">\n",
       "      <th></th>\n",
       "      <th>image_name</th>\n",
       "      <th>label</th>\n",
       "    </tr>\n",
       "  </thead>\n",
       "  <tbody>\n",
       "    <tr>\n",
       "      <th>385</th>\n",
       "      <td>evaluation_0.tif</td>\n",
       "      <td>0</td>\n",
       "    </tr>\n",
       "    <tr>\n",
       "      <th>1041</th>\n",
       "      <td>evaluation_1.tif</td>\n",
       "      <td>0</td>\n",
       "    </tr>\n",
       "    <tr>\n",
       "      <th>1135</th>\n",
       "      <td>evaluation_2.tif</td>\n",
       "      <td>0</td>\n",
       "    </tr>\n",
       "    <tr>\n",
       "      <th>288</th>\n",
       "      <td>evaluation_3.tif</td>\n",
       "      <td>0</td>\n",
       "    </tr>\n",
       "    <tr>\n",
       "      <th>712</th>\n",
       "      <td>evaluation_4.tif</td>\n",
       "      <td>1</td>\n",
       "    </tr>\n",
       "    <tr>\n",
       "      <th>...</th>\n",
       "      <td>...</td>\n",
       "      <td>...</td>\n",
       "    </tr>\n",
       "    <tr>\n",
       "      <th>130</th>\n",
       "      <td>evaluation_1238.tif</td>\n",
       "      <td>0</td>\n",
       "    </tr>\n",
       "    <tr>\n",
       "      <th>570</th>\n",
       "      <td>evaluation_1239.tif</td>\n",
       "      <td>0</td>\n",
       "    </tr>\n",
       "    <tr>\n",
       "      <th>596</th>\n",
       "      <td>evaluation_1240.tif</td>\n",
       "      <td>0</td>\n",
       "    </tr>\n",
       "    <tr>\n",
       "      <th>144</th>\n",
       "      <td>evaluation_1241.tif</td>\n",
       "      <td>0</td>\n",
       "    </tr>\n",
       "    <tr>\n",
       "      <th>274</th>\n",
       "      <td>evaluation_1242.tif</td>\n",
       "      <td>0</td>\n",
       "    </tr>\n",
       "  </tbody>\n",
       "</table>\n",
       "<p>1243 rows × 2 columns</p>\n",
       "</div>"
      ],
      "text/plain": [
       "               image_name  label\n",
       "385      evaluation_0.tif      0\n",
       "1041     evaluation_1.tif      0\n",
       "1135     evaluation_2.tif      0\n",
       "288      evaluation_3.tif      0\n",
       "712      evaluation_4.tif      1\n",
       "...                   ...    ...\n",
       "130   evaluation_1238.tif      0\n",
       "570   evaluation_1239.tif      0\n",
       "596   evaluation_1240.tif      0\n",
       "144   evaluation_1241.tif      0\n",
       "274   evaluation_1242.tif      0\n",
       "\n",
       "[1243 rows x 2 columns]"
      ]
     },
     "execution_count": 30,
     "metadata": {},
     "output_type": "execute_result"
    }
   ],
   "source": [
    "df['id'] = df.image_name.apply(lambda x: int(x.split(\".\")[0].split(\"_\")[1]))\n",
    "df = df.sort_values(\"id\")\n",
    "df = df.drop(columns=\"id\")\n",
    "df"
   ]
  },
  {
   "cell_type": "code",
   "execution_count": 31,
   "metadata": {},
   "outputs": [],
   "source": [
    "df.to_csv(\"submission.csv\", index=False, header=False)"
   ]
  },
  {
   "cell_type": "code",
   "execution_count": 32,
   "metadata": {},
   "outputs": [
    {
     "data": {
      "text/plain": [
       "0    1030\n",
       "1     213\n",
       "Name: label, dtype: int64"
      ]
     },
     "execution_count": 32,
     "metadata": {},
     "output_type": "execute_result"
    }
   ],
   "source": [
    "df.label.value_counts()"
   ]
  }
 ],
 "metadata": {
  "kernelspec": {
   "display_name": "peo",
   "language": "python",
   "name": "python3"
  },
  "language_info": {
   "codemirror_mode": {
    "name": "ipython",
    "version": 3
   },
   "file_extension": ".py",
   "mimetype": "text/x-python",
   "name": "python",
   "nbconvert_exporter": "python",
   "pygments_lexer": "ipython3",
   "version": "3.8.18"
  }
 },
 "nbformat": 4,
 "nbformat_minor": 2
}
