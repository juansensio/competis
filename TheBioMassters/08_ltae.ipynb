{
 "cells": [
  {
   "cell_type": "code",
   "execution_count": 1,
   "metadata": {},
   "outputs": [],
   "source": [
    "%load_ext autoreload\n",
    "%autoreload 2"
   ]
  },
  {
   "cell_type": "code",
   "execution_count": 2,
   "metadata": {},
   "outputs": [
    {
     "name": "stdout",
     "output_type": "stream",
     "text": [
      "train: 8689\n",
      "test: 2773\n"
     ]
    }
   ],
   "source": [
    "from src.dm import DataModule\n",
    "\n",
    "dm = DataModule(batch_size=4)\n",
    "dm.setup()"
   ]
  },
  {
   "cell_type": "code",
   "execution_count": 3,
   "metadata": {},
   "outputs": [
    {
     "data": {
      "text/plain": [
       "(torch.Size([4, 12, 2, 256, 256]),\n",
       " torch.Size([4, 12, 3, 256, 256]),\n",
       " tensor(1.),\n",
       " tensor(0.))"
      ]
     },
     "execution_count": 3,
     "metadata": {},
     "output_type": "execute_result"
    }
   ],
   "source": [
    "x, labels = next(iter(dm.train_dataloader()))\n",
    "\n",
    "s1, s2 = x\n",
    "s1.shape, s2.shape, s2.max(), s2.min()"
   ]
  },
  {
   "cell_type": "code",
   "execution_count": 4,
   "metadata": {},
   "outputs": [
    {
     "name": "stdout",
     "output_type": "stream",
     "text": [
      "torch.Size([16384, 1, 24]) torch.Size([16384, 24, 16])\n",
      "torch.Size([65536, 1, 24]) torch.Size([65536, 24, 8])\n",
      "torch.Size([262144, 1, 24]) torch.Size([262144, 24, 4])\n",
      "torch.Size([1048576, 1, 24]) torch.Size([1048576, 24, 4])\n"
     ]
    },
    {
     "data": {
      "text/plain": [
       "torch.Size([4, 256, 256])"
      ]
     },
     "execution_count": 4,
     "metadata": {},
     "output_type": "execute_result"
    }
   ],
   "source": [
    "from src.models.unet_ltae import UNetLTAE\n",
    "\n",
    "hparams = {\n",
    "\t'encoder': 'resnet18',\n",
    "\t'pretrained': None, \n",
    "\t'in_channels_s1': 2,\n",
    "\t'in_channels_s2': 3,\n",
    "\t'n_head': 16\n",
    "}\n",
    "\n",
    "model = UNetLTAE(hparams).cuda()\n",
    "\n",
    "x = (s1.cuda(), s2.cuda())\n",
    "outputs = model(x)\n",
    "\n",
    "outputs.shape"
   ]
  },
  {
   "cell_type": "code",
   "execution_count": 5,
   "metadata": {},
   "outputs": [
    {
     "name": "stderr",
     "output_type": "stream",
     "text": [
      "Using 16bit native Automatic Mixed Precision (AMP)\n",
      "GPU available: True, used: True\n",
      "TPU available: False, using: 0 TPU cores\n",
      "IPU available: False, using: 0 IPUs\n",
      "HPU available: False, using: 0 HPUs\n",
      "`Trainer(overfit_batches=1)` was configured so 1 batch will be used.\n",
      "LOCAL_RANK: 0 - CUDA_VISIBLE_DEVICES: [0,1]\n",
      "\n",
      "  | Name              | Type             | Params\n",
      "-------------------------------------------------------\n",
      "0 | encoder1          | ResNetEncoder    | 11.2 M\n",
      "1 | encoder2          | ResNetEncoder    | 11.2 M\n",
      "2 | decoder           | UnetDecoder      | 3.2 M \n",
      "3 | segmentation_head | SegmentationHead | 145   \n",
      "4 | ltae              | LTAE             | 1.3 M \n",
      "-------------------------------------------------------\n",
      "26.7 M    Trainable params\n",
      "25.6 K    Non-trainable params\n",
      "26.8 M    Total params\n",
      "53.522    Total estimated model params size (MB)\n"
     ]
    },
    {
     "name": "stdout",
     "output_type": "stream",
     "text": [
      "train: 8689\n",
      "test: 2773\n"
     ]
    },
    {
     "name": "stderr",
     "output_type": "stream",
     "text": [
      "/home/juan/miniconda3/lib/python3.8/site-packages/pytorch_lightning/trainer/connectors/data_connector.py:471: UserWarning: You requested to overfit but enabled training dataloader shuffling. We are turning off the training dataloader shuffling for you.\n",
      "  rank_zero_warn(\n",
      "/home/juan/miniconda3/lib/python3.8/site-packages/pytorch_lightning/trainer/connectors/data_connector.py:240: PossibleUserWarning: The dataloader, train_dataloader, does not have many workers which may be a bottleneck. Consider increasing the value of the `num_workers` argument` (try 20 which is the number of cpus on this machine) in the `DataLoader` init to improve performance.\n",
      "  rank_zero_warn(\n"
     ]
    },
    {
     "data": {
      "application/vnd.jupyter.widget-view+json": {
       "model_id": "246cc12d400d42a2ad73e30d22fedb4a",
       "version_major": 2,
       "version_minor": 0
      },
      "text/plain": [
       "Training: 0it [00:00, ?it/s]"
      ]
     },
     "metadata": {},
     "output_type": "display_data"
    }
   ],
   "source": [
    "import pytorch_lightning as pl\n",
    "\n",
    "dm = DataModule(batch_size=4)\n",
    "\n",
    "hparams = {\n",
    "\t'encoder': 'resnet18',\n",
    "\t'pretrained': 'imagenet',\n",
    "\t'in_channels_s1': 2,\n",
    "\t'in_channels_s2': 3,\n",
    "\t'optimizer': 'Adam',\n",
    "\t'n_head': 16,\n",
    "\t'optimizer_params': {\n",
    "\t\t'lr': 1e-3\n",
    "\t},\n",
    "}\n",
    "\n",
    "module = UNetLTAE(hparams)\n",
    "\n",
    "trainer = pl.Trainer(\n",
    "\tgpus=1,\n",
    "\tprecision=16,\n",
    "\toverfit_batches=1,\n",
    "\tmax_epochs=300,\n",
    "\tlogger=None,\n",
    "\tenable_checkpointing=False,\n",
    ")\n",
    "\n",
    "trainer.fit(module, dm)"
   ]
  },
  {
   "cell_type": "code",
   "execution_count": 4,
   "metadata": {},
   "outputs": [],
   "source": [
    "from src.models.ltae import LTAE\n",
    "\n",
    "ltae = LTAE(\n",
    "\tin_channels=512,\n",
    "\tlen_max_seq=24,\n",
    "\treturn_att=True,\n",
    "\tn_neurons=[512*2, 512],\n",
    "\td_model=512*2,\n",
    ").cuda()"
   ]
  },
  {
   "cell_type": "code",
   "execution_count": 12,
   "metadata": {},
   "outputs": [
    {
     "data": {
      "text/plain": [
       "torch.Size([4, 24, 512, 8, 8])"
      ]
     },
     "execution_count": 12,
     "metadata": {},
     "output_type": "execute_result"
    }
   ],
   "source": [
    "import torch \n",
    "\n",
    "x = torch.randn(4, 24, 512, 8, 8) # sample feature at lowest level\n",
    "x.shape"
   ]
  },
  {
   "cell_type": "code",
   "execution_count": 13,
   "metadata": {},
   "outputs": [
    {
     "data": {
      "text/plain": [
       "torch.Size([256, 24, 512])"
      ]
     },
     "execution_count": 13,
     "metadata": {},
     "output_type": "execute_result"
    }
   ],
   "source": [
    "# apply shared ltae to each pixel\n",
    "\n",
    "from einops import rearrange\n",
    "\n",
    "x = rearrange(x, 'b t c h w -> (b h w) t c')\n",
    "x.shape "
   ]
  },
  {
   "cell_type": "code",
   "execution_count": 15,
   "metadata": {},
   "outputs": [],
   "source": [
    "out, att = ltae(x.cuda())"
   ]
  },
  {
   "cell_type": "code",
   "execution_count": 18,
   "metadata": {},
   "outputs": [
    {
     "data": {
      "text/plain": [
       "(torch.Size([256, 512]), torch.Size([4, 512, 8, 8]))"
      ]
     },
     "execution_count": 18,
     "metadata": {},
     "output_type": "execute_result"
    }
   ],
   "source": [
    "out.shape, rearrange(out, '(b h w) c -> b c h w', h=8, w=8).shape"
   ]
  },
  {
   "cell_type": "code",
   "execution_count": 19,
   "metadata": {},
   "outputs": [
    {
     "data": {
      "text/plain": [
       "torch.Size([16, 256, 24])"
      ]
     },
     "execution_count": 19,
     "metadata": {},
     "output_type": "execute_result"
    }
   ],
   "source": [
    "att.shape # N heads, batch, seq_len"
   ]
  },
  {
   "cell_type": "code",
   "execution_count": 20,
   "metadata": {},
   "outputs": [
    {
     "data": {
      "text/plain": [
       "torch.Size([16, 4, 24, 8, 8])"
      ]
     },
     "execution_count": 20,
     "metadata": {},
     "output_type": "execute_result"
    }
   ],
   "source": [
    "rearrange(att, 'nh (b h w) t -> nh b t h w', h=8, w=8).shape"
   ]
  }
 ],
 "metadata": {
  "kernelspec": {
   "display_name": "Python 3.8.12 ('base')",
   "language": "python",
   "name": "python3"
  },
  "language_info": {
   "codemirror_mode": {
    "name": "ipython",
    "version": 3
   },
   "file_extension": ".py",
   "mimetype": "text/x-python",
   "name": "python",
   "nbconvert_exporter": "python",
   "pygments_lexer": "ipython3",
   "version": "3.8.12"
  },
  "orig_nbformat": 4,
  "vscode": {
   "interpreter": {
    "hash": "74dbfc52f168b3071122cf9c0781887d6121c12f9c1b29bca56ce221bccb2a07"
   }
  }
 },
 "nbformat": 4,
 "nbformat_minor": 2
}
