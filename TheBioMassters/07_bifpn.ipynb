{
 "cells": [
  {
   "cell_type": "code",
   "execution_count": 53,
   "metadata": {},
   "outputs": [
    {
     "name": "stdout",
     "output_type": "stream",
     "text": [
      "The autoreload extension is already loaded. To reload it, use:\n",
      "  %reload_ext autoreload\n"
     ]
    }
   ],
   "source": [
    "%load_ext autoreload\n",
    "%autoreload 2"
   ]
  },
  {
   "cell_type": "code",
   "execution_count": 54,
   "metadata": {},
   "outputs": [],
   "source": [
    "from src.bifpn import ResampleFeatureMap, BiFpn\n",
    "import torch\n",
    "import timm"
   ]
  },
  {
   "cell_type": "code",
   "execution_count": 55,
   "metadata": {},
   "outputs": [
    {
     "data": {
      "text/plain": [
       "(torch.Size([1, 40, 64, 64]), torch.Size([1, 112, 32, 32]))"
      ]
     },
     "execution_count": 55,
     "metadata": {},
     "output_type": "execute_result"
    }
   ],
   "source": [
    "# downsampling\n",
    "inp = torch.randn(1, 40, 64, 64)\n",
    "resample = ResampleFeatureMap(in_channels=40, out_channels=112, reduction_ratio=2)\n",
    "out = resample(inp)\n",
    "inp.shape, out.shape"
   ]
  },
  {
   "cell_type": "code",
   "execution_count": 56,
   "metadata": {},
   "outputs": [
    {
     "data": {
      "text/plain": [
       "(torch.Size([1, 40, 64, 64]), torch.Size([1, 112, 128, 128]))"
      ]
     },
     "execution_count": 56,
     "metadata": {},
     "output_type": "execute_result"
    }
   ],
   "source": [
    "# upsampling\n",
    "inp = torch.randn(1, 40, 64, 64)\n",
    "resample = ResampleFeatureMap(in_channels=40, out_channels=112, reduction_ratio=0.5)\n",
    "out = resample(inp)\n",
    "inp.shape, out.shape"
   ]
  },
  {
   "cell_type": "code",
   "execution_count": 57,
   "metadata": {},
   "outputs": [],
   "source": [
    "from typing import Callable\n",
    "\n",
    "def get_feature_info(backbone):\n",
    "    if isinstance(backbone.feature_info, Callable):\n",
    "        # old accessor for timm versions <= 0.1.30, efficientnet and mobilenetv3 and related nets only\n",
    "        feature_info = [dict(num_chs=f['num_chs'], reduction=f['reduction'])\n",
    "                        for i, f in enumerate(backbone.feature_info())]\n",
    "    else:\n",
    "        # new feature info accessor, timm >= 0.2, all models supported\n",
    "        feature_info = backbone.feature_info.get_dicts(keys=['num_chs', 'reduction'])\n",
    "    return feature_info"
   ]
  },
  {
   "cell_type": "code",
   "execution_count": 58,
   "metadata": {},
   "outputs": [
    {
     "data": {
      "text/plain": [
       "[{'num_chs': 64, 'reduction': 2},\n",
       " {'num_chs': 64, 'reduction': 4},\n",
       " {'num_chs': 128, 'reduction': 8},\n",
       " {'num_chs': 256, 'reduction': 16},\n",
       " {'num_chs': 512, 'reduction': 32}]"
      ]
     },
     "execution_count": 58,
     "metadata": {},
     "output_type": "execute_result"
    }
   ],
   "source": [
    "backbone = timm.create_model(\n",
    "        'resnet18', features_only=True, out_indices=(0, 1, 2, 3, 4),\n",
    "        pretrained=True)\n",
    "\n",
    "feature_info = get_feature_info(backbone)\n",
    "feature_info"
   ]
  },
  {
   "cell_type": "code",
   "execution_count": 59,
   "metadata": {},
   "outputs": [],
   "source": [
    "fpn = BiFpn(feature_info)"
   ]
  },
  {
   "cell_type": "code",
   "execution_count": 60,
   "metadata": {},
   "outputs": [
    {
     "name": "stdout",
     "output_type": "stream",
     "text": [
      "torch.Size([16, 64, 128, 128])\n",
      "torch.Size([16, 64, 64, 64])\n",
      "torch.Size([16, 128, 32, 32])\n",
      "torch.Size([16, 256, 16, 16])\n",
      "torch.Size([16, 512, 8, 8])\n"
     ]
    }
   ],
   "source": [
    "inputs = torch.randn(16, 3, 256, 256)\n",
    "features = backbone(inputs)\n",
    "for f in features:\n",
    "    print(f.shape)"
   ]
  },
  {
   "cell_type": "code",
   "execution_count": 61,
   "metadata": {},
   "outputs": [
    {
     "name": "stdout",
     "output_type": "stream",
     "text": [
      "torch.Size([16, 64, 128, 128])\n",
      "torch.Size([16, 64, 64, 64])\n",
      "torch.Size([16, 64, 32, 32])\n",
      "torch.Size([16, 64, 16, 16])\n",
      "torch.Size([16, 64, 8, 8])\n"
     ]
    }
   ],
   "source": [
    "out = fpn(features)\n",
    "for f in out:\n",
    "    print(f.shape)"
   ]
  },
  {
   "cell_type": "code",
   "execution_count": null,
   "metadata": {},
   "outputs": [],
   "source": []
  }
 ],
 "metadata": {
  "kernelspec": {
   "display_name": "Python 3.9.13 ('pt13')",
   "language": "python",
   "name": "python3"
  },
  "language_info": {
   "codemirror_mode": {
    "name": "ipython",
    "version": 3
   },
   "file_extension": ".py",
   "mimetype": "text/x-python",
   "name": "python",
   "nbconvert_exporter": "python",
   "pygments_lexer": "ipython3",
   "version": "3.9.13"
  },
  "orig_nbformat": 4,
  "vscode": {
   "interpreter": {
    "hash": "87737d714d6bd62df22f1701e7e2d9f6343625b39ab22cf737f399371de04c71"
   }
  }
 },
 "nbformat": 4,
 "nbformat_minor": 2
}
