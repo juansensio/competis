{
 "cells": [
  {
   "cell_type": "code",
   "execution_count": 1,
   "metadata": {},
   "outputs": [],
   "source": [
    "%load_ext autoreload\n",
    "%autoreload 2"
   ]
  },
  {
   "cell_type": "code",
   "execution_count": 2,
   "metadata": {},
   "outputs": [],
   "source": [
    "from src.dm import DataModule2 as DataModule\n",
    "from src.models.unet_ltae import UNetLTAE\n",
    "from src.models.unet_df import UNetDF2"
   ]
  },
  {
   "cell_type": "code",
   "execution_count": 3,
   "metadata": {},
   "outputs": [],
   "source": [
    "import torch \n",
    "\n",
    "checkpoint = [\n",
    "    ('checkpoints/dfta_oc-val_metric=29.47327-epoch=368.ckpt', UNetLTAE, {\n",
    "        'encoder': 'resnet18',\n",
    "        'pretrained': 'imagenet',\n",
    "        'in_channels_s1': 2,\n",
    "        'in_channels_s2': 6,\n",
    "        'seq_len': 12,\n",
    "        'n_head': 16,\n",
    "    }),\n",
    "    #     ('checkpoints/dftar50-val_metric=29.42491-epoch=277.ckpt', UNetLTAE, {\n",
    "    #     'encoder': 'timm-resnest50d',\n",
    "    #     'pretrained': 'imagenet',\n",
    "    #     'in_channels_s1': 2,\n",
    "    #     'in_channels_s2': 6,\n",
    "    #     'seq_len': 12,\n",
    "    #     'n_head': 16,\n",
    "    # }),\n",
    "    ('checkpoints/dft2_oc-val_metric=29.71048-epoch=431.ckpt', UNetDF2, {\n",
    "        'encoder': 'resnet18',\n",
    "        'pretrained': 'imagenet',\n",
    "        'in_channels_s1': 2,\n",
    "        'in_channels_s2': 6,\n",
    "        'seq_len': 12,\n",
    "    })\n",
    "]"
   ]
  },
  {
   "cell_type": "code",
   "execution_count": 4,
   "metadata": {},
   "outputs": [
    {
     "name": "stdout",
     "output_type": "stream",
     "text": [
      "train: 6951\n",
      "val: 1738\n",
      "test: 2773\n"
     ]
    }
   ],
   "source": [
    "dm = DataModule(val_size=0.2, num_workers=10, pin_memory=True, batch_size=4)\n",
    "dm.setup()"
   ]
  },
  {
   "cell_type": "code",
   "execution_count": 5,
   "metadata": {},
   "outputs": [],
   "source": [
    "class Identity:\n",
    "    def __call__(self, x):\n",
    "        return x\n",
    "\n",
    "class Rot90:\n",
    "    def __init__(self, axes=(2, 3)):\n",
    "        self.axes = axes\n",
    "    def __call__(self, x):\n",
    "        return torch.rot90(x, 1, self.axes)\n",
    "\n",
    "class Rot180:\n",
    "    def __init__(self, axes=(2, 3)):\n",
    "        self.axes = axes\n",
    "    def __call__(self, x):\n",
    "        return torch.rot90(x, 2, self.axes)\n",
    "\n",
    "class Rot270:\n",
    "    def __init__(self, axes=(2, 3)):\n",
    "        self.axes = axes\n",
    "    def __call__(self, x):\n",
    "        return torch.rot90(x, 3, self.axes)\n",
    "\n",
    "class Flip:\n",
    "    def __init__(self, axis=2):\n",
    "        self.axis = axis\n",
    "    def __call__(self, x):\n",
    "        return torch.flip(x, [self.axis])\n",
    "\n",
    "class Transpose:\n",
    "    def __init__(self, axes=(2, 3)):\n",
    "        self.axes = axes\n",
    "    def __call__(self, x):\n",
    "        return torch.transpose(x, self.axes[0], self.axes[1])\n",
    "\n",
    "trans = [\n",
    "    (Identity(), Identity()),\n",
    "    (Rot90(), Rot270()),\n",
    "    (Rot180(), Rot180()),\n",
    "    (Rot270(), Rot90()),\n",
    "    (Flip(2), Flip(2)),\n",
    "    (Flip(3), Flip(3)),\n",
    "    (Transpose(), Transpose()),\n",
    "]"
   ]
  },
  {
   "cell_type": "code",
   "execution_count": 6,
   "metadata": {},
   "outputs": [
    {
     "name": "stderr",
     "output_type": "stream",
     "text": [
      "100%|██████████| 435/435 [02:31<00:00,  2.88it/s]\n",
      "100%|██████████| 435/435 [08:41<00:00,  1.20s/it]\n",
      "100%|██████████| 435/435 [02:23<00:00,  3.03it/s]\n"
     ]
    },
    {
     "data": {
      "text/plain": [
       "28.655288696289062"
      ]
     },
     "execution_count": 6,
     "metadata": {},
     "output_type": "execute_result"
    }
   ],
   "source": [
    "from tqdm import tqdm \n",
    "\n",
    "trans = [\n",
    "    (Identity(), Identity()),\n",
    "    (Rot90(), Rot270(axes=(1, 2))),\n",
    "    (Rot180(), Rot180(axes=(1, 2))),\n",
    "    (Rot270(), Rot90(axes=(1, 2))),\n",
    "    (Flip(2), Flip(1)),\n",
    "    (Flip(3), Flip(2)),\n",
    "    (Transpose(), Transpose(axes=(1, 2))),\n",
    "]\n",
    "\n",
    "dl = dm.val_dataloader(batch_size=4, shuffle=False)\n",
    "s1, s2, labels = next(iter(dl))\n",
    "\n",
    "mpreds = []\n",
    "for ckpt, Module, hparams in checkpoint:\n",
    "    state_dict = torch.load(ckpt)['state_dict']\n",
    "    module = Module(hparams)\n",
    "    module.load_state_dict(state_dict)\n",
    "    module.cuda(1)\n",
    "    metrics = []\n",
    "    bpreds, ys = [], []\n",
    "    for batch in tqdm(dl):\n",
    "        x1, x2, y = batch\n",
    "        ys += [y]\n",
    "        s1, s2 = x1.cuda(1), x2.cuda(1)\n",
    "        preds = []\n",
    "        for t1, t2 in trans:\n",
    "            preds.append(t2(module.predict(t1(s1), t1(s2))))\n",
    "        preds = torch.stack(preds).mean(0).cpu()\n",
    "        bpreds += [preds]\n",
    "    bpreds = torch.cat(bpreds)\n",
    "    mpreds += [bpreds]\n",
    "mpreds = torch.stack(mpreds).mean(0)\n",
    "ys = torch.cat(ys)\n",
    "torch.mean(torch.sqrt(torch.mean((mpreds * 12905.3 - ys * 12905.3)**2, dim=(1, 2)))).item()"
   ]
  },
  {
   "cell_type": "code",
   "execution_count": 37,
   "metadata": {},
   "outputs": [
    {
     "name": "stderr",
     "output_type": "stream",
     "text": [
      "4it [00:01,  2.13it/s]\n",
      "4it [00:02,  1.91it/s]\n"
     ]
    }
   ],
   "source": [
    "from tqdm import tqdm \n",
    "from skimage.io import imsave\n",
    "\n",
    "dl = dm.test_dataloader(batch_size=4)\n",
    "\n",
    "trans = [\n",
    "    (Identity(), Identity()),\n",
    "    (Rot90(), Rot270(axes=(1, 2))),\n",
    "    (Rot180(), Rot180(axes=(1, 2))),\n",
    "    (Rot270(), Rot90(axes=(1, 2))),\n",
    "    (Flip(2), Flip(1)),\n",
    "    (Flip(3), Flip(2)),\n",
    "    (Transpose(), Transpose(axes=(1, 2))),\n",
    "]\n",
    "\n",
    "mpreds = []\n",
    "for chkpt, Module, hparams in checkpoint:\n",
    "\tstate_dict = torch.load(chkpt)['state_dict']\n",
    "\tmodule = Module(hparams)\n",
    "\tmodule.load_state_dict(state_dict)\n",
    "\tmodule.cuda(1)\n",
    "\tbpreds, ys = [], []\n",
    "\tfor s1, s2, chip_ids in tqdm(dl):\n",
    "\t\ts1, s2 = s1.cuda(1), s2.cuda(1)\n",
    "\t\tys += chip_ids\n",
    "\t\tpreds = []\n",
    "\t\tfor t1, t2 in trans:\n",
    "\t\t\tpreds.append(t2(module.predict(t1(s1), t1(s2))))\n",
    "\t\tpreds = torch.stack(preds).mean(0).cpu()\n",
    "\t\tpreds = preds * 12905.3\n",
    "\t\tbpreds += [preds]\n",
    "\tbpreds = torch.cat(bpreds)\n",
    "\tmpreds += [bpreds]\n",
    "mpreds = torch.stack(mpreds).mean(0)\n",
    "\n",
    "for chip_id, pred in zip(ys, mpreds):\n",
    "\timsave(f'./submission/{chip_id}_agbm.tif', pred.numpy())"
   ]
  },
  {
   "cell_type": "code",
   "execution_count": 28,
   "metadata": {},
   "outputs": [],
   "source": [
    "import glob \n",
    "\n",
    "files = glob.glob('./submission/*.tif')\n",
    "assert len(files) == 2773"
   ]
  },
  {
   "cell_type": "code",
   "execution_count": 29,
   "metadata": {},
   "outputs": [
    {
     "data": {
      "text/plain": [
       "'/home/juan/Desktop/competis/TheBioMassters/submission.zip'"
      ]
     },
     "execution_count": 29,
     "metadata": {},
     "output_type": "execute_result"
    }
   ],
   "source": [
    "# zip folder \n",
    "\n",
    "import shutil\n",
    "shutil.make_archive('submission', 'zip', './submission')"
   ]
  },
  {
   "cell_type": "code",
   "execution_count": 30,
   "metadata": {},
   "outputs": [
    {
     "name": "stderr",
     "output_type": "stream",
     "text": [
      "/home/juan/miniconda3/lib/python3.8/site-packages/rasterio/__init__.py:220: NotGeoreferencedWarning: Dataset has no geotransform, gcps, or rpcs. The identity matrix be returned.\n",
      "  s = DatasetReader(path, driver=driver, sharing=sharing, **kwargs)\n"
     ]
    },
    {
     "data": {
      "text/plain": [
       "((1,), (256, 256), 1)"
      ]
     },
     "execution_count": 30,
     "metadata": {},
     "output_type": "execute_result"
    }
   ],
   "source": [
    "import rasterio as rio\n",
    "import numpy as np\n",
    "\n",
    "ix = np.random.randint(0, len(files))\n",
    "ds = rio.open(files[ix])\n",
    "\n",
    "ds.indexes, ds.shape, ds.count"
   ]
  },
  {
   "cell_type": "code",
   "execution_count": 31,
   "metadata": {},
   "outputs": [
    {
     "data": {
      "text/plain": [
       "((256, 256), dtype('float32'), 8.576973e-09, 329.09583)"
      ]
     },
     "execution_count": 31,
     "metadata": {},
     "output_type": "execute_result"
    }
   ],
   "source": [
    "x = ds.read(1)\n",
    "\n",
    "x.shape, x.dtype, x.min(), x.max()"
   ]
  },
  {
   "cell_type": "code",
   "execution_count": 34,
   "metadata": {},
   "outputs": [
    {
     "data": {
      "image/png": "[encoded data removed]",
      "text/plain": [
       "<Figure size 432x288 with 1 Axes>"
      ]
     },
     "metadata": {
      "needs_background": "light"
     },
     "output_type": "display_data"
    }
   ],
   "source": [
    "import matplotlib.pyplot as plt\n",
    "\n",
    "plt.imshow(x)\n",
    "plt.show()"
   ]
  },
  {
   "cell_type": "code",
   "execution_count": null,
   "metadata": {},
   "outputs": [],
   "source": []
  }
 ],
 "metadata": {
  "kernelspec": {
   "display_name": "Python 3.8.10 ('base')",
   "language": "python",
   "name": "python3"
  },
  "language_info": {
   "codemirror_mode": {
    "name": "ipython",
    "version": 3
   },
   "file_extension": ".py",
   "mimetype": "text/x-python",
   "name": "python",
   "nbconvert_exporter": "python",
   "pygments_lexer": "ipython3",
   "version": "3.8.12 (default, Oct 12 2021, 13:49:34) \n[GCC 7.5.0]"
  },
  "orig_nbformat": 4,
  "vscode": {
   "interpreter": {
    "hash": "74dbfc52f168b3071122cf9c0781887d6121c12f9c1b29bca56ce221bccb2a07"
   }
  }
 },
 "nbformat": 4,
 "nbformat_minor": 2
}
